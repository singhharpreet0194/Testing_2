{
  "cells": [
    {
      "cell_type": "code",
      "execution_count": 340,
      "metadata": {
        "id": "MFpM9b2e-Nug"
      },
      "outputs": [],
      "source": [
        "import numpy as np\n",
        "import pandas as pd\n",
        "import pandas as pd\n",
        "import seaborn as sns\n",
        "import matplotlib.pyplot as plt\n",
        "import seaborn as sns"
      ]
    },
    {
      "cell_type": "code",
      "execution_count": 341,
      "metadata": {
        "id": "ceM0rU1B-Rzt"
      },
      "outputs": [],
      "source": [
        "df=pd.read_excel('/content/Capstone.xlsx')"
      ]
    },
    {
      "cell_type": "code",
      "execution_count": 342,
      "metadata": {
        "colab": {
          "base_uri": "https://localhost:8080/",
          "height": 295
        },
        "id": "URfzp_FaZAQP",
        "outputId": "040ac585-2b56-4191-f103-3f327d6c2b15"
      },
      "outputs": [
        {
          "output_type": "execute_result",
          "data": {
            "text/plain": [
              "   AccountID  Churn Tenure  City_Tier  CC_Contacted_LY      Payment  Gender  \\\n",
              "0      20000      1      4        3.0              6.0   Debit Card  Female   \n",
              "1      20001      1      0        1.0              8.0          UPI    Male   \n",
              "2      20002      1      0        1.0             30.0   Debit Card    Male   \n",
              "3      20003      1      0        3.0             15.0   Debit Card    Male   \n",
              "4      20004      1      0        1.0             12.0  Credit Card    Male   \n",
              "\n",
              "   Service_Score Account_user_count account_segment  CC_Agent_Score  \\\n",
              "0            3.0                  3           Super             2.0   \n",
              "1            3.0                  4    Regular Plus             3.0   \n",
              "2            2.0                  4    Regular Plus             3.0   \n",
              "3            2.0                  4           Super             5.0   \n",
              "4            2.0                  3    Regular Plus             5.0   \n",
              "\n",
              "  Marital_Status rev_per_month  Complain_ly rev_growth_yoy  \\\n",
              "0         Single             9          1.0             11   \n",
              "1         Single             7          1.0             15   \n",
              "2         Single             6          1.0             14   \n",
              "3         Single             8          0.0             23   \n",
              "4         Single             3          0.0             11   \n",
              "\n",
              "  coupon_used_for_payment Day_Since_CC_connect cashback Login_device  \n",
              "0                       1                    5   159.93       Mobile  \n",
              "1                       0                    0    120.9       Mobile  \n",
              "2                       0                    3      NaN       Mobile  \n",
              "3                       0                    3   134.07       Mobile  \n",
              "4                       1                    3    129.6       Mobile  "
            ],
            "text/html": [
              "\n",
              "  <div id=\"df-00ea2a64-988e-46c8-accb-256f17b46712\" class=\"colab-df-container\">\n",
              "    <div>\n",
              "<style scoped>\n",
              "    .dataframe tbody tr th:only-of-type {\n",
              "        vertical-align: middle;\n",
              "    }\n",
              "\n",
              "    .dataframe tbody tr th {\n",
              "        vertical-align: top;\n",
              "    }\n",
              "\n",
              "    .dataframe thead th {\n",
              "        text-align: right;\n",
              "    }\n",
              "</style>\n",
              "<table border=\"1\" class=\"dataframe\">\n",
              "  <thead>\n",
              "    <tr style=\"text-align: right;\">\n",
              "      <th></th>\n",
              "      <th>AccountID</th>\n",
              "      <th>Churn</th>\n",
              "      <th>Tenure</th>\n",
              "      <th>City_Tier</th>\n",
              "      <th>CC_Contacted_LY</th>\n",
              "      <th>Payment</th>\n",
              "      <th>Gender</th>\n",
              "      <th>Service_Score</th>\n",
              "      <th>Account_user_count</th>\n",
              "      <th>account_segment</th>\n",
              "      <th>CC_Agent_Score</th>\n",
              "      <th>Marital_Status</th>\n",
              "      <th>rev_per_month</th>\n",
              "      <th>Complain_ly</th>\n",
              "      <th>rev_growth_yoy</th>\n",
              "      <th>coupon_used_for_payment</th>\n",
              "      <th>Day_Since_CC_connect</th>\n",
              "      <th>cashback</th>\n",
              "      <th>Login_device</th>\n",
              "    </tr>\n",
              "  </thead>\n",
              "  <tbody>\n",
              "    <tr>\n",
              "      <th>0</th>\n",
              "      <td>20000</td>\n",
              "      <td>1</td>\n",
              "      <td>4</td>\n",
              "      <td>3.0</td>\n",
              "      <td>6.0</td>\n",
              "      <td>Debit Card</td>\n",
              "      <td>Female</td>\n",
              "      <td>3.0</td>\n",
              "      <td>3</td>\n",
              "      <td>Super</td>\n",
              "      <td>2.0</td>\n",
              "      <td>Single</td>\n",
              "      <td>9</td>\n",
              "      <td>1.0</td>\n",
              "      <td>11</td>\n",
              "      <td>1</td>\n",
              "      <td>5</td>\n",
              "      <td>159.93</td>\n",
              "      <td>Mobile</td>\n",
              "    </tr>\n",
              "    <tr>\n",
              "      <th>1</th>\n",
              "      <td>20001</td>\n",
              "      <td>1</td>\n",
              "      <td>0</td>\n",
              "      <td>1.0</td>\n",
              "      <td>8.0</td>\n",
              "      <td>UPI</td>\n",
              "      <td>Male</td>\n",
              "      <td>3.0</td>\n",
              "      <td>4</td>\n",
              "      <td>Regular Plus</td>\n",
              "      <td>3.0</td>\n",
              "      <td>Single</td>\n",
              "      <td>7</td>\n",
              "      <td>1.0</td>\n",
              "      <td>15</td>\n",
              "      <td>0</td>\n",
              "      <td>0</td>\n",
              "      <td>120.9</td>\n",
              "      <td>Mobile</td>\n",
              "    </tr>\n",
              "    <tr>\n",
              "      <th>2</th>\n",
              "      <td>20002</td>\n",
              "      <td>1</td>\n",
              "      <td>0</td>\n",
              "      <td>1.0</td>\n",
              "      <td>30.0</td>\n",
              "      <td>Debit Card</td>\n",
              "      <td>Male</td>\n",
              "      <td>2.0</td>\n",
              "      <td>4</td>\n",
              "      <td>Regular Plus</td>\n",
              "      <td>3.0</td>\n",
              "      <td>Single</td>\n",
              "      <td>6</td>\n",
              "      <td>1.0</td>\n",
              "      <td>14</td>\n",
              "      <td>0</td>\n",
              "      <td>3</td>\n",
              "      <td>NaN</td>\n",
              "      <td>Mobile</td>\n",
              "    </tr>\n",
              "    <tr>\n",
              "      <th>3</th>\n",
              "      <td>20003</td>\n",
              "      <td>1</td>\n",
              "      <td>0</td>\n",
              "      <td>3.0</td>\n",
              "      <td>15.0</td>\n",
              "      <td>Debit Card</td>\n",
              "      <td>Male</td>\n",
              "      <td>2.0</td>\n",
              "      <td>4</td>\n",
              "      <td>Super</td>\n",
              "      <td>5.0</td>\n",
              "      <td>Single</td>\n",
              "      <td>8</td>\n",
              "      <td>0.0</td>\n",
              "      <td>23</td>\n",
              "      <td>0</td>\n",
              "      <td>3</td>\n",
              "      <td>134.07</td>\n",
              "      <td>Mobile</td>\n",
              "    </tr>\n",
              "    <tr>\n",
              "      <th>4</th>\n",
              "      <td>20004</td>\n",
              "      <td>1</td>\n",
              "      <td>0</td>\n",
              "      <td>1.0</td>\n",
              "      <td>12.0</td>\n",
              "      <td>Credit Card</td>\n",
              "      <td>Male</td>\n",
              "      <td>2.0</td>\n",
              "      <td>3</td>\n",
              "      <td>Regular Plus</td>\n",
              "      <td>5.0</td>\n",
              "      <td>Single</td>\n",
              "      <td>3</td>\n",
              "      <td>0.0</td>\n",
              "      <td>11</td>\n",
              "      <td>1</td>\n",
              "      <td>3</td>\n",
              "      <td>129.6</td>\n",
              "      <td>Mobile</td>\n",
              "    </tr>\n",
              "  </tbody>\n",
              "</table>\n",
              "</div>\n",
              "    <div class=\"colab-df-buttons\">\n",
              "\n",
              "  <div class=\"colab-df-container\">\n",
              "    <button class=\"colab-df-convert\" onclick=\"convertToInteractive('df-00ea2a64-988e-46c8-accb-256f17b46712')\"\n",
              "            title=\"Convert this dataframe to an interactive table.\"\n",
              "            style=\"display:none;\">\n",
              "\n",
              "  <svg xmlns=\"http://www.w3.org/2000/svg\" height=\"24px\" viewBox=\"0 -960 960 960\">\n",
              "    <path d=\"M120-120v-720h720v720H120Zm60-500h600v-160H180v160Zm220 220h160v-160H400v160Zm0 220h160v-160H400v160ZM180-400h160v-160H180v160Zm440 0h160v-160H620v160ZM180-180h160v-160H180v160Zm440 0h160v-160H620v160Z\"/>\n",
              "  </svg>\n",
              "    </button>\n",
              "\n",
              "  <style>\n",
              "    .colab-df-container {\n",
              "      display:flex;\n",
              "      gap: 12px;\n",
              "    }\n",
              "\n",
              "    .colab-df-convert {\n",
              "      background-color: #E8F0FE;\n",
              "      border: none;\n",
              "      border-radius: 50%;\n",
              "      cursor: pointer;\n",
              "      display: none;\n",
              "      fill: #1967D2;\n",
              "      height: 32px;\n",
              "      padding: 0 0 0 0;\n",
              "      width: 32px;\n",
              "    }\n",
              "\n",
              "    .colab-df-convert:hover {\n",
              "      background-color: #E2EBFA;\n",
              "      box-shadow: 0px 1px 2px rgba(60, 64, 67, 0.3), 0px 1px 3px 1px rgba(60, 64, 67, 0.15);\n",
              "      fill: #174EA6;\n",
              "    }\n",
              "\n",
              "    .colab-df-buttons div {\n",
              "      margin-bottom: 4px;\n",
              "    }\n",
              "\n",
              "    [theme=dark] .colab-df-convert {\n",
              "      background-color: #3B4455;\n",
              "      fill: #D2E3FC;\n",
              "    }\n",
              "\n",
              "    [theme=dark] .colab-df-convert:hover {\n",
              "      background-color: #434B5C;\n",
              "      box-shadow: 0px 1px 3px 1px rgba(0, 0, 0, 0.15);\n",
              "      filter: drop-shadow(0px 1px 2px rgba(0, 0, 0, 0.3));\n",
              "      fill: #FFFFFF;\n",
              "    }\n",
              "  </style>\n",
              "\n",
              "    <script>\n",
              "      const buttonEl =\n",
              "        document.querySelector('#df-00ea2a64-988e-46c8-accb-256f17b46712 button.colab-df-convert');\n",
              "      buttonEl.style.display =\n",
              "        google.colab.kernel.accessAllowed ? 'block' : 'none';\n",
              "\n",
              "      async function convertToInteractive(key) {\n",
              "        const element = document.querySelector('#df-00ea2a64-988e-46c8-accb-256f17b46712');\n",
              "        const dataTable =\n",
              "          await google.colab.kernel.invokeFunction('convertToInteractive',\n",
              "                                                    [key], {});\n",
              "        if (!dataTable) return;\n",
              "\n",
              "        const docLinkHtml = 'Like what you see? Visit the ' +\n",
              "          '<a target=\"_blank\" href=https://colab.research.google.com/notebooks/data_table.ipynb>data table notebook</a>'\n",
              "          + ' to learn more about interactive tables.';\n",
              "        element.innerHTML = '';\n",
              "        dataTable['output_type'] = 'display_data';\n",
              "        await google.colab.output.renderOutput(dataTable, element);\n",
              "        const docLink = document.createElement('div');\n",
              "        docLink.innerHTML = docLinkHtml;\n",
              "        element.appendChild(docLink);\n",
              "      }\n",
              "    </script>\n",
              "  </div>\n",
              "\n",
              "\n",
              "<div id=\"df-54db8b24-d941-4533-9dd9-e1ce3939be4c\">\n",
              "  <button class=\"colab-df-quickchart\" onclick=\"quickchart('df-54db8b24-d941-4533-9dd9-e1ce3939be4c')\"\n",
              "            title=\"Suggest charts.\"\n",
              "            style=\"display:none;\">\n",
              "\n",
              "<svg xmlns=\"http://www.w3.org/2000/svg\" height=\"24px\"viewBox=\"0 0 24 24\"\n",
              "     width=\"24px\">\n",
              "    <g>\n",
              "        <path d=\"M19 3H5c-1.1 0-2 .9-2 2v14c0 1.1.9 2 2 2h14c1.1 0 2-.9 2-2V5c0-1.1-.9-2-2-2zM9 17H7v-7h2v7zm4 0h-2V7h2v10zm4 0h-2v-4h2v4z\"/>\n",
              "    </g>\n",
              "</svg>\n",
              "  </button>\n",
              "\n",
              "<style>\n",
              "  .colab-df-quickchart {\n",
              "      --bg-color: #E8F0FE;\n",
              "      --fill-color: #1967D2;\n",
              "      --hover-bg-color: #E2EBFA;\n",
              "      --hover-fill-color: #174EA6;\n",
              "      --disabled-fill-color: #AAA;\n",
              "      --disabled-bg-color: #DDD;\n",
              "  }\n",
              "\n",
              "  [theme=dark] .colab-df-quickchart {\n",
              "      --bg-color: #3B4455;\n",
              "      --fill-color: #D2E3FC;\n",
              "      --hover-bg-color: #434B5C;\n",
              "      --hover-fill-color: #FFFFFF;\n",
              "      --disabled-bg-color: #3B4455;\n",
              "      --disabled-fill-color: #666;\n",
              "  }\n",
              "\n",
              "  .colab-df-quickchart {\n",
              "    background-color: var(--bg-color);\n",
              "    border: none;\n",
              "    border-radius: 50%;\n",
              "    cursor: pointer;\n",
              "    display: none;\n",
              "    fill: var(--fill-color);\n",
              "    height: 32px;\n",
              "    padding: 0;\n",
              "    width: 32px;\n",
              "  }\n",
              "\n",
              "  .colab-df-quickchart:hover {\n",
              "    background-color: var(--hover-bg-color);\n",
              "    box-shadow: 0 1px 2px rgba(60, 64, 67, 0.3), 0 1px 3px 1px rgba(60, 64, 67, 0.15);\n",
              "    fill: var(--button-hover-fill-color);\n",
              "  }\n",
              "\n",
              "  .colab-df-quickchart-complete:disabled,\n",
              "  .colab-df-quickchart-complete:disabled:hover {\n",
              "    background-color: var(--disabled-bg-color);\n",
              "    fill: var(--disabled-fill-color);\n",
              "    box-shadow: none;\n",
              "  }\n",
              "\n",
              "  .colab-df-spinner {\n",
              "    border: 2px solid var(--fill-color);\n",
              "    border-color: transparent;\n",
              "    border-bottom-color: var(--fill-color);\n",
              "    animation:\n",
              "      spin 1s steps(1) infinite;\n",
              "  }\n",
              "\n",
              "  @keyframes spin {\n",
              "    0% {\n",
              "      border-color: transparent;\n",
              "      border-bottom-color: var(--fill-color);\n",
              "      border-left-color: var(--fill-color);\n",
              "    }\n",
              "    20% {\n",
              "      border-color: transparent;\n",
              "      border-left-color: var(--fill-color);\n",
              "      border-top-color: var(--fill-color);\n",
              "    }\n",
              "    30% {\n",
              "      border-color: transparent;\n",
              "      border-left-color: var(--fill-color);\n",
              "      border-top-color: var(--fill-color);\n",
              "      border-right-color: var(--fill-color);\n",
              "    }\n",
              "    40% {\n",
              "      border-color: transparent;\n",
              "      border-right-color: var(--fill-color);\n",
              "      border-top-color: var(--fill-color);\n",
              "    }\n",
              "    60% {\n",
              "      border-color: transparent;\n",
              "      border-right-color: var(--fill-color);\n",
              "    }\n",
              "    80% {\n",
              "      border-color: transparent;\n",
              "      border-right-color: var(--fill-color);\n",
              "      border-bottom-color: var(--fill-color);\n",
              "    }\n",
              "    90% {\n",
              "      border-color: transparent;\n",
              "      border-bottom-color: var(--fill-color);\n",
              "    }\n",
              "  }\n",
              "</style>\n",
              "\n",
              "  <script>\n",
              "    async function quickchart(key) {\n",
              "      const quickchartButtonEl =\n",
              "        document.querySelector('#' + key + ' button');\n",
              "      quickchartButtonEl.disabled = true;  // To prevent multiple clicks.\n",
              "      quickchartButtonEl.classList.add('colab-df-spinner');\n",
              "      try {\n",
              "        const charts = await google.colab.kernel.invokeFunction(\n",
              "            'suggestCharts', [key], {});\n",
              "      } catch (error) {\n",
              "        console.error('Error during call to suggestCharts:', error);\n",
              "      }\n",
              "      quickchartButtonEl.classList.remove('colab-df-spinner');\n",
              "      quickchartButtonEl.classList.add('colab-df-quickchart-complete');\n",
              "    }\n",
              "    (() => {\n",
              "      let quickchartButtonEl =\n",
              "        document.querySelector('#df-54db8b24-d941-4533-9dd9-e1ce3939be4c button');\n",
              "      quickchartButtonEl.style.display =\n",
              "        google.colab.kernel.accessAllowed ? 'block' : 'none';\n",
              "    })();\n",
              "  </script>\n",
              "</div>\n",
              "    </div>\n",
              "  </div>\n"
            ]
          },
          "metadata": {},
          "execution_count": 342
        }
      ],
      "source": [
        "df.head()"
      ]
    },
    {
      "cell_type": "code",
      "execution_count": 343,
      "metadata": {
        "colab": {
          "base_uri": "https://localhost:8080/"
        },
        "id": "ObQfsh__ZCPb",
        "outputId": "bf364fe8-dd1c-4d24-f961-0ed319ddb56d"
      },
      "outputs": [
        {
          "output_type": "stream",
          "name": "stdout",
          "text": [
            "Columns with 'int' data type: ['Tenure', 'CC_Contacted_LY', 'rev_per_month', 'Complain_ly', 'rev_growth_yoy', 'coupon_used_for_payment', 'Day_Since_CC_connect', 'cashback']\n",
            "Columns with 'str' data type: ['Churn', 'City_Tier', 'Payment', 'Gender', 'Service_Score', 'Account_user_count', 'account_segment', 'CC_Agent_Score', 'Marital_Status', 'Login_device']\n"
          ]
        }
      ],
      "source": [
        "# Your original data_types dictionary\n",
        "data_types = {\n",
        "    'Churn': str,\n",
        "    'Tenure': int,\n",
        "    'City_Tier': str,\n",
        "    'CC_Contacted_LY': int,\n",
        "    'Payment': str,\n",
        "    'Gender': str,\n",
        "    'Service_Score': str,\n",
        "    'Account_user_count': str,\n",
        "    'account_segment': str,\n",
        "    'CC_Agent_Score': str,\n",
        "    'Marital_Status': str,\n",
        "    'rev_per_month': float,\n",
        "    'Complain_ly': int,\n",
        "    'rev_growth_yoy': float,\n",
        "    'coupon_used_for_payment': int,\n",
        "    'Day_Since_CC_connect': int,\n",
        "    'cashback' : int,\n",
        "    'Login_device' : str\n",
        "}\n",
        "\n",
        "# Create lists for 'int' and 'str' data types\n",
        "int_columns = [col for col, dtype in data_types.items() if dtype == int or dtype == float]\n",
        "str_columns = [col for col, dtype in data_types.items() if dtype == str]\n",
        "\n",
        "# Print the lists\n",
        "print(\"Columns with 'int' data type:\", int_columns)\n",
        "print(\"Columns with 'str' data type:\", str_columns)\n"
      ]
    },
    {
      "cell_type": "code",
      "execution_count": 344,
      "metadata": {
        "id": "kT8rBF0oZYQi"
      },
      "outputs": [],
      "source": [
        "df['Tenure'] = df['Tenure'].replace('#', np.NAN)\n",
        "df['rev_per_month'] = df['rev_per_month'].replace('+', np.NAN)\n",
        "df['rev_growth_yoy'] = df['rev_growth_yoy'].replace('$', np.NAN)\n",
        "df['Day_Since_CC_connect'] = df['Day_Since_CC_connect'].replace('$', np.NAN)\n",
        "df['coupon_used_for_payment'] = df['coupon_used_for_payment'].replace('$', np.NAN)\n",
        "df['coupon_used_for_payment'] = df['coupon_used_for_payment'].replace('#', np.NAN)\n",
        "df['coupon_used_for_payment'] = df['coupon_used_for_payment'].replace('*', np.NAN)\n",
        "df['cashback'] = df['cashback'].replace('$', np.NAN)"
      ]
    },
    {
      "cell_type": "code",
      "execution_count": 345,
      "metadata": {
        "id": "1paFrxs-bm95"
      },
      "outputs": [],
      "source": [
        "df[\"Gender\"] = df[\"Gender\"].replace(\"F\", \"Female\")\n",
        "df[\"Gender\"] = df[\"Gender\"].replace(\"M\", \"Male\")\n",
        "df[\"account_segment\"] = df[\"account_segment\"].replace(\"Regular +\", \"Regular Plus\")\n",
        "df[\"account_segment\"] = df[\"account_segment\"].replace(\"Super +\", \"Super Plus\")\n",
        "\n",
        "df[\"Login_device\"] = df[\"Login_device\"].replace(\n",
        "    \"&&&&\", \"Other\")\n"
      ]
    },
    {
      "cell_type": "code",
      "execution_count": 345,
      "metadata": {
        "id": "MTEuOjCQYLKj"
      },
      "outputs": [],
      "source": []
    },
    {
      "cell_type": "code",
      "execution_count": 346,
      "metadata": {
        "id": "VtYj9t83cr3i"
      },
      "outputs": [],
      "source": [
        "df[\"Gender\"] = df[\"Gender\"].replace(\"F\", \"Female\")\n",
        "df[\"Gender\"] = df[\"Gender\"].replace(\"M\", \"Male\")\n",
        "df[\"account_segment\"] = df[\"account_segment\"].replace(\"Regular +\", \"Regular Plus\")\n",
        "df[\"account_segment\"] = df[\"account_segment\"].replace(\"Super +\", \"Super Plus\")\n",
        "\n",
        "df[\"Login_device\"] = df[\"Login_device\"].replace(\n",
        "    \"&&&&\", \"Other\")\n",
        "df[\"Account_user_count\"] = df[\"Account_user_count\"].replace(\n",
        "    \"@\", \"Other\")"
      ]
    },
    {
      "cell_type": "code",
      "execution_count": 347,
      "metadata": {
        "id": "faA5fRh_YMlk"
      },
      "outputs": [],
      "source": [
        "#df['Login_device'] = df['Login_device'].replace('Other', np.NAN)\n",
        "df['Account_user_count'] = df['Account_user_count'].replace('Other', np.NAN)"
      ]
    },
    {
      "cell_type": "code",
      "execution_count": 348,
      "metadata": {
        "colab": {
          "base_uri": "https://localhost:8080/",
          "height": 645
        },
        "id": "RcbuCrmPCXRs",
        "outputId": "daf5da27-9b74-4729-90a0-eae679f51929"
      },
      "outputs": [
        {
          "output_type": "execute_result",
          "data": {
            "text/plain": [
              "                         Missing Percentage\n",
              "rev_per_month                      7.024867\n",
              "cashback                           4.200710\n",
              "Account_user_count                 3.943162\n",
              "Day_Since_CC_connect               3.179396\n",
              "Complain_ly                        3.170515\n",
              "Login_device                       1.962700\n",
              "Tenure                             1.936057\n",
              "Marital_Status                     1.882771\n",
              "CC_Agent_Score                     1.030195\n",
              "City_Tier                          0.994671\n",
              "Payment                            0.968028\n",
              "Gender                             0.959147\n",
              "CC_Contacted_LY                    0.905861\n",
              "Service_Score                      0.870337\n",
              "account_segment                    0.861456\n",
              "coupon_used_for_payment            0.026643\n",
              "rev_growth_yoy                     0.026643\n",
              "Churn                              0.000000\n",
              "AccountID                          0.000000"
            ],
            "text/html": [
              "\n",
              "  <div id=\"df-c93c6f6a-a24e-4a32-abb3-08dc42b5889b\" class=\"colab-df-container\">\n",
              "    <div>\n",
              "<style scoped>\n",
              "    .dataframe tbody tr th:only-of-type {\n",
              "        vertical-align: middle;\n",
              "    }\n",
              "\n",
              "    .dataframe tbody tr th {\n",
              "        vertical-align: top;\n",
              "    }\n",
              "\n",
              "    .dataframe thead th {\n",
              "        text-align: right;\n",
              "    }\n",
              "</style>\n",
              "<table border=\"1\" class=\"dataframe\">\n",
              "  <thead>\n",
              "    <tr style=\"text-align: right;\">\n",
              "      <th></th>\n",
              "      <th>Missing Percentage</th>\n",
              "    </tr>\n",
              "  </thead>\n",
              "  <tbody>\n",
              "    <tr>\n",
              "      <th>rev_per_month</th>\n",
              "      <td>7.024867</td>\n",
              "    </tr>\n",
              "    <tr>\n",
              "      <th>cashback</th>\n",
              "      <td>4.200710</td>\n",
              "    </tr>\n",
              "    <tr>\n",
              "      <th>Account_user_count</th>\n",
              "      <td>3.943162</td>\n",
              "    </tr>\n",
              "    <tr>\n",
              "      <th>Day_Since_CC_connect</th>\n",
              "      <td>3.179396</td>\n",
              "    </tr>\n",
              "    <tr>\n",
              "      <th>Complain_ly</th>\n",
              "      <td>3.170515</td>\n",
              "    </tr>\n",
              "    <tr>\n",
              "      <th>Login_device</th>\n",
              "      <td>1.962700</td>\n",
              "    </tr>\n",
              "    <tr>\n",
              "      <th>Tenure</th>\n",
              "      <td>1.936057</td>\n",
              "    </tr>\n",
              "    <tr>\n",
              "      <th>Marital_Status</th>\n",
              "      <td>1.882771</td>\n",
              "    </tr>\n",
              "    <tr>\n",
              "      <th>CC_Agent_Score</th>\n",
              "      <td>1.030195</td>\n",
              "    </tr>\n",
              "    <tr>\n",
              "      <th>City_Tier</th>\n",
              "      <td>0.994671</td>\n",
              "    </tr>\n",
              "    <tr>\n",
              "      <th>Payment</th>\n",
              "      <td>0.968028</td>\n",
              "    </tr>\n",
              "    <tr>\n",
              "      <th>Gender</th>\n",
              "      <td>0.959147</td>\n",
              "    </tr>\n",
              "    <tr>\n",
              "      <th>CC_Contacted_LY</th>\n",
              "      <td>0.905861</td>\n",
              "    </tr>\n",
              "    <tr>\n",
              "      <th>Service_Score</th>\n",
              "      <td>0.870337</td>\n",
              "    </tr>\n",
              "    <tr>\n",
              "      <th>account_segment</th>\n",
              "      <td>0.861456</td>\n",
              "    </tr>\n",
              "    <tr>\n",
              "      <th>coupon_used_for_payment</th>\n",
              "      <td>0.026643</td>\n",
              "    </tr>\n",
              "    <tr>\n",
              "      <th>rev_growth_yoy</th>\n",
              "      <td>0.026643</td>\n",
              "    </tr>\n",
              "    <tr>\n",
              "      <th>Churn</th>\n",
              "      <td>0.000000</td>\n",
              "    </tr>\n",
              "    <tr>\n",
              "      <th>AccountID</th>\n",
              "      <td>0.000000</td>\n",
              "    </tr>\n",
              "  </tbody>\n",
              "</table>\n",
              "</div>\n",
              "    <div class=\"colab-df-buttons\">\n",
              "\n",
              "  <div class=\"colab-df-container\">\n",
              "    <button class=\"colab-df-convert\" onclick=\"convertToInteractive('df-c93c6f6a-a24e-4a32-abb3-08dc42b5889b')\"\n",
              "            title=\"Convert this dataframe to an interactive table.\"\n",
              "            style=\"display:none;\">\n",
              "\n",
              "  <svg xmlns=\"http://www.w3.org/2000/svg\" height=\"24px\" viewBox=\"0 -960 960 960\">\n",
              "    <path d=\"M120-120v-720h720v720H120Zm60-500h600v-160H180v160Zm220 220h160v-160H400v160Zm0 220h160v-160H400v160ZM180-400h160v-160H180v160Zm440 0h160v-160H620v160ZM180-180h160v-160H180v160Zm440 0h160v-160H620v160Z\"/>\n",
              "  </svg>\n",
              "    </button>\n",
              "\n",
              "  <style>\n",
              "    .colab-df-container {\n",
              "      display:flex;\n",
              "      gap: 12px;\n",
              "    }\n",
              "\n",
              "    .colab-df-convert {\n",
              "      background-color: #E8F0FE;\n",
              "      border: none;\n",
              "      border-radius: 50%;\n",
              "      cursor: pointer;\n",
              "      display: none;\n",
              "      fill: #1967D2;\n",
              "      height: 32px;\n",
              "      padding: 0 0 0 0;\n",
              "      width: 32px;\n",
              "    }\n",
              "\n",
              "    .colab-df-convert:hover {\n",
              "      background-color: #E2EBFA;\n",
              "      box-shadow: 0px 1px 2px rgba(60, 64, 67, 0.3), 0px 1px 3px 1px rgba(60, 64, 67, 0.15);\n",
              "      fill: #174EA6;\n",
              "    }\n",
              "\n",
              "    .colab-df-buttons div {\n",
              "      margin-bottom: 4px;\n",
              "    }\n",
              "\n",
              "    [theme=dark] .colab-df-convert {\n",
              "      background-color: #3B4455;\n",
              "      fill: #D2E3FC;\n",
              "    }\n",
              "\n",
              "    [theme=dark] .colab-df-convert:hover {\n",
              "      background-color: #434B5C;\n",
              "      box-shadow: 0px 1px 3px 1px rgba(0, 0, 0, 0.15);\n",
              "      filter: drop-shadow(0px 1px 2px rgba(0, 0, 0, 0.3));\n",
              "      fill: #FFFFFF;\n",
              "    }\n",
              "  </style>\n",
              "\n",
              "    <script>\n",
              "      const buttonEl =\n",
              "        document.querySelector('#df-c93c6f6a-a24e-4a32-abb3-08dc42b5889b button.colab-df-convert');\n",
              "      buttonEl.style.display =\n",
              "        google.colab.kernel.accessAllowed ? 'block' : 'none';\n",
              "\n",
              "      async function convertToInteractive(key) {\n",
              "        const element = document.querySelector('#df-c93c6f6a-a24e-4a32-abb3-08dc42b5889b');\n",
              "        const dataTable =\n",
              "          await google.colab.kernel.invokeFunction('convertToInteractive',\n",
              "                                                    [key], {});\n",
              "        if (!dataTable) return;\n",
              "\n",
              "        const docLinkHtml = 'Like what you see? Visit the ' +\n",
              "          '<a target=\"_blank\" href=https://colab.research.google.com/notebooks/data_table.ipynb>data table notebook</a>'\n",
              "          + ' to learn more about interactive tables.';\n",
              "        element.innerHTML = '';\n",
              "        dataTable['output_type'] = 'display_data';\n",
              "        await google.colab.output.renderOutput(dataTable, element);\n",
              "        const docLink = document.createElement('div');\n",
              "        docLink.innerHTML = docLinkHtml;\n",
              "        element.appendChild(docLink);\n",
              "      }\n",
              "    </script>\n",
              "  </div>\n",
              "\n",
              "\n",
              "<div id=\"df-7225e0e9-b8d3-4a3a-85b6-5857b4a9af9e\">\n",
              "  <button class=\"colab-df-quickchart\" onclick=\"quickchart('df-7225e0e9-b8d3-4a3a-85b6-5857b4a9af9e')\"\n",
              "            title=\"Suggest charts.\"\n",
              "            style=\"display:none;\">\n",
              "\n",
              "<svg xmlns=\"http://www.w3.org/2000/svg\" height=\"24px\"viewBox=\"0 0 24 24\"\n",
              "     width=\"24px\">\n",
              "    <g>\n",
              "        <path d=\"M19 3H5c-1.1 0-2 .9-2 2v14c0 1.1.9 2 2 2h14c1.1 0 2-.9 2-2V5c0-1.1-.9-2-2-2zM9 17H7v-7h2v7zm4 0h-2V7h2v10zm4 0h-2v-4h2v4z\"/>\n",
              "    </g>\n",
              "</svg>\n",
              "  </button>\n",
              "\n",
              "<style>\n",
              "  .colab-df-quickchart {\n",
              "      --bg-color: #E8F0FE;\n",
              "      --fill-color: #1967D2;\n",
              "      --hover-bg-color: #E2EBFA;\n",
              "      --hover-fill-color: #174EA6;\n",
              "      --disabled-fill-color: #AAA;\n",
              "      --disabled-bg-color: #DDD;\n",
              "  }\n",
              "\n",
              "  [theme=dark] .colab-df-quickchart {\n",
              "      --bg-color: #3B4455;\n",
              "      --fill-color: #D2E3FC;\n",
              "      --hover-bg-color: #434B5C;\n",
              "      --hover-fill-color: #FFFFFF;\n",
              "      --disabled-bg-color: #3B4455;\n",
              "      --disabled-fill-color: #666;\n",
              "  }\n",
              "\n",
              "  .colab-df-quickchart {\n",
              "    background-color: var(--bg-color);\n",
              "    border: none;\n",
              "    border-radius: 50%;\n",
              "    cursor: pointer;\n",
              "    display: none;\n",
              "    fill: var(--fill-color);\n",
              "    height: 32px;\n",
              "    padding: 0;\n",
              "    width: 32px;\n",
              "  }\n",
              "\n",
              "  .colab-df-quickchart:hover {\n",
              "    background-color: var(--hover-bg-color);\n",
              "    box-shadow: 0 1px 2px rgba(60, 64, 67, 0.3), 0 1px 3px 1px rgba(60, 64, 67, 0.15);\n",
              "    fill: var(--button-hover-fill-color);\n",
              "  }\n",
              "\n",
              "  .colab-df-quickchart-complete:disabled,\n",
              "  .colab-df-quickchart-complete:disabled:hover {\n",
              "    background-color: var(--disabled-bg-color);\n",
              "    fill: var(--disabled-fill-color);\n",
              "    box-shadow: none;\n",
              "  }\n",
              "\n",
              "  .colab-df-spinner {\n",
              "    border: 2px solid var(--fill-color);\n",
              "    border-color: transparent;\n",
              "    border-bottom-color: var(--fill-color);\n",
              "    animation:\n",
              "      spin 1s steps(1) infinite;\n",
              "  }\n",
              "\n",
              "  @keyframes spin {\n",
              "    0% {\n",
              "      border-color: transparent;\n",
              "      border-bottom-color: var(--fill-color);\n",
              "      border-left-color: var(--fill-color);\n",
              "    }\n",
              "    20% {\n",
              "      border-color: transparent;\n",
              "      border-left-color: var(--fill-color);\n",
              "      border-top-color: var(--fill-color);\n",
              "    }\n",
              "    30% {\n",
              "      border-color: transparent;\n",
              "      border-left-color: var(--fill-color);\n",
              "      border-top-color: var(--fill-color);\n",
              "      border-right-color: var(--fill-color);\n",
              "    }\n",
              "    40% {\n",
              "      border-color: transparent;\n",
              "      border-right-color: var(--fill-color);\n",
              "      border-top-color: var(--fill-color);\n",
              "    }\n",
              "    60% {\n",
              "      border-color: transparent;\n",
              "      border-right-color: var(--fill-color);\n",
              "    }\n",
              "    80% {\n",
              "      border-color: transparent;\n",
              "      border-right-color: var(--fill-color);\n",
              "      border-bottom-color: var(--fill-color);\n",
              "    }\n",
              "    90% {\n",
              "      border-color: transparent;\n",
              "      border-bottom-color: var(--fill-color);\n",
              "    }\n",
              "  }\n",
              "</style>\n",
              "\n",
              "  <script>\n",
              "    async function quickchart(key) {\n",
              "      const quickchartButtonEl =\n",
              "        document.querySelector('#' + key + ' button');\n",
              "      quickchartButtonEl.disabled = true;  // To prevent multiple clicks.\n",
              "      quickchartButtonEl.classList.add('colab-df-spinner');\n",
              "      try {\n",
              "        const charts = await google.colab.kernel.invokeFunction(\n",
              "            'suggestCharts', [key], {});\n",
              "      } catch (error) {\n",
              "        console.error('Error during call to suggestCharts:', error);\n",
              "      }\n",
              "      quickchartButtonEl.classList.remove('colab-df-spinner');\n",
              "      quickchartButtonEl.classList.add('colab-df-quickchart-complete');\n",
              "    }\n",
              "    (() => {\n",
              "      let quickchartButtonEl =\n",
              "        document.querySelector('#df-7225e0e9-b8d3-4a3a-85b6-5857b4a9af9e button');\n",
              "      quickchartButtonEl.style.display =\n",
              "        google.colab.kernel.accessAllowed ? 'block' : 'none';\n",
              "    })();\n",
              "  </script>\n",
              "</div>\n",
              "    </div>\n",
              "  </div>\n"
            ]
          },
          "metadata": {},
          "execution_count": 348
        }
      ],
      "source": [
        "import pandas as pd\n",
        "\n",
        "# Assuming your DataFrame is named 'df'\n",
        "missing_percentage = (df.isnull().sum() / len(df)) * 100\n",
        "\n",
        "# Create a new DataFrame to display missing percentages\n",
        "missing_df = pd.DataFrame({'Missing Percentage': missing_percentage})\n",
        "\n",
        "# Sort by missing percentage in descending order\n",
        "missing_df = missing_df.sort_values(by='Missing Percentage', ascending=False)\n",
        "\n",
        "# Display the result\n",
        "missing_df\n"
      ]
    },
    {
      "cell_type": "code",
      "execution_count": 349,
      "metadata": {
        "id": "5b5PHL2DoCEJ"
      },
      "outputs": [],
      "source": [
        "import pandas as pd\n",
        "from sklearn.impute import KNNImputer\n",
        "\n",
        "# Assuming you have your DataFrame 'df'\n",
        "\n",
        "# List of columns to apply KNN imputation\n",
        "columns_to_impute = ['Tenure', 'CC_Contacted_LY', 'rev_per_month', 'rev_growth_yoy', 'coupon_used_for_payment', 'Day_Since_CC_connect', 'cashback']\n",
        "\n",
        "# Create a copy of the DataFrame with only the columns to impute\n",
        "df_to_impute = df[columns_to_impute].copy()\n",
        "\n",
        "# Initialize the KNNImputer with the desired number of neighbors (adjust as needed)\n",
        "knn_imputer = KNNImputer(n_neighbors=10)\n",
        "\n",
        "# Fit the imputer on the data and transform it to impute missing values\n",
        "df_imputed = pd.DataFrame(knn_imputer.fit_transform(df_to_impute), columns=columns_to_impute)\n",
        "\n",
        "# Update the original DataFrame with imputed values\n",
        "df[columns_to_impute] = df_imputed\n",
        "\n",
        "# Now df contains imputed values for the specified columns\n"
      ]
    },
    {
      "cell_type": "code",
      "execution_count": 350,
      "metadata": {
        "id": "JI0iz9x6p4GX"
      },
      "outputs": [],
      "source": [
        "columns_to_fill_with_mode = ['City_Tier', 'Payment', 'Gender', 'Service_Score', 'Account_user_count', 'account_segment', 'CC_Agent_Score', 'Marital_Status', 'Login_device', 'Complain_ly']\n",
        "\n",
        "# Loop through columns and fill null values with mode\n",
        "for col in columns_to_fill_with_mode:\n",
        "    mode_value = df[col].mode().iloc[0]\n",
        "    df[col].fillna(mode_value, inplace=True)"
      ]
    },
    {
      "cell_type": "code",
      "execution_count": 351,
      "metadata": {
        "colab": {
          "base_uri": "https://localhost:8080/"
        },
        "id": "MhUBs7mCqplf",
        "outputId": "dfb9c64a-e55b-452d-c7d9-f777e6a15d8e"
      },
      "outputs": [
        {
          "output_type": "execute_result",
          "data": {
            "text/plain": [
              "AccountID                  0\n",
              "Churn                      0\n",
              "Tenure                     0\n",
              "City_Tier                  0\n",
              "CC_Contacted_LY            0\n",
              "Payment                    0\n",
              "Gender                     0\n",
              "Service_Score              0\n",
              "Account_user_count         0\n",
              "account_segment            0\n",
              "CC_Agent_Score             0\n",
              "Marital_Status             0\n",
              "rev_per_month              0\n",
              "Complain_ly                0\n",
              "rev_growth_yoy             0\n",
              "coupon_used_for_payment    0\n",
              "Day_Since_CC_connect       0\n",
              "cashback                   0\n",
              "Login_device               0\n",
              "dtype: int64"
            ]
          },
          "metadata": {},
          "execution_count": 351
        }
      ],
      "source": [
        "df.isnull().sum()"
      ]
    },
    {
      "cell_type": "code",
      "execution_count": 352,
      "metadata": {
        "id": "gvGEv6pHlr4b"
      },
      "outputs": [],
      "source": [
        "data_types = {\n",
        "    'Churn': str,\n",
        "    'Tenure': int,\n",
        "    'City_Tier': str,\n",
        "    'CC_Contacted_LY': int,\n",
        "    'Payment': str,\n",
        "    'Gender': str,\n",
        "    'Service_Score': str,\n",
        "    'Account_user_count': str,\n",
        "    'account_segment': str,\n",
        "    'CC_Agent_Score': str,\n",
        "    'Marital_Status': str,\n",
        "    'rev_per_month': float,\n",
        "    'Complain_ly': str,\n",
        "    'rev_growth_yoy': float,\n",
        "    'coupon_used_for_payment': int,\n",
        "    'Day_Since_CC_connect': int,\n",
        "    'cashback' : int,\n",
        "    'Login_device' : str\n",
        "}"
      ]
    },
    {
      "cell_type": "code",
      "source": [
        "string_columns = [col for col, dtype in data_types.items() if dtype == str]\n",
        "numeric_columns = [col for col, dtype in data_types.items() if dtype in (int, float)]"
      ],
      "metadata": {
        "id": "IW9mMEKKFhf6"
      },
      "execution_count": 353,
      "outputs": []
    },
    {
      "cell_type": "code",
      "source": [
        "string_columns"
      ],
      "metadata": {
        "colab": {
          "base_uri": "https://localhost:8080/"
        },
        "id": "70TgP6y6F5b5",
        "outputId": "84dd3402-9b33-406e-d240-2ba7707ea229"
      },
      "execution_count": 354,
      "outputs": [
        {
          "output_type": "execute_result",
          "data": {
            "text/plain": [
              "['Churn',\n",
              " 'City_Tier',\n",
              " 'Payment',\n",
              " 'Gender',\n",
              " 'Service_Score',\n",
              " 'Account_user_count',\n",
              " 'account_segment',\n",
              " 'CC_Agent_Score',\n",
              " 'Marital_Status',\n",
              " 'Complain_ly',\n",
              " 'Login_device']"
            ]
          },
          "metadata": {},
          "execution_count": 354
        }
      ]
    },
    {
      "cell_type": "code",
      "source": [
        "import pandas as pd\n",
        "from scipy.stats import chi2_contingency\n",
        "\n",
        "# Assuming df is your DataFrame containing the relevant columns\n",
        "# Extract the categorical columns\n",
        "categorical_columns = ['Churn', 'City_Tier', 'Payment', 'Gender', 'Service_Score',\n",
        "                        'Account_user_count', 'account_segment', 'CC_Agent_Score',\n",
        "                        'Marital_Status', 'Complain_ly', 'Login_device']\n",
        "\n",
        "# Create a DataFrame with only these columns\n",
        "categorical_data = df[categorical_columns]\n",
        "\n",
        "# Initialize an empty dictionary to store p-values\n",
        "p_values = {}\n",
        "\n",
        "# Perform Chi-Square test for each pair of categorical variables\n",
        "for col1 in categorical_columns:\n",
        "    for col2 in categorical_columns:\n",
        "        if col1 != col2:\n",
        "            # Create a contingency table\n",
        "            contingency_table = pd.crosstab(categorical_data[col1], categorical_data[col2])\n",
        "            _, p, _, _ = chi2_contingency(contingency_table)\n",
        "            p_values[(col1, col2)] = p\n",
        "\n",
        "# Print p-values\n",
        "for pair, p in p_values.items():\n",
        "    print(f'Chi-Square Test p-value between {pair[0]} and {pair[1]}: {p}')\n"
      ],
      "metadata": {
        "colab": {
          "base_uri": "https://localhost:8080/"
        },
        "id": "nAs4LENdF9Xl",
        "outputId": "07f264ed-96e5-4fe2-8b9f-9953509bb3e1"
      },
      "execution_count": 355,
      "outputs": [
        {
          "output_type": "stream",
          "name": "stdout",
          "text": [
            "Chi-Square Test p-value between Churn and City_Tier: 3.238897394989702e-18\n",
            "Chi-Square Test p-value between Churn and Payment: 2.6071765902519377e-21\n",
            "Chi-Square Test p-value between Churn and Gender: 0.0021865167504896894\n",
            "Chi-Square Test p-value between Churn and Service_Score: 0.002483426695476192\n",
            "Chi-Square Test p-value between Churn and Account_user_count: 7.118375953906314e-32\n",
            "Chi-Square Test p-value between Churn and account_segment: 3.059001211977884e-120\n",
            "Chi-Square Test p-value between Churn and CC_Agent_Score: 4.604846025313827e-29\n",
            "Chi-Square Test p-value between Churn and Marital_Status: 5.087962737997856e-83\n",
            "Chi-Square Test p-value between Churn and Complain_ly: 2.6077527891177503e-150\n",
            "Chi-Square Test p-value between Churn and Login_device: 2.900009829901481e-06\n",
            "Chi-Square Test p-value between City_Tier and Churn: 3.238897394989702e-18\n",
            "Chi-Square Test p-value between City_Tier and Payment: 0.0\n",
            "Chi-Square Test p-value between City_Tier and Gender: 1.1255173542460564e-06\n",
            "Chi-Square Test p-value between City_Tier and Service_Score: 0.06121898504863922\n",
            "Chi-Square Test p-value between City_Tier and Account_user_count: 0.04273527588984984\n",
            "Chi-Square Test p-value between City_Tier and account_segment: 1.1605625353840432e-216\n",
            "Chi-Square Test p-value between City_Tier and CC_Agent_Score: 2.943428947114327e-15\n",
            "Chi-Square Test p-value between City_Tier and Marital_Status: 1.8456262904979489e-09\n",
            "Chi-Square Test p-value between City_Tier and Complain_ly: 0.16703909511868292\n",
            "Chi-Square Test p-value between City_Tier and Login_device: 0.9441427040882241\n",
            "Chi-Square Test p-value between Payment and Churn: 2.6071765902519377e-21\n",
            "Chi-Square Test p-value between Payment and City_Tier: 0.0\n",
            "Chi-Square Test p-value between Payment and Gender: 1.1645380563160069e-05\n",
            "Chi-Square Test p-value between Payment and Service_Score: 0.4438731005606335\n",
            "Chi-Square Test p-value between Payment and Account_user_count: 0.0006176646611839725\n",
            "Chi-Square Test p-value between Payment and account_segment: 2.2235192520666436e-86\n",
            "Chi-Square Test p-value between Payment and CC_Agent_Score: 1.739711133232987e-17\n",
            "Chi-Square Test p-value between Payment and Marital_Status: 0.00019666669133548765\n",
            "Chi-Square Test p-value between Payment and Complain_ly: 0.13890313288682438\n",
            "Chi-Square Test p-value between Payment and Login_device: 1.894497385761237e-05\n",
            "Chi-Square Test p-value between Gender and Churn: 0.0021865167504896894\n",
            "Chi-Square Test p-value between Gender and City_Tier: 1.1255173542460543e-06\n",
            "Chi-Square Test p-value between Gender and Payment: 1.1645380563160069e-05\n",
            "Chi-Square Test p-value between Gender and Service_Score: 0.04173347572791312\n",
            "Chi-Square Test p-value between Gender and Account_user_count: 0.08536167990764802\n",
            "Chi-Square Test p-value between Gender and account_segment: 2.5648644307600057e-12\n",
            "Chi-Square Test p-value between Gender and CC_Agent_Score: 0.0007831347736788454\n",
            "Chi-Square Test p-value between Gender and Marital_Status: 0.00011134972716792597\n",
            "Chi-Square Test p-value between Gender and Complain_ly: 0.00015981478128488752\n",
            "Chi-Square Test p-value between Gender and Login_device: 0.27417633087675136\n",
            "Chi-Square Test p-value between Service_Score and Churn: 0.002483426695476192\n",
            "Chi-Square Test p-value between Service_Score and City_Tier: 0.06121898504863922\n",
            "Chi-Square Test p-value between Service_Score and Payment: 0.4438731005606335\n",
            "Chi-Square Test p-value between Service_Score and Gender: 0.041733475727913104\n",
            "Chi-Square Test p-value between Service_Score and Account_user_count: 0.0\n",
            "Chi-Square Test p-value between Service_Score and account_segment: 0.00458205210013496\n",
            "Chi-Square Test p-value between Service_Score and CC_Agent_Score: 0.1332678580841789\n",
            "Chi-Square Test p-value between Service_Score and Marital_Status: 0.0002977982635709391\n",
            "Chi-Square Test p-value between Service_Score and Complain_ly: 0.5711471119595195\n",
            "Chi-Square Test p-value between Service_Score and Login_device: 0.00015429743801988159\n",
            "Chi-Square Test p-value between Account_user_count and Churn: 7.118375953906314e-32\n",
            "Chi-Square Test p-value between Account_user_count and City_Tier: 0.04273527588984975\n",
            "Chi-Square Test p-value between Account_user_count and Payment: 0.0006176646611839752\n",
            "Chi-Square Test p-value between Account_user_count and Gender: 0.08536167990764802\n",
            "Chi-Square Test p-value between Account_user_count and Service_Score: 0.0\n",
            "Chi-Square Test p-value between Account_user_count and account_segment: 1.406918269189269e-06\n",
            "Chi-Square Test p-value between Account_user_count and CC_Agent_Score: 0.025630517488399635\n",
            "Chi-Square Test p-value between Account_user_count and Marital_Status: 6.229334747499926e-06\n",
            "Chi-Square Test p-value between Account_user_count and Complain_ly: 0.9618680937009761\n",
            "Chi-Square Test p-value between Account_user_count and Login_device: 4.069719239661847e-48\n",
            "Chi-Square Test p-value between account_segment and Churn: 3.059001211977884e-120\n",
            "Chi-Square Test p-value between account_segment and City_Tier: 1.1605625353840432e-216\n",
            "Chi-Square Test p-value between account_segment and Payment: 2.2235192520666436e-86\n",
            "Chi-Square Test p-value between account_segment and Gender: 2.564864430760015e-12\n",
            "Chi-Square Test p-value between account_segment and Service_Score: 0.004582052100134977\n",
            "Chi-Square Test p-value between account_segment and Account_user_count: 1.406918269189269e-06\n",
            "Chi-Square Test p-value between account_segment and CC_Agent_Score: 9.79867502486026e-05\n",
            "Chi-Square Test p-value between account_segment and Marital_Status: 6.788597600499294e-21\n",
            "Chi-Square Test p-value between account_segment and Complain_ly: 0.06646082264879138\n",
            "Chi-Square Test p-value between account_segment and Login_device: 1.4334558730854013e-06\n",
            "Chi-Square Test p-value between CC_Agent_Score and Churn: 4.604846025313827e-29\n",
            "Chi-Square Test p-value between CC_Agent_Score and City_Tier: 2.943428947114327e-15\n",
            "Chi-Square Test p-value between CC_Agent_Score and Payment: 1.7397111332329742e-17\n",
            "Chi-Square Test p-value between CC_Agent_Score and Gender: 0.0007831347736788436\n",
            "Chi-Square Test p-value between CC_Agent_Score and Service_Score: 0.1332678580841789\n",
            "Chi-Square Test p-value between CC_Agent_Score and Account_user_count: 0.025630517488399653\n",
            "Chi-Square Test p-value between CC_Agent_Score and account_segment: 9.79867502486026e-05\n",
            "Chi-Square Test p-value between CC_Agent_Score and Marital_Status: 3.207530778277895e-263\n",
            "Chi-Square Test p-value between CC_Agent_Score and Complain_ly: 1.6094740854059324e-06\n",
            "Chi-Square Test p-value between CC_Agent_Score and Login_device: 4.493527296216341e-05\n",
            "Chi-Square Test p-value between Marital_Status and Churn: 5.087962737997856e-83\n",
            "Chi-Square Test p-value between Marital_Status and City_Tier: 1.8456262904979557e-09\n",
            "Chi-Square Test p-value between Marital_Status and Payment: 0.0001966666913354876\n",
            "Chi-Square Test p-value between Marital_Status and Gender: 0.00011134972716792597\n",
            "Chi-Square Test p-value between Marital_Status and Service_Score: 0.0002977982635709391\n",
            "Chi-Square Test p-value between Marital_Status and Account_user_count: 6.229334747499926e-06\n",
            "Chi-Square Test p-value between Marital_Status and account_segment: 6.788597600499294e-21\n",
            "Chi-Square Test p-value between Marital_Status and CC_Agent_Score: 3.207530778277895e-263\n",
            "Chi-Square Test p-value between Marital_Status and Complain_ly: 0.887706782697266\n",
            "Chi-Square Test p-value between Marital_Status and Login_device: 0.0028796637711549673\n",
            "Chi-Square Test p-value between Complain_ly and Churn: 2.6077527891178995e-150\n",
            "Chi-Square Test p-value between Complain_ly and City_Tier: 0.16703909511868292\n",
            "Chi-Square Test p-value between Complain_ly and Payment: 0.13890313288682438\n",
            "Chi-Square Test p-value between Complain_ly and Gender: 0.0001598147812848875\n",
            "Chi-Square Test p-value between Complain_ly and Service_Score: 0.5711471119595195\n",
            "Chi-Square Test p-value between Complain_ly and Account_user_count: 0.9618680937009761\n",
            "Chi-Square Test p-value between Complain_ly and account_segment: 0.06646082264879138\n",
            "Chi-Square Test p-value between Complain_ly and CC_Agent_Score: 1.6094740854059324e-06\n",
            "Chi-Square Test p-value between Complain_ly and Marital_Status: 0.887706782697266\n",
            "Chi-Square Test p-value between Complain_ly and Login_device: 0.7876731471980187\n",
            "Chi-Square Test p-value between Login_device and Churn: 2.900009829901481e-06\n",
            "Chi-Square Test p-value between Login_device and City_Tier: 0.9441427040882241\n",
            "Chi-Square Test p-value between Login_device and Payment: 1.894497385761241e-05\n",
            "Chi-Square Test p-value between Login_device and Gender: 0.27417633087675136\n",
            "Chi-Square Test p-value between Login_device and Service_Score: 0.00015429743801988159\n",
            "Chi-Square Test p-value between Login_device and Account_user_count: 4.069719239661847e-48\n",
            "Chi-Square Test p-value between Login_device and account_segment: 1.4334558730854038e-06\n",
            "Chi-Square Test p-value between Login_device and CC_Agent_Score: 4.493527296216341e-05\n",
            "Chi-Square Test p-value between Login_device and Marital_Status: 0.0028796637711549673\n",
            "Chi-Square Test p-value between Login_device and Complain_ly: 0.7876731471980187\n"
          ]
        }
      ]
    },
    {
      "cell_type": "code",
      "source": [
        "import pandas as pd\n",
        "\n",
        "# Assuming your dataset is stored in a DataFrame called df\n",
        "# First, convert the columns to their respective data types\n",
        "df = df.astype(data_types)\n",
        "\n",
        "# Calculate the correlation matrix\n",
        "correlation_matrix = df.corr()\n",
        "\n",
        "# You can visualize the correlation matrix using a heatmap\n",
        "import seaborn as sns\n",
        "import matplotlib.pyplot as plt\n",
        "\n",
        "plt.figure(figsize=(12, 8))\n",
        "sns.heatmap(correlation_matrix, annot=True, cmap='coolwarm')\n",
        "plt.show()\n"
      ],
      "metadata": {
        "colab": {
          "base_uri": "https://localhost:8080/",
          "height": 854
        },
        "id": "uOaKYeWUDT8w",
        "outputId": "ce544644-4d49-4e5e-abc9-b75b596eeae5"
      },
      "execution_count": 356,
      "outputs": [
        {
          "output_type": "display_data",
          "data": {
            "text/plain": [
              "<Figure size 1200x800 with 2 Axes>"
            ],
            "image/png": "[encoded data removed]"
          },
          "metadata": {}
        }
      ]
    },
    {
      "cell_type": "code",
      "execution_count": 357,
      "metadata": {
        "id": "8kvcwXUxq6hi"
      },
      "outputs": [],
      "source": [
        "df = df.astype(data_types)"
      ]
    },
    {
      "cell_type": "code",
      "source": [
        "df.Churn.value_counts(normalize=True)"
      ],
      "metadata": {
        "colab": {
          "base_uri": "https://localhost:8080/"
        },
        "id": "S6FpI55ISOnn",
        "outputId": "86237e54-bbe8-47a7-e508-75d710a9dd7e"
      },
      "execution_count": 358,
      "outputs": [
        {
          "output_type": "execute_result",
          "data": {
            "text/plain": [
              "0    0.831616\n",
              "1    0.168384\n",
              "Name: Churn, dtype: float64"
            ]
          },
          "metadata": {},
          "execution_count": 358
        }
      ]
    },
    {
      "cell_type": "markdown",
      "source": [
        "#Multi-colinearity check"
      ],
      "metadata": {
        "id": "BBo8C9RyC3Sd"
      }
    },
    {
      "cell_type": "code",
      "source": [],
      "metadata": {
        "id": "nBRXxwbiC237"
      },
      "execution_count": 358,
      "outputs": []
    },
    {
      "cell_type": "code",
      "execution_count": 359,
      "metadata": {
        "id": "Ecj3t0OirHdU"
      },
      "outputs": [],
      "source": [
        "import pandas as pd\n",
        "\n",
        "def cap_outliers(df, column_names, lower_percentile=0.01, upper_percentile=0.99):\n",
        "\n",
        "    for column_name in column_names:\n",
        "        lower_limit = df[column_name].quantile(lower_percentile)\n",
        "        upper_limit = df[column_name].quantile(upper_percentile)\n",
        "\n",
        "        df[column_name] = df[column_name].clip(lower_limit, upper_limit)\n",
        "\n",
        "    return df\n",
        "\n",
        "# Example usage:\n",
        "# Assuming you have a DataFrame 'df' and you want to cap outliers in multiple columns\n",
        "columns_to_cap = ['Tenure', 'CC_Contacted_LY', 'rev_per_month', 'rev_growth_yoy', 'coupon_used_for_payment', 'Day_Since_CC_connect', 'cashback']\n",
        "df = cap_outliers(df, columns_to_cap)\n"
      ]
    },
    {
      "cell_type": "code",
      "execution_count": 360,
      "metadata": {
        "id": "QJHU8P1dAT8r"
      },
      "outputs": [],
      "source": [
        "df.drop('AccountID',axis=1,inplace=True)"
      ]
    },
    {
      "cell_type": "code",
      "execution_count": 361,
      "metadata": {
        "id": "VoEzsXA6AtNM"
      },
      "outputs": [],
      "source": [
        "#import pandas as pd\n",
        "\n",
        "# Assuming you have your DataFrame 'df'\n",
        "\n",
        "# List of columns to one-hot encode\n",
        "#columns_to_encode = ['Payment', 'Gender', 'account_segment', 'Marital_Status', 'Login_device']\n",
        "\n",
        "# Perform one-hot encoding with dropping the first dummy column\n",
        "#df = pd.get_dummies(df, columns=columns_to_encode, drop_first=True)\n",
        "\n",
        "# Now, df_encoded contains the one-hot encoded DataFrame with one dummy column dropped\n"
      ]
    },
    {
      "cell_type": "code",
      "source": [
        "columns_to_encode = ['Payment', 'Gender', 'account_segment', 'Marital_Status', 'Login_device']"
      ],
      "metadata": {
        "id": "Z0ATbyULvtx8"
      },
      "execution_count": 362,
      "outputs": []
    },
    {
      "cell_type": "code",
      "source": [
        "from sklearn.preprocessing import LabelEncoder\n",
        "\n",
        "# Initialize LabelEncoder\n",
        "label_encoder = LabelEncoder()\n",
        "\n",
        "# Dictionary to store mappings\n",
        "encoding_mappings = {}\n",
        "\n",
        "# Iterate through the columns you want to label encode\n",
        "for column in columns_to_encode:\n",
        "    # Fit the LabelEncoder on the unique values in the column\n",
        "    label_encoder.fit(df[column])\n",
        "\n",
        "    # Transform the column with label encoding\n",
        "    df[column] = label_encoder.transform(df[column])\n",
        "\n",
        "    # Store the mapping\n",
        "    encoding_mappings[column] = dict(zip(label_encoder.classes_, label_encoder.transform(label_encoder.classes_)))\n",
        "\n",
        "# Print the encoding mappings\n",
        "for column, mapping in encoding_mappings.items():\n",
        "    print(f\"Encoding mapping for {column}: {mapping}\")\n"
      ],
      "metadata": {
        "colab": {
          "base_uri": "https://localhost:8080/"
        },
        "id": "DqQU3r2Lvqt9",
        "outputId": "aefcbeff-ff0d-4253-95a4-c0d9a5aff29d"
      },
      "execution_count": 363,
      "outputs": [
        {
          "output_type": "stream",
          "name": "stdout",
          "text": [
            "Encoding mapping for Payment: {'Cash on Delivery': 0, 'Credit Card': 1, 'Debit Card': 2, 'E wallet': 3, 'UPI': 4}\n",
            "Encoding mapping for Gender: {'Female': 0, 'Male': 1}\n",
            "Encoding mapping for account_segment: {'HNI': 0, 'Regular': 1, 'Regular Plus': 2, 'Super': 3, 'Super Plus': 4}\n",
            "Encoding mapping for Marital_Status: {'Divorced': 0, 'Married': 1, 'Single': 2}\n",
            "Encoding mapping for Login_device: {'Computer': 0, 'Mobile': 1, 'Other': 2}\n"
          ]
        }
      ]
    },
    {
      "cell_type": "code",
      "execution_count": 364,
      "metadata": {
        "id": "np3vlN9WJe8y"
      },
      "outputs": [],
      "source": [
        "from sklearn.preprocessing import LabelEncoder\n",
        "encoding_mappings = {}\n",
        "# Initialize LabelEncoder\n",
        "label_encoder = LabelEncoder()\n",
        "\n",
        "# List of columns to label encode\n",
        "columns_to_encode = ['Payment', 'Gender', 'account_segment', 'Marital_Status', 'Login_device']\n",
        "\n",
        "# Iterate through the columns you want to label encode\n",
        "for column in columns_to_encode:\n",
        "    # Fit the LabelEncoder on the unique values in the column\n",
        "    label_encoder.fit(df[column])\n",
        "\n",
        "    # Transform the column with label encoding\n",
        "    df[column] = label_encoder.transform(df[column])\n",
        "\n",
        "\n"
      ]
    },
    {
      "cell_type": "code",
      "source": [
        "for column in columns_to_encode:\n",
        "\n",
        "  encoding_mappings[column] = dict(zip(label_encoder.classes_, label_encoder.transform(label_encoder.classes_)))\n",
        "\n",
        "# Print the encoding mappings\n",
        "for column, mapping in encoding_mappings.items():\n",
        "    print(f\"Encoding mapping for {column}: {mapping}\")"
      ],
      "metadata": {
        "colab": {
          "base_uri": "https://localhost:8080/"
        },
        "id": "EWwul-cytg9_",
        "outputId": "1586b336-324d-4393-bd3f-aeaea7a6ebc0"
      },
      "execution_count": 365,
      "outputs": [
        {
          "output_type": "stream",
          "name": "stdout",
          "text": [
            "Encoding mapping for Payment: {0: 0, 1: 1, 2: 2}\n",
            "Encoding mapping for Gender: {0: 0, 1: 1, 2: 2}\n",
            "Encoding mapping for account_segment: {0: 0, 1: 1, 2: 2}\n",
            "Encoding mapping for Marital_Status: {0: 0, 1: 1, 2: 2}\n",
            "Encoding mapping for Login_device: {0: 0, 1: 1, 2: 2}\n"
          ]
        }
      ]
    },
    {
      "cell_type": "code",
      "execution_count": 366,
      "metadata": {
        "colab": {
          "base_uri": "https://localhost:8080/",
          "height": 443
        },
        "id": "zXQWVHTAJrds",
        "outputId": "735898f5-36e1-4bf5-94a6-1431a86e4155"
      },
      "outputs": [
        {
          "output_type": "execute_result",
          "data": {
            "text/plain": [
              "      Churn  Tenure City_Tier  CC_Contacted_LY  Payment  Gender Service_Score  \\\n",
              "0         1       4       3.0                6        2       0           3.0   \n",
              "1         1       0       1.0                8        4       1           3.0   \n",
              "2         1       0       1.0               30        2       1           2.0   \n",
              "3         1       0       3.0               15        2       1           2.0   \n",
              "4         1       0       1.0               12        1       1           2.0   \n",
              "...     ...     ...       ...              ...      ...     ...           ...   \n",
              "11255     0      10       1.0               34        1       1           3.0   \n",
              "11256     0      13       1.0               19        1       1           3.0   \n",
              "11257     0       1       1.0               14        2       1           3.0   \n",
              "11258     0      23       3.0               11        1       1           4.0   \n",
              "11259     0       8       1.0               22        1       1           3.0   \n",
              "\n",
              "      Account_user_count  account_segment CC_Agent_Score  Marital_Status  \\\n",
              "0                    3.0                3            2.0               2   \n",
              "1                    4.0                2            3.0               2   \n",
              "2                    4.0                2            3.0               2   \n",
              "3                    4.0                3            5.0               2   \n",
              "4                    3.0                2            5.0               2   \n",
              "...                  ...              ...            ...             ...   \n",
              "11255                2.0                3            1.0               1   \n",
              "11256                5.0                0            5.0               1   \n",
              "11257                2.0                3            4.0               1   \n",
              "11258                5.0                3            4.0               1   \n",
              "11259                2.0                3            3.0               1   \n",
              "\n",
              "       rev_per_month Complain_ly  rev_growth_yoy  coupon_used_for_payment  \\\n",
              "0                9.0         1.0            11.0                        1   \n",
              "1                7.0         1.0            15.0                        0   \n",
              "2                6.0         1.0            14.0                        0   \n",
              "3                8.0         0.0            23.0                        0   \n",
              "4                3.0         0.0            11.0                        1   \n",
              "...              ...         ...             ...                      ...   \n",
              "11255            9.0         0.0            19.0                        1   \n",
              "11256            7.0         0.0            16.0                        1   \n",
              "11257            7.0         1.0            22.0                        1   \n",
              "11258            7.0         0.0            16.0                        2   \n",
              "11259            5.0         0.0            13.0                        2   \n",
              "\n",
              "       Day_Since_CC_connect  cashback  Login_device  \n",
              "0                         5     159.0             1  \n",
              "1                         0     120.0             1  \n",
              "2                         3     142.0             1  \n",
              "3                         3     134.0             1  \n",
              "4                         3     129.0             1  \n",
              "...                     ...       ...           ...  \n",
              "11255                     4     153.0             0  \n",
              "11256                     8     226.0             1  \n",
              "11257                     4     191.0             1  \n",
              "11258                     9     179.0             0  \n",
              "11259                     3     175.0             1  \n",
              "\n",
              "[11260 rows x 18 columns]"
            ],
            "text/html": [
              "\n",
              "  <div id=\"df-410aeb96-af7f-459d-ab4b-f30f3c9dfcad\" class=\"colab-df-container\">\n",
              "    <div>\n",
              "<style scoped>\n",
              "    .dataframe tbody tr th:only-of-type {\n",
              "        vertical-align: middle;\n",
              "    }\n",
              "\n",
              "    .dataframe tbody tr th {\n",
              "        vertical-align: top;\n",
              "    }\n",
              "\n",
              "    .dataframe thead th {\n",
              "        text-align: right;\n",
              "    }\n",
              "</style>\n",
              "<table border=\"1\" class=\"dataframe\">\n",
              "  <thead>\n",
              "    <tr style=\"text-align: right;\">\n",
              "      <th></th>\n",
              "      <th>Churn</th>\n",
              "      <th>Tenure</th>\n",
              "      <th>City_Tier</th>\n",
              "      <th>CC_Contacted_LY</th>\n",
              "      <th>Payment</th>\n",
              "      <th>Gender</th>\n",
              "      <th>Service_Score</th>\n",
              "      <th>Account_user_count</th>\n",
              "      <th>account_segment</th>\n",
              "      <th>CC_Agent_Score</th>\n",
              "      <th>Marital_Status</th>\n",
              "      <th>rev_per_month</th>\n",
              "      <th>Complain_ly</th>\n",
              "      <th>rev_growth_yoy</th>\n",
              "      <th>coupon_used_for_payment</th>\n",
              "      <th>Day_Since_CC_connect</th>\n",
              "      <th>cashback</th>\n",
              "      <th>Login_device</th>\n",
              "    </tr>\n",
              "  </thead>\n",
              "  <tbody>\n",
              "    <tr>\n",
              "      <th>0</th>\n",
              "      <td>1</td>\n",
              "      <td>4</td>\n",
              "      <td>3.0</td>\n",
              "      <td>6</td>\n",
              "      <td>2</td>\n",
              "      <td>0</td>\n",
              "      <td>3.0</td>\n",
              "      <td>3.0</td>\n",
              "      <td>3</td>\n",
              "      <td>2.0</td>\n",
              "      <td>2</td>\n",
              "      <td>9.0</td>\n",
              "      <td>1.0</td>\n",
              "      <td>11.0</td>\n",
              "      <td>1</td>\n",
              "      <td>5</td>\n",
              "      <td>159.0</td>\n",
              "      <td>1</td>\n",
              "    </tr>\n",
              "    <tr>\n",
              "      <th>1</th>\n",
              "      <td>1</td>\n",
              "      <td>0</td>\n",
              "      <td>1.0</td>\n",
              "      <td>8</td>\n",
              "      <td>4</td>\n",
              "      <td>1</td>\n",
              "      <td>3.0</td>\n",
              "      <td>4.0</td>\n",
              "      <td>2</td>\n",
              "      <td>3.0</td>\n",
              "      <td>2</td>\n",
              "      <td>7.0</td>\n",
              "      <td>1.0</td>\n",
              "      <td>15.0</td>\n",
              "      <td>0</td>\n",
              "      <td>0</td>\n",
              "      <td>120.0</td>\n",
              "      <td>1</td>\n",
              "    </tr>\n",
              "    <tr>\n",
              "      <th>2</th>\n",
              "      <td>1</td>\n",
              "      <td>0</td>\n",
              "      <td>1.0</td>\n",
              "      <td>30</td>\n",
              "      <td>2</td>\n",
              "      <td>1</td>\n",
              "      <td>2.0</td>\n",
              "      <td>4.0</td>\n",
              "      <td>2</td>\n",
              "      <td>3.0</td>\n",
              "      <td>2</td>\n",
              "      <td>6.0</td>\n",
              "      <td>1.0</td>\n",
              "      <td>14.0</td>\n",
              "      <td>0</td>\n",
              "      <td>3</td>\n",
              "      <td>142.0</td>\n",
              "      <td>1</td>\n",
              "    </tr>\n",
              "    <tr>\n",
              "      <th>3</th>\n",
              "      <td>1</td>\n",
              "      <td>0</td>\n",
              "      <td>3.0</td>\n",
              "      <td>15</td>\n",
              "      <td>2</td>\n",
              "      <td>1</td>\n",
              "      <td>2.0</td>\n",
              "      <td>4.0</td>\n",
              "      <td>3</td>\n",
              "      <td>5.0</td>\n",
              "      <td>2</td>\n",
              "      <td>8.0</td>\n",
              "      <td>0.0</td>\n",
              "      <td>23.0</td>\n",
              "      <td>0</td>\n",
              "      <td>3</td>\n",
              "      <td>134.0</td>\n",
              "      <td>1</td>\n",
              "    </tr>\n",
              "    <tr>\n",
              "      <th>4</th>\n",
              "      <td>1</td>\n",
              "      <td>0</td>\n",
              "      <td>1.0</td>\n",
              "      <td>12</td>\n",
              "      <td>1</td>\n",
              "      <td>1</td>\n",
              "      <td>2.0</td>\n",
              "      <td>3.0</td>\n",
              "      <td>2</td>\n",
              "      <td>5.0</td>\n",
              "      <td>2</td>\n",
              "      <td>3.0</td>\n",
              "      <td>0.0</td>\n",
              "      <td>11.0</td>\n",
              "      <td>1</td>\n",
              "      <td>3</td>\n",
              "      <td>129.0</td>\n",
              "      <td>1</td>\n",
              "    </tr>\n",
              "    <tr>\n",
              "      <th>...</th>\n",
              "      <td>...</td>\n",
              "      <td>...</td>\n",
              "      <td>...</td>\n",
              "      <td>...</td>\n",
              "      <td>...</td>\n",
              "      <td>...</td>\n",
              "      <td>...</td>\n",
              "      <td>...</td>\n",
              "      <td>...</td>\n",
              "      <td>...</td>\n",
              "      <td>...</td>\n",
              "      <td>...</td>\n",
              "      <td>...</td>\n",
              "      <td>...</td>\n",
              "      <td>...</td>\n",
              "      <td>...</td>\n",
              "      <td>...</td>\n",
              "      <td>...</td>\n",
              "    </tr>\n",
              "    <tr>\n",
              "      <th>11255</th>\n",
              "      <td>0</td>\n",
              "      <td>10</td>\n",
              "      <td>1.0</td>\n",
              "      <td>34</td>\n",
              "      <td>1</td>\n",
              "      <td>1</td>\n",
              "      <td>3.0</td>\n",
              "      <td>2.0</td>\n",
              "      <td>3</td>\n",
              "      <td>1.0</td>\n",
              "      <td>1</td>\n",
              "      <td>9.0</td>\n",
              "      <td>0.0</td>\n",
              "      <td>19.0</td>\n",
              "      <td>1</td>\n",
              "      <td>4</td>\n",
              "      <td>153.0</td>\n",
              "      <td>0</td>\n",
              "    </tr>\n",
              "    <tr>\n",
              "      <th>11256</th>\n",
              "      <td>0</td>\n",
              "      <td>13</td>\n",
              "      <td>1.0</td>\n",
              "      <td>19</td>\n",
              "      <td>1</td>\n",
              "      <td>1</td>\n",
              "      <td>3.0</td>\n",
              "      <td>5.0</td>\n",
              "      <td>0</td>\n",
              "      <td>5.0</td>\n",
              "      <td>1</td>\n",
              "      <td>7.0</td>\n",
              "      <td>0.0</td>\n",
              "      <td>16.0</td>\n",
              "      <td>1</td>\n",
              "      <td>8</td>\n",
              "      <td>226.0</td>\n",
              "      <td>1</td>\n",
              "    </tr>\n",
              "    <tr>\n",
              "      <th>11257</th>\n",
              "      <td>0</td>\n",
              "      <td>1</td>\n",
              "      <td>1.0</td>\n",
              "      <td>14</td>\n",
              "      <td>2</td>\n",
              "      <td>1</td>\n",
              "      <td>3.0</td>\n",
              "      <td>2.0</td>\n",
              "      <td>3</td>\n",
              "      <td>4.0</td>\n",
              "      <td>1</td>\n",
              "      <td>7.0</td>\n",
              "      <td>1.0</td>\n",
              "      <td>22.0</td>\n",
              "      <td>1</td>\n",
              "      <td>4</td>\n",
              "      <td>191.0</td>\n",
              "      <td>1</td>\n",
              "    </tr>\n",
              "    <tr>\n",
              "      <th>11258</th>\n",
              "      <td>0</td>\n",
              "      <td>23</td>\n",
              "      <td>3.0</td>\n",
              "      <td>11</td>\n",
              "      <td>1</td>\n",
              "      <td>1</td>\n",
              "      <td>4.0</td>\n",
              "      <td>5.0</td>\n",
              "      <td>3</td>\n",
              "      <td>4.0</td>\n",
              "      <td>1</td>\n",
              "      <td>7.0</td>\n",
              "      <td>0.0</td>\n",
              "      <td>16.0</td>\n",
              "      <td>2</td>\n",
              "      <td>9</td>\n",
              "      <td>179.0</td>\n",
              "      <td>0</td>\n",
              "    </tr>\n",
              "    <tr>\n",
              "      <th>11259</th>\n",
              "      <td>0</td>\n",
              "      <td>8</td>\n",
              "      <td>1.0</td>\n",
              "      <td>22</td>\n",
              "      <td>1</td>\n",
              "      <td>1</td>\n",
              "      <td>3.0</td>\n",
              "      <td>2.0</td>\n",
              "      <td>3</td>\n",
              "      <td>3.0</td>\n",
              "      <td>1</td>\n",
              "      <td>5.0</td>\n",
              "      <td>0.0</td>\n",
              "      <td>13.0</td>\n",
              "      <td>2</td>\n",
              "      <td>3</td>\n",
              "      <td>175.0</td>\n",
              "      <td>1</td>\n",
              "    </tr>\n",
              "  </tbody>\n",
              "</table>\n",
              "<p>11260 rows × 18 columns</p>\n",
              "</div>\n",
              "    <div class=\"colab-df-buttons\">\n",
              "\n",
              "  <div class=\"colab-df-container\">\n",
              "    <button class=\"colab-df-convert\" onclick=\"convertToInteractive('df-410aeb96-af7f-459d-ab4b-f30f3c9dfcad')\"\n",
              "            title=\"Convert this dataframe to an interactive table.\"\n",
              "            style=\"display:none;\">\n",
              "\n",
              "  <svg xmlns=\"http://www.w3.org/2000/svg\" height=\"24px\" viewBox=\"0 -960 960 960\">\n",
              "    <path d=\"M120-120v-720h720v720H120Zm60-500h600v-160H180v160Zm220 220h160v-160H400v160Zm0 220h160v-160H400v160ZM180-400h160v-160H180v160Zm440 0h160v-160H620v160ZM180-180h160v-160H180v160Zm440 0h160v-160H620v160Z\"/>\n",
              "  </svg>\n",
              "    </button>\n",
              "\n",
              "  <style>\n",
              "    .colab-df-container {\n",
              "      display:flex;\n",
              "      gap: 12px;\n",
              "    }\n",
              "\n",
              "    .colab-df-convert {\n",
              "      background-color: #E8F0FE;\n",
              "      border: none;\n",
              "      border-radius: 50%;\n",
              "      cursor: pointer;\n",
              "      display: none;\n",
              "      fill: #1967D2;\n",
              "      height: 32px;\n",
              "      padding: 0 0 0 0;\n",
              "      width: 32px;\n",
              "    }\n",
              "\n",
              "    .colab-df-convert:hover {\n",
              "      background-color: #E2EBFA;\n",
              "      box-shadow: 0px 1px 2px rgba(60, 64, 67, 0.3), 0px 1px 3px 1px rgba(60, 64, 67, 0.15);\n",
              "      fill: #174EA6;\n",
              "    }\n",
              "\n",
              "    .colab-df-buttons div {\n",
              "      margin-bottom: 4px;\n",
              "    }\n",
              "\n",
              "    [theme=dark] .colab-df-convert {\n",
              "      background-color: #3B4455;\n",
              "      fill: #D2E3FC;\n",
              "    }\n",
              "\n",
              "    [theme=dark] .colab-df-convert:hover {\n",
              "      background-color: #434B5C;\n",
              "      box-shadow: 0px 1px 3px 1px rgba(0, 0, 0, 0.15);\n",
              "      filter: drop-shadow(0px 1px 2px rgba(0, 0, 0, 0.3));\n",
              "      fill: #FFFFFF;\n",
              "    }\n",
              "  </style>\n",
              "\n",
              "    <script>\n",
              "      const buttonEl =\n",
              "        document.querySelector('#df-410aeb96-af7f-459d-ab4b-f30f3c9dfcad button.colab-df-convert');\n",
              "      buttonEl.style.display =\n",
              "        google.colab.kernel.accessAllowed ? 'block' : 'none';\n",
              "\n",
              "      async function convertToInteractive(key) {\n",
              "        const element = document.querySelector('#df-410aeb96-af7f-459d-ab4b-f30f3c9dfcad');\n",
              "        const dataTable =\n",
              "          await google.colab.kernel.invokeFunction('convertToInteractive',\n",
              "                                                    [key], {});\n",
              "        if (!dataTable) return;\n",
              "\n",
              "        const docLinkHtml = 'Like what you see? Visit the ' +\n",
              "          '<a target=\"_blank\" href=https://colab.research.google.com/notebooks/data_table.ipynb>data table notebook</a>'\n",
              "          + ' to learn more about interactive tables.';\n",
              "        element.innerHTML = '';\n",
              "        dataTable['output_type'] = 'display_data';\n",
              "        await google.colab.output.renderOutput(dataTable, element);\n",
              "        const docLink = document.createElement('div');\n",
              "        docLink.innerHTML = docLinkHtml;\n",
              "        element.appendChild(docLink);\n",
              "      }\n",
              "    </script>\n",
              "  </div>\n",
              "\n",
              "\n",
              "<div id=\"df-4903cd8a-f770-44e2-9954-33d16d4560f4\">\n",
              "  <button class=\"colab-df-quickchart\" onclick=\"quickchart('df-4903cd8a-f770-44e2-9954-33d16d4560f4')\"\n",
              "            title=\"Suggest charts.\"\n",
              "            style=\"display:none;\">\n",
              "\n",
              "<svg xmlns=\"http://www.w3.org/2000/svg\" height=\"24px\"viewBox=\"0 0 24 24\"\n",
              "     width=\"24px\">\n",
              "    <g>\n",
              "        <path d=\"M19 3H5c-1.1 0-2 .9-2 2v14c0 1.1.9 2 2 2h14c1.1 0 2-.9 2-2V5c0-1.1-.9-2-2-2zM9 17H7v-7h2v7zm4 0h-2V7h2v10zm4 0h-2v-4h2v4z\"/>\n",
              "    </g>\n",
              "</svg>\n",
              "  </button>\n",
              "\n",
              "<style>\n",
              "  .colab-df-quickchart {\n",
              "      --bg-color: #E8F0FE;\n",
              "      --fill-color: #1967D2;\n",
              "      --hover-bg-color: #E2EBFA;\n",
              "      --hover-fill-color: #174EA6;\n",
              "      --disabled-fill-color: #AAA;\n",
              "      --disabled-bg-color: #DDD;\n",
              "  }\n",
              "\n",
              "  [theme=dark] .colab-df-quickchart {\n",
              "      --bg-color: #3B4455;\n",
              "      --fill-color: #D2E3FC;\n",
              "      --hover-bg-color: #434B5C;\n",
              "      --hover-fill-color: #FFFFFF;\n",
              "      --disabled-bg-color: #3B4455;\n",
              "      --disabled-fill-color: #666;\n",
              "  }\n",
              "\n",
              "  .colab-df-quickchart {\n",
              "    background-color: var(--bg-color);\n",
              "    border: none;\n",
              "    border-radius: 50%;\n",
              "    cursor: pointer;\n",
              "    display: none;\n",
              "    fill: var(--fill-color);\n",
              "    height: 32px;\n",
              "    padding: 0;\n",
              "    width: 32px;\n",
              "  }\n",
              "\n",
              "  .colab-df-quickchart:hover {\n",
              "    background-color: var(--hover-bg-color);\n",
              "    box-shadow: 0 1px 2px rgba(60, 64, 67, 0.3), 0 1px 3px 1px rgba(60, 64, 67, 0.15);\n",
              "    fill: var(--button-hover-fill-color);\n",
              "  }\n",
              "\n",
              "  .colab-df-quickchart-complete:disabled,\n",
              "  .colab-df-quickchart-complete:disabled:hover {\n",
              "    background-color: var(--disabled-bg-color);\n",
              "    fill: var(--disabled-fill-color);\n",
              "    box-shadow: none;\n",
              "  }\n",
              "\n",
              "  .colab-df-spinner {\n",
              "    border: 2px solid var(--fill-color);\n",
              "    border-color: transparent;\n",
              "    border-bottom-color: var(--fill-color);\n",
              "    animation:\n",
              "      spin 1s steps(1) infinite;\n",
              "  }\n",
              "\n",
              "  @keyframes spin {\n",
              "    0% {\n",
              "      border-color: transparent;\n",
              "      border-bottom-color: var(--fill-color);\n",
              "      border-left-color: var(--fill-color);\n",
              "    }\n",
              "    20% {\n",
              "      border-color: transparent;\n",
              "      border-left-color: var(--fill-color);\n",
              "      border-top-color: var(--fill-color);\n",
              "    }\n",
              "    30% {\n",
              "      border-color: transparent;\n",
              "      border-left-color: var(--fill-color);\n",
              "      border-top-color: var(--fill-color);\n",
              "      border-right-color: var(--fill-color);\n",
              "    }\n",
              "    40% {\n",
              "      border-color: transparent;\n",
              "      border-right-color: var(--fill-color);\n",
              "      border-top-color: var(--fill-color);\n",
              "    }\n",
              "    60% {\n",
              "      border-color: transparent;\n",
              "      border-right-color: var(--fill-color);\n",
              "    }\n",
              "    80% {\n",
              "      border-color: transparent;\n",
              "      border-right-color: var(--fill-color);\n",
              "      border-bottom-color: var(--fill-color);\n",
              "    }\n",
              "    90% {\n",
              "      border-color: transparent;\n",
              "      border-bottom-color: var(--fill-color);\n",
              "    }\n",
              "  }\n",
              "</style>\n",
              "\n",
              "  <script>\n",
              "    async function quickchart(key) {\n",
              "      const quickchartButtonEl =\n",
              "        document.querySelector('#' + key + ' button');\n",
              "      quickchartButtonEl.disabled = true;  // To prevent multiple clicks.\n",
              "      quickchartButtonEl.classList.add('colab-df-spinner');\n",
              "      try {\n",
              "        const charts = await google.colab.kernel.invokeFunction(\n",
              "            'suggestCharts', [key], {});\n",
              "      } catch (error) {\n",
              "        console.error('Error during call to suggestCharts:', error);\n",
              "      }\n",
              "      quickchartButtonEl.classList.remove('colab-df-spinner');\n",
              "      quickchartButtonEl.classList.add('colab-df-quickchart-complete');\n",
              "    }\n",
              "    (() => {\n",
              "      let quickchartButtonEl =\n",
              "        document.querySelector('#df-4903cd8a-f770-44e2-9954-33d16d4560f4 button');\n",
              "      quickchartButtonEl.style.display =\n",
              "        google.colab.kernel.accessAllowed ? 'block' : 'none';\n",
              "    })();\n",
              "  </script>\n",
              "</div>\n",
              "    </div>\n",
              "  </div>\n"
            ]
          },
          "metadata": {},
          "execution_count": 366
        }
      ],
      "source": [
        "df"
      ]
    },
    {
      "cell_type": "code",
      "source": [
        "df.info()"
      ],
      "metadata": {
        "colab": {
          "base_uri": "https://localhost:8080/"
        },
        "id": "fK42efmBEgiN",
        "outputId": "5524c012-c2d4-45da-8a8d-8062ff3fb813"
      },
      "execution_count": 367,
      "outputs": [
        {
          "output_type": "stream",
          "name": "stdout",
          "text": [
            "<class 'pandas.core.frame.DataFrame'>\n",
            "RangeIndex: 11260 entries, 0 to 11259\n",
            "Data columns (total 18 columns):\n",
            " #   Column                   Non-Null Count  Dtype  \n",
            "---  ------                   --------------  -----  \n",
            " 0   Churn                    11260 non-null  object \n",
            " 1   Tenure                   11260 non-null  int64  \n",
            " 2   City_Tier                11260 non-null  object \n",
            " 3   CC_Contacted_LY          11260 non-null  int64  \n",
            " 4   Payment                  11260 non-null  int64  \n",
            " 5   Gender                   11260 non-null  int64  \n",
            " 6   Service_Score            11260 non-null  object \n",
            " 7   Account_user_count       11260 non-null  object \n",
            " 8   account_segment          11260 non-null  int64  \n",
            " 9   CC_Agent_Score           11260 non-null  object \n",
            " 10  Marital_Status           11260 non-null  int64  \n",
            " 11  rev_per_month            11260 non-null  float64\n",
            " 12  Complain_ly              11260 non-null  object \n",
            " 13  rev_growth_yoy           11260 non-null  float64\n",
            " 14  coupon_used_for_payment  11260 non-null  int64  \n",
            " 15  Day_Since_CC_connect     11260 non-null  int64  \n",
            " 16  cashback                 11260 non-null  float64\n",
            " 17  Login_device             11260 non-null  int64  \n",
            "dtypes: float64(3), int64(9), object(6)\n",
            "memory usage: 1.5+ MB\n"
          ]
        }
      ]
    },
    {
      "cell_type": "code",
      "execution_count": 368,
      "metadata": {
        "id": "T7Zro7XlBGIy"
      },
      "outputs": [],
      "source": [
        "df_encoded=df.copy()"
      ]
    },
    {
      "cell_type": "code",
      "execution_count": 369,
      "metadata": {
        "id": "BWVL3FntBsYU"
      },
      "outputs": [],
      "source": [
        "import pandas as pd\n",
        "\n",
        "# Assuming you have your DataFrame 'df'\n",
        "\n",
        "# Identify the object (categorical) columns\n",
        "object_columns = df_encoded.select_dtypes(include=['object']).columns\n",
        "\n",
        "# Perform label encoding for each object column\n",
        "for col in object_columns:\n",
        "    df_encoded[col] = pd.Categorical(df_encoded[col])\n",
        "    df_encoded[col] = df_encoded[col].cat.codes.astype('int')\n",
        "\n",
        "# Now, df contains the object columns converted to integer data types\n"
      ]
    },
    {
      "cell_type": "code",
      "source": [
        "import pandas as pd\n",
        "from statsmodels.stats.outliers_influence import variance_inflation_factor\n",
        "\n",
        "# Assuming your dataset is stored in a DataFrame called df\n",
        "# First, convert the columns to their respective data types\n",
        "\n",
        "\n",
        "# Drop the target variable 'Churn' if it's in your DataFrame\n",
        "X = df_encoded.drop(columns=['Churn'])\n",
        "import statsmodels.api as sm\n",
        "# Add a constant to the features (needed for VIF calculation)\n",
        "X = sm.add_constant(X)\n",
        "\n",
        "# Calculate VIF\n",
        "vif_data = pd.DataFrame()\n",
        "vif_data[\"feature\"] = X.columns\n",
        "vif_data[\"VIF\"] = [variance_inflation_factor(X.values, i) for i in range(X.shape[1])]\n",
        "\n",
        "print(vif_data)\n"
      ],
      "metadata": {
        "colab": {
          "base_uri": "https://localhost:8080/"
        },
        "id": "LN49FMVMEoLN",
        "outputId": "e3791944-7331-4dee-ce78-63ca03f139d2"
      },
      "execution_count": 370,
      "outputs": [
        {
          "output_type": "stream",
          "name": "stdout",
          "text": [
            "                    feature        VIF\n",
            "0                     const  64.156594\n",
            "1                    Tenure   1.107907\n",
            "2                 City_Tier   1.076691\n",
            "3           CC_Contacted_LY   1.016083\n",
            "4                   Payment   1.067638\n",
            "5                    Gender   1.009107\n",
            "6             Service_Score   1.167886\n",
            "7        Account_user_count   1.136697\n",
            "8           account_segment   1.021167\n",
            "9            CC_Agent_Score   1.012036\n",
            "10           Marital_Status   1.016342\n",
            "11            rev_per_month   1.060201\n",
            "12              Complain_ly   1.006821\n",
            "13           rev_growth_yoy   1.020899\n",
            "14  coupon_used_for_payment   1.230344\n",
            "15     Day_Since_CC_connect   1.255553\n",
            "16                 cashback   1.258080\n",
            "17             Login_device   1.004648\n"
          ]
        }
      ]
    },
    {
      "cell_type": "code",
      "execution_count": 371,
      "metadata": {
        "id": "4XJNlsd-rjEb"
      },
      "outputs": [],
      "source": [
        "from sklearn.preprocessing import MinMaxScaler"
      ]
    },
    {
      "cell_type": "code",
      "execution_count": 372,
      "metadata": {
        "id": "gIOxm8GVri4f"
      },
      "outputs": [],
      "source": [
        "scaler = MinMaxScaler()\n",
        "model=scaler.fit(df_encoded)\n",
        "scaled_df=model.transform(df_encoded)\n",
        "df_new=pd.DataFrame(scaled_df,columns=df_encoded.columns)"
      ]
    },
    {
      "cell_type": "code",
      "execution_count": 373,
      "metadata": {
        "id": "c_kiK866vtRS"
      },
      "outputs": [],
      "source": [
        "import numpy as np\n",
        "import pandas as pd\n",
        "import matplotlib.pyplot as plt\n",
        "import seaborn as sns\n",
        "from sklearn.model_selection import train_test_split,GridSearchCV\n",
        "from sklearn.linear_model import LogisticRegression\n",
        "from sklearn import metrics\n",
        "from sklearn.metrics import roc_auc_score,roc_curve,classification_report,confusion_matrix\n",
        "from warnings import filterwarnings\n",
        "filterwarnings(\"ignore\")\n",
        "from sklearn.metrics import confusion_matrix, ConfusionMatrixDisplay"
      ]
    },
    {
      "cell_type": "code",
      "execution_count": 374,
      "metadata": {
        "id": "4v3__4G0wCg3"
      },
      "outputs": [],
      "source": [
        "X = df_new.drop('Churn', axis=1)\n",
        "\n",
        "# Copy target into the y dataframe.\n",
        "y = df_new['Churn']"
      ]
    },
    {
      "cell_type": "code",
      "execution_count": 375,
      "metadata": {
        "id": "NBUQIH2ZwCdq"
      },
      "outputs": [],
      "source": [
        "# Split X and y into training and test set in 70:30 ratio\n",
        "X_train, X_test, y_train, y_test = train_test_split(X, y, test_size=0.25 , random_state=1,stratify=df_new['Churn'])"
      ]
    },
    {
      "cell_type": "code",
      "source": [
        "y_train.value_counts(normalize=True)"
      ],
      "metadata": {
        "colab": {
          "base_uri": "https://localhost:8080/"
        },
        "id": "SEpEmHtGUhfS",
        "outputId": "777212d7-3ab9-496f-ee6d-de83e2fb61a7"
      },
      "execution_count": 376,
      "outputs": [
        {
          "output_type": "execute_result",
          "data": {
            "text/plain": [
              "0.0    0.831616\n",
              "1.0    0.168384\n",
              "Name: Churn, dtype: float64"
            ]
          },
          "metadata": {},
          "execution_count": 376
        }
      ]
    },
    {
      "cell_type": "code",
      "source": [
        "y_test.value_counts(normalize=True)"
      ],
      "metadata": {
        "colab": {
          "base_uri": "https://localhost:8080/"
        },
        "id": "GlpLjlOpUnIK",
        "outputId": "a6741f28-7a88-4f63-dd17-63dd1191028b"
      },
      "execution_count": 377,
      "outputs": [
        {
          "output_type": "execute_result",
          "data": {
            "text/plain": [
              "0.0    0.831616\n",
              "1.0    0.168384\n",
              "Name: Churn, dtype: float64"
            ]
          },
          "metadata": {},
          "execution_count": 377
        }
      ]
    },
    {
      "cell_type": "code",
      "execution_count": 378,
      "metadata": {
        "id": "tNWtU_yDx7ca"
      },
      "outputs": [],
      "source": [
        "from imblearn.over_sampling import SMOTE\n",
        "\n",
        "# Assuming you have already split your data into X_train and y_train\n",
        "\n",
        "# Initialize the SMOTE object\n",
        "smote = SMOTE(random_state=42)\n",
        "\n",
        "# Apply SMOTE to X_train\n",
        "X_train_resampled, y_train_resampled = smote.fit_resample(X_train, y_train)\n",
        "\n",
        "# Now, X_train_resampled contains the oversampled features, and y_train_resampled contains the corresponding labels.\n"
      ]
    },
    {
      "cell_type": "code",
      "source": [
        "y_train_resampled.value_counts(normalize=True)"
      ],
      "metadata": {
        "colab": {
          "base_uri": "https://localhost:8080/"
        },
        "id": "PXvPMTFHUETN",
        "outputId": "362ee93d-2850-4eec-c538-c6b8beaba735"
      },
      "execution_count": 379,
      "outputs": [
        {
          "output_type": "execute_result",
          "data": {
            "text/plain": [
              "0.0    0.5\n",
              "1.0    0.5\n",
              "Name: Churn, dtype: float64"
            ]
          },
          "metadata": {},
          "execution_count": 379
        }
      ]
    },
    {
      "cell_type": "markdown",
      "metadata": {
        "id": "IFQ2bHExObnj"
      },
      "source": [
        "#LogisticRegression"
      ]
    },
    {
      "cell_type": "code",
      "execution_count": null,
      "metadata": {
        "colab": {
          "base_uri": "https://localhost:8080/"
        },
        "id": "1dIr7ZXiwCag",
        "outputId": "dd71268a-b22b-4f49-9f4d-209c123f3d56"
      },
      "outputs": [
        {
          "name": "stdout",
          "output_type": "stream",
          "text": [
            "0.7902605724049552\n"
          ]
        },
        {
          "data": {
            "text/plain": [
              "0.7719360568383659"
            ]
          },
          "execution_count": 74,
          "metadata": {},
          "output_type": "execute_result"
        }
      ],
      "source": [
        "# Fit the Logistic Regression model\n",
        "model = LogisticRegression()\n",
        "model.fit(X_train_resampled, y_train_resampled)\n",
        "# Accuracy - Training Data\n",
        "print(model.score(X_train_resampled, y_train_resampled))\n",
        "# Accuracy - Test Data\n",
        "model.score(X_test, y_test)"
      ]
    },
    {
      "cell_type": "code",
      "execution_count": null,
      "metadata": {
        "colab": {
          "base_uri": "https://localhost:8080/"
        },
        "id": "SWKHnBDxwCX5",
        "outputId": "f149c958-7976-4c21-89b1-fed29f489f04"
      },
      "outputs": [
        {
          "name": "stdout",
          "output_type": "stream",
          "text": [
            "(14046, 17)\n",
            "(2815, 17)\n"
          ]
        }
      ],
      "source": [
        "print(X_train_resampled.shape)\n",
        "print(X_test.shape)"
      ]
    },
    {
      "cell_type": "code",
      "execution_count": null,
      "metadata": {
        "id": "QFD_ZQx4wCNh"
      },
      "outputs": [],
      "source": [
        "# Training Data Class Prediction with a cut-off value of 0.5\n",
        "pred_class_train = model.predict(X_train_resampled)\n",
        "\n",
        "# Test Data Class Prediction with a cut-off value of 0.5\n",
        "pred_class_test = model.predict(X_test)"
      ]
    },
    {
      "cell_type": "code",
      "execution_count": null,
      "metadata": {
        "colab": {
          "base_uri": "https://localhost:8080/"
        },
        "id": "WI8-rWmhPrWU",
        "outputId": "56f73e69-b950-4a60-ec46-ef0f2174d1cf"
      },
      "outputs": [
        {
          "name": "stdout",
          "output_type": "stream",
          "text": [
            "AUC-ROC Score for Training Set: 0.8694812060427801\n",
            "AUC-ROC Score for Testing Set: 0.8484698558263356\n"
          ]
        }
      ],
      "source": [
        "from sklearn.metrics import roc_auc_score\n",
        "\n",
        "# Assuming you have predictions on train data called y_train_pred_probs\n",
        "y_train_pred_probs = model.predict_proba(X_train_resampled)[:, 1]\n",
        "\n",
        "# Calculate AUC-ROC score for train data\n",
        "train_auc_roc = roc_auc_score(y_train_resampled, y_train_pred_probs)\n",
        "\n",
        "# Assuming you have predictions on test data called y_test_pred_probs\n",
        "y_test_pred_probs = model.predict_proba(X_test)[:, 1]\n",
        "\n",
        "# Calculate AUC-ROC score for test data\n",
        "test_auc_roc = roc_auc_score(y_test, y_test_pred_probs)\n",
        "\n",
        "print(\"AUC-ROC Score for Training Set:\", train_auc_roc)\n",
        "print(\"AUC-ROC Score for Testing Set:\", test_auc_roc)\n"
      ]
    },
    {
      "cell_type": "code",
      "execution_count": null,
      "metadata": {
        "colab": {
          "base_uri": "https://localhost:8080/"
        },
        "id": "vGCNx8q8xJdR",
        "outputId": "8af3128a-1965-47db-c446-97cbd7b08550"
      },
      "outputs": [
        {
          "name": "stdout",
          "output_type": "stream",
          "text": [
            "Classification Report of the training data:\n",
            "\n",
            "               precision    recall  f1-score   support\n",
            "\n",
            "         0.0       0.80      0.77      0.79      7023\n",
            "         1.0       0.78      0.81      0.79      7023\n",
            "\n",
            "    accuracy                           0.79     14046\n",
            "   macro avg       0.79      0.79      0.79     14046\n",
            "weighted avg       0.79      0.79      0.79     14046\n",
            " \n",
            "\n",
            "Classification Report of the test data:\n",
            "\n",
            "               precision    recall  f1-score   support\n",
            "\n",
            "         0.0       0.94      0.77      0.85      2341\n",
            "         1.0       0.41      0.76      0.53       474\n",
            "\n",
            "    accuracy                           0.77      2815\n",
            "   macro avg       0.67      0.77      0.69      2815\n",
            "weighted avg       0.85      0.77      0.80      2815\n",
            " \n",
            "\n"
          ]
        }
      ],
      "source": [
        "print('Classification Report of the training data:\\n\\n',metrics.classification_report(y_train_resampled,pred_class_train),'\\n')\n",
        "print('Classification Report of the test data:\\n\\n',metrics.classification_report(y_test,pred_class_test),'\\n')"
      ]
    },
    {
      "cell_type": "markdown",
      "metadata": {
        "id": "gGwh2jXnQYI0"
      },
      "source": [
        "#tunning LR\n"
      ]
    },
    {
      "cell_type": "code",
      "execution_count": null,
      "metadata": {
        "colab": {
          "base_uri": "https://localhost:8080/"
        },
        "id": "nvY1id74P_py",
        "outputId": "5291ddda-fabd-4d78-d135-b3e149ab05d6"
      },
      "outputs": [
        {
          "name": "stdout",
          "output_type": "stream",
          "text": [
            "Best Hyperparameters: {'C': 100, 'penalty': 'l2'}\n",
            "Accuracy on Training Set: 0.7923964117898334\n",
            "Accuracy on Testing Set: 0.7737122557726466\n"
          ]
        }
      ],
      "source": [
        "from sklearn.model_selection import GridSearchCV\n",
        "from sklearn.linear_model import LogisticRegression\n",
        "\n",
        "# Define the hyperparameters you want to tune\n",
        "param_grid = {\n",
        "    'C': [0.001, 0.01, 0.1, 1, 10, 100],  # Regularization parameter\n",
        "    'penalty': ['l1', 'l2']  # Regularization type\n",
        "}\n",
        "\n",
        "# Create the base model\n",
        "base_model = LogisticRegression(max_iter=1000)\n",
        "\n",
        "# Create the GridSearchCV object\n",
        "grid_search = GridSearchCV(estimator=base_model, param_grid=param_grid,\n",
        "                           scoring='accuracy', cv=5, n_jobs=-1)\n",
        "\n",
        "# Fit the GridSearchCV to the training data\n",
        "grid_search.fit(X_train_resampled, y_train_resampled)\n",
        "\n",
        "# Get the best parameters and the best model\n",
        "best_params = grid_search.best_params_\n",
        "best_model = grid_search.best_estimator_\n",
        "\n",
        "# Use the best model to make predictions\n",
        "y_train_pred = best_model.predict(X_train_resampled)\n",
        "y_test_pred = best_model.predict(X_test)\n",
        "\n",
        "# Print the best parameters\n",
        "print(\"Best Hyperparameters:\", best_params)\n",
        "\n",
        "# Print the accuracy scores\n",
        "print(\"Accuracy on Training Set:\", best_model.score(X_train_resampled, y_train_resampled))\n",
        "print(\"Accuracy on Testing Set:\", best_model.score(X_test, y_test))\n"
      ]
    },
    {
      "cell_type": "code",
      "execution_count": null,
      "metadata": {
        "colab": {
          "base_uri": "https://localhost:8080/"
        },
        "id": "xFEbCWDkRrWz",
        "outputId": "41d26555-c1e3-4f1b-b562-cee2240875f9"
      },
      "outputs": [
        {
          "name": "stdout",
          "output_type": "stream",
          "text": [
            "\n",
            "Classification Report for Training Set:\n",
            "              precision    recall  f1-score   support\n",
            "\n",
            "         0.0       0.80      0.77      0.79      7023\n",
            "         1.0       0.78      0.81      0.80      7023\n",
            "\n",
            "    accuracy                           0.79     14046\n",
            "   macro avg       0.79      0.79      0.79     14046\n",
            "weighted avg       0.79      0.79      0.79     14046\n",
            "\n",
            "\n",
            "Classification Report for Testing Set:\n",
            "              precision    recall  f1-score   support\n",
            "\n",
            "         0.0       0.94      0.77      0.85      2341\n",
            "         1.0       0.41      0.77      0.53       474\n",
            "\n",
            "    accuracy                           0.77      2815\n",
            "   macro avg       0.68      0.77      0.69      2815\n",
            "weighted avg       0.85      0.77      0.80      2815\n",
            "\n"
          ]
        }
      ],
      "source": [
        "from sklearn.metrics import classification_report\n",
        "\n",
        "# Generate the classification report for training set\n",
        "train_report = classification_report(y_train_resampled, y_train_pred)\n",
        "\n",
        "# Generate the classification report for testing set\n",
        "test_report = classification_report(y_test, y_test_pred)\n",
        "\n",
        "# Print the classification report for training set\n",
        "print(\"\\nClassification Report for Training Set:\")\n",
        "print(train_report)\n",
        "\n",
        "# Print the classification report for testing set\n",
        "print(\"\\nClassification Report for Testing Set:\")\n",
        "print(test_report)\n"
      ]
    },
    {
      "cell_type": "code",
      "execution_count": null,
      "metadata": {
        "colab": {
          "base_uri": "https://localhost:8080/"
        },
        "id": "NxXbmT3bQeIQ",
        "outputId": "003695c9-7328-4e45-b2ea-477af8b97272"
      },
      "outputs": [
        {
          "name": "stdout",
          "output_type": "stream",
          "text": [
            "AUC-ROC Score on Training Set: 0.8715990009352522\n",
            "AUC-ROC Score on Testing Set: 0.8513176416728397\n"
          ]
        }
      ],
      "source": [
        "from sklearn.metrics import roc_auc_score\n",
        "\n",
        "# Calculate AUC-ROC score on the training set\n",
        "train_auc_roc = roc_auc_score(y_train_resampled, best_model.predict_proba(X_train_resampled)[:, 1])\n",
        "\n",
        "# Calculate AUC-ROC score on the testing set\n",
        "test_auc_roc = roc_auc_score(y_test, best_model.predict_proba(X_test)[:, 1])\n",
        "\n",
        "# Print the AUC-ROC scores\n",
        "print(\"AUC-ROC Score on Training Set:\", train_auc_roc)\n",
        "print(\"AUC-ROC Score on Testing Set:\", test_auc_roc)\n"
      ]
    },
    {
      "cell_type": "markdown",
      "metadata": {
        "id": "kPbmNNmyR_Y1"
      },
      "source": [
        "#DT"
      ]
    },
    {
      "cell_type": "code",
      "execution_count": null,
      "metadata": {
        "colab": {
          "base_uri": "https://localhost:8080/"
        },
        "id": "2sgcIN6gT5la",
        "outputId": "017dc68c-1083-451a-fbac-7c6bae68c84f"
      },
      "outputs": [
        {
          "name": "stdout",
          "output_type": "stream",
          "text": [
            "Classification Report for Training Set:\n",
            "              precision    recall  f1-score   support\n",
            "\n",
            "         0.0       1.00      1.00      1.00      7023\n",
            "         1.0       1.00      1.00      1.00      7023\n",
            "\n",
            "    accuracy                           1.00     14046\n",
            "   macro avg       1.00      1.00      1.00     14046\n",
            "weighted avg       1.00      1.00      1.00     14046\n",
            "\n",
            "\n",
            "Classification Report for Testing Set:\n",
            "              precision    recall  f1-score   support\n",
            "\n",
            "         0.0       0.96      0.95      0.95      2341\n",
            "         1.0       0.76      0.81      0.78       474\n",
            "\n",
            "    accuracy                           0.92      2815\n",
            "   macro avg       0.86      0.88      0.87      2815\n",
            "weighted avg       0.93      0.92      0.93      2815\n",
            "\n"
          ]
        }
      ],
      "source": [
        "# Importing necessary libraries\n",
        "from sklearn.tree import DecisionTreeClassifier\n",
        "from sklearn.metrics import classification_report\n",
        "\n",
        "# Assuming you have your training and testing data ready\n",
        "\n",
        "# Creating and training the decision tree model\n",
        "model = DecisionTreeClassifier()\n",
        "model.fit(X_train_resampled, y_train_resampled)\n",
        "\n",
        "# Making predictions on the train and test sets\n",
        "y_train_pred = model.predict(X_train_resampled)\n",
        "y_test_pred = model.predict(X_test)\n",
        "\n",
        "# Generating the classification reports\n",
        "train_report = classification_report(y_train_resampled, y_train_pred)\n",
        "test_report = classification_report(y_test, y_test_pred)\n",
        "\n",
        "# Printing the reports\n",
        "print(\"Classification Report for Training Set:\")\n",
        "print(train_report)\n",
        "\n",
        "print(\"\\nClassification Report for Testing Set:\")\n",
        "print(test_report)\n"
      ]
    },
    {
      "cell_type": "code",
      "execution_count": null,
      "metadata": {
        "colab": {
          "base_uri": "https://localhost:8080/"
        },
        "id": "r1MmysOdSJKS",
        "outputId": "53198170-3fd1-48b3-ba73-91dd0ad34139"
      },
      "outputs": [
        {
          "name": "stdout",
          "output_type": "stream",
          "text": [
            "AUC Score for Training Set: 1.0\n",
            "AUC Score for Testing Set: 0.8771099299408633\n"
          ]
        }
      ],
      "source": [
        "from sklearn.metrics import roc_auc_score\n",
        "\n",
        "# Calculate the AUC score for the training set\n",
        "train_auc = roc_auc_score(y_train_resampled, y_train_pred)\n",
        "\n",
        "# Calculate the AUC score for the testing set\n",
        "test_auc = roc_auc_score(y_test, y_test_pred)\n",
        "\n",
        "# Print the AUC scores\n",
        "print(f\"AUC Score for Training Set: {train_auc}\")\n",
        "print(f\"AUC Score for Testing Set: {test_auc}\")\n"
      ]
    },
    {
      "cell_type": "code",
      "execution_count": null,
      "metadata": {
        "colab": {
          "base_uri": "https://localhost:8080/"
        },
        "id": "3OwihLdDvxS3",
        "outputId": "98445a6c-b348-43c9-d7fc-5e5d07fa240d"
      },
      "outputs": [
        {
          "name": "stdout",
          "output_type": "stream",
          "text": [
            "Best Hyperparameters: {'criterion': 'gini', 'max_features': 'log2', 'min_samples_leaf': 1, 'min_samples_split': 2}\n",
            "\n",
            "Classification Report for Training Set:\n",
            "              precision    recall  f1-score   support\n",
            "\n",
            "         0.0       1.00      1.00      1.00      7023\n",
            "         1.0       1.00      1.00      1.00      7023\n",
            "\n",
            "    accuracy                           1.00     14046\n",
            "   macro avg       1.00      1.00      1.00     14046\n",
            "weighted avg       1.00      1.00      1.00     14046\n",
            "\n",
            "\n",
            "Classification Report for Testing Set:\n",
            "              precision    recall  f1-score   support\n",
            "\n",
            "         0.0       0.96      0.95      0.95      2341\n",
            "         1.0       0.74      0.78      0.76       474\n",
            "\n",
            "    accuracy                           0.92      2815\n",
            "   macro avg       0.85      0.86      0.86      2815\n",
            "weighted avg       0.92      0.92      0.92      2815\n",
            "\n"
          ]
        }
      ],
      "source": [
        "from sklearn.tree import DecisionTreeClassifier\n",
        "from sklearn.model_selection import GridSearchCV\n",
        "from sklearn.metrics import classification_report\n",
        "\n",
        "# Define the hyperparameters you want to tune\n",
        "param_grid = {\n",
        "    'criterion': ['gini', 'entropy'],\n",
        "\n",
        "    'min_samples_split': [2, 5, 10, 15, 20],\n",
        "    'min_samples_leaf': [1, 2, 4],\n",
        "    'max_features': ['auto', 'sqrt', 'log2']\n",
        "}\n",
        "\n",
        "# Create the base model\n",
        "base_model = DecisionTreeClassifier()\n",
        "\n",
        "# Create the GridSearchCV object\n",
        "grid_search = GridSearchCV(estimator=base_model, param_grid=param_grid,\n",
        "                           scoring='accuracy', cv=5, n_jobs=-1)\n",
        "\n",
        "# Fit the GridSearchCV to the training data\n",
        "grid_search.fit(X_train_resampled, y_train_resampled)\n",
        "\n",
        "# Get the best parameters and the best model\n",
        "best_params = grid_search.best_params_\n",
        "best_model = grid_search.best_estimator_\n",
        "\n",
        "# Use the best model to make predictions\n",
        "y_train_pred = best_model.predict(X_train_resampled)\n",
        "y_test_pred = best_model.predict(X_test)\n",
        "\n",
        "# Generate the classification reports\n",
        "train_report = classification_report(y_train_resampled, y_train_pred)\n",
        "test_report = classification_report(y_test, y_test_pred)\n",
        "\n",
        "# Printing the reports and best parameters\n",
        "print(\"Best Hyperparameters:\", best_params)\n",
        "\n",
        "print(\"\\nClassification Report for Training Set:\")\n",
        "print(train_report)\n",
        "\n",
        "print(\"\\nClassification Report for Testing Set:\")\n",
        "print(test_report)\n"
      ]
    },
    {
      "cell_type": "code",
      "execution_count": null,
      "metadata": {
        "colab": {
          "base_uri": "https://localhost:8080/"
        },
        "id": "RAug19aETgw4",
        "outputId": "68a58f56-97b9-42a7-be95-c0c116623a84"
      },
      "outputs": [
        {
          "name": "stdout",
          "output_type": "stream",
          "text": [
            "\n",
            "AUC Score for Training Set: 1.0\n",
            "AUC Score for Testing Set: 0.8629566145233473\n"
          ]
        }
      ],
      "source": [
        "train_auc = roc_auc_score(y_train_resampled, best_model.predict_proba(X_train_resampled)[:, 1])\n",
        "test_auc = roc_auc_score(y_test, best_model.predict_proba(X_test)[:, 1])\n",
        "\n",
        "print(f\"\\nAUC Score for Training Set: {train_auc}\")\n",
        "print(f\"AUC Score for Testing Set: {test_auc}\")"
      ]
    },
    {
      "cell_type": "markdown",
      "metadata": {
        "id": "9YBCa8qiT4Ne"
      },
      "source": [
        "#RF"
      ]
    },
    {
      "cell_type": "code",
      "execution_count": null,
      "metadata": {
        "colab": {
          "base_uri": "https://localhost:8080/"
        },
        "id": "tR-1-4z0T7ez",
        "outputId": "d8c836d8-8a9d-483c-b52c-1c455fee0437"
      },
      "outputs": [
        {
          "name": "stdout",
          "output_type": "stream",
          "text": [
            "Classification Report for Training Set:\n",
            "              precision    recall  f1-score   support\n",
            "\n",
            "         0.0       1.00      1.00      1.00      7023\n",
            "         1.0       1.00      1.00      1.00      7023\n",
            "\n",
            "    accuracy                           1.00     14046\n",
            "   macro avg       1.00      1.00      1.00     14046\n",
            "weighted avg       1.00      1.00      1.00     14046\n",
            "\n",
            "\n",
            "Classification Report for Testing Set:\n",
            "              precision    recall  f1-score   support\n",
            "\n",
            "         0.0       0.98      0.99      0.98      2341\n",
            "         1.0       0.94      0.88      0.91       474\n",
            "\n",
            "    accuracy                           0.97      2815\n",
            "   macro avg       0.96      0.93      0.94      2815\n",
            "weighted avg       0.97      0.97      0.97      2815\n",
            "\n"
          ]
        }
      ],
      "source": [
        "# Importing necessary libraries\n",
        "from sklearn.tree import DecisionTreeClassifier\n",
        "from sklearn.metrics import classification_report\n",
        "from sklearn.ensemble import RandomForestClassifier\n",
        "\n",
        "# Assuming you have your training and testing data ready\n",
        "\n",
        "# Creating and training the decision tree model\n",
        "model = RandomForestClassifier()\n",
        "model.fit(X_train_resampled, y_train_resampled)\n",
        "\n",
        "# Making predictions on the train and test sets\n",
        "y_train_pred = model.predict(X_train_resampled)\n",
        "y_test_pred = model.predict(X_test)\n",
        "\n",
        "# Generating the classification reports\n",
        "train_report = classification_report(y_train_resampled, y_train_pred)\n",
        "test_report = classification_report(y_test, y_test_pred)\n",
        "\n",
        "# Printing the reports\n",
        "print(\"Classification Report for Training Set:\")\n",
        "print(train_report)\n",
        "\n",
        "print(\"\\nClassification Report for Testing Set:\")\n",
        "print(test_report)\n"
      ]
    },
    {
      "cell_type": "code",
      "execution_count": null,
      "metadata": {
        "colab": {
          "base_uri": "https://localhost:8080/"
        },
        "id": "ZYw3CsvXUZBP",
        "outputId": "2f13b226-1f03-4bb2-9028-62dd9dce4598"
      },
      "outputs": [
        {
          "name": "stdout",
          "output_type": "stream",
          "text": [
            "AUC Score for Training Set: 1.0\n",
            "AUC Score for Testing Set: 0.9328382151231848\n"
          ]
        }
      ],
      "source": [
        "from sklearn.metrics import roc_auc_score\n",
        "\n",
        "# Calculate the AUC score for the training set\n",
        "train_auc = roc_auc_score(y_train_resampled, y_train_pred)\n",
        "\n",
        "# Calculate the AUC score for the testing set\n",
        "test_auc = roc_auc_score(y_test, y_test_pred)\n",
        "\n",
        "# Print the AUC scores\n",
        "print(f\"AUC Score for Training Set: {train_auc}\")\n",
        "print(f\"AUC Score for Testing Set: {test_auc}\")\n"
      ]
    },
    {
      "cell_type": "code",
      "execution_count": null,
      "metadata": {
        "colab": {
          "background_save": true
        },
        "id": "bUk-gcqxxKY_",
        "outputId": "efbf0f2f-de35-44f8-9fdb-7d9e88a1a247"
      },
      "outputs": [
        {
          "name": "stdout",
          "output_type": "stream",
          "text": [
            "Best Hyperparameters: {'criterion': 'entropy', 'max_depth': 20, 'max_features': 'log2', 'min_samples_leaf': 1, 'min_samples_split': 2}\n",
            "\n",
            "Classification Report for Training Set:\n",
            "              precision    recall  f1-score   support\n",
            "\n",
            "         0.0       1.00      1.00      1.00      7023\n",
            "         1.0       1.00      1.00      1.00      7023\n",
            "\n",
            "    accuracy                           1.00     14046\n",
            "   macro avg       1.00      1.00      1.00     14046\n",
            "weighted avg       1.00      1.00      1.00     14046\n",
            "\n",
            "\n",
            "Classification Report for Testing Set:\n",
            "              precision    recall  f1-score   support\n",
            "\n",
            "         0.0       0.98      0.99      0.98      2341\n",
            "         1.0       0.94      0.88      0.91       474\n",
            "\n",
            "    accuracy                           0.97      2815\n",
            "   macro avg       0.96      0.93      0.94      2815\n",
            "weighted avg       0.97      0.97      0.97      2815\n",
            "\n"
          ]
        }
      ],
      "source": [
        "from sklearn.ensemble import RandomForestClassifier\n",
        "from sklearn.model_selection import GridSearchCV\n",
        "from sklearn.metrics import classification_report\n",
        "\n",
        "# Define the hyperparameters you want to tune\n",
        "param_grid = {\n",
        "\n",
        "    'max_depth': [None, 5, 10, 20],  # Maximum depth of the trees\n",
        "\n",
        "    'min_samples_split': [2, 5, 10],  # Minimum samples required to split an internal node\n",
        "\n",
        "    'min_samples_leaf': [1, 2, 4],  # Minimum number of samples required to be at a leaf node\n",
        "\n",
        "    'max_features': ['auto', 'sqrt', 'log2'],  # Number of features to consider when looking for the best split\n",
        "\n",
        "    'criterion': ['gini', 'entropy'],  # Function to measure the quality of a split\n",
        "\n",
        "}\n",
        "\n",
        "# Create the base model\n",
        "base_model = RandomForestClassifier()\n",
        "\n",
        "# Create the GridSearchCV object\n",
        "grid_search = GridSearchCV(estimator=base_model, param_grid=param_grid,\n",
        "                           scoring='accuracy', cv=5, n_jobs=-1)\n",
        "\n",
        "# Fit the GridSearchCV to the training data\n",
        "grid_search.fit(X_train_resampled, y_train_resampled)\n",
        "\n",
        "# Get the best parameters and the best model\n",
        "best_params = grid_search.best_params_\n",
        "best_model = grid_search.best_estimator_\n",
        "\n",
        "# Use the best model to make predictions\n",
        "y_train_pred = best_model.predict(X_train_resampled)\n",
        "y_test_pred = best_model.predict(X_test)\n",
        "\n",
        "# Generate the classification reports\n",
        "train_report = classification_report(y_train_resampled, y_train_pred)\n",
        "test_report = classification_report(y_test, y_test_pred)\n",
        "\n",
        "# Printing the reports and best parameters\n",
        "print(\"Best Hyperparameters:\", best_params)\n",
        "\n",
        "print(\"\\nClassification Report for Training Set:\")\n",
        "print(train_report)\n",
        "\n",
        "print(\"\\nClassification Report for Testing Set:\")\n",
        "print(test_report)\n"
      ]
    },
    {
      "cell_type": "code",
      "source": [
        "y_train_pred_proba = best_model.predict_proba(X_train_resampled)[:, 1]\n",
        "y_test_pred_proba = best_model.predict_proba(X_test)[:, 1]\n",
        "\n",
        "# Calculate the AUC-ROC scores\n",
        "auc_roc_train = roc_auc_score(y_train_resampled, y_train_pred_proba)\n",
        "auc_roc_test = roc_auc_score(y_test, y_test_pred_proba)\n",
        "\n",
        "# Printing the AUC-ROC scores\n",
        "print(\"\\nAUC-ROC Score for Training Set:\", auc_roc_train)\n",
        "print(\"AUC-ROC Score for Testing Set:\", auc_roc_test)"
      ],
      "metadata": {
        "colab": {
          "base_uri": "https://localhost:8080/"
        },
        "id": "WLgchZhenz7i",
        "outputId": "127f48fb-ae4f-47c8-cfd1-53953e0b367b"
      },
      "execution_count": 31,
      "outputs": [
        {
          "output_type": "stream",
          "name": "stdout",
          "text": [
            "\n",
            "AUC-ROC Score for Training Set: 1.0\n",
            "AUC-ROC Score for Testing Set: 0.9907451465978871\n"
          ]
        }
      ]
    },
    {
      "cell_type": "markdown",
      "source": [
        "Bagging"
      ],
      "metadata": {
        "id": "-EtBVissn-5-"
      }
    },
    {
      "cell_type": "code",
      "execution_count": 32,
      "metadata": {
        "colab": {
          "base_uri": "https://localhost:8080/"
        },
        "id": "k8noBRiByeXt",
        "outputId": "45285934-525b-4029-88e6-393d659938a0"
      },
      "outputs": [
        {
          "output_type": "stream",
          "name": "stdout",
          "text": [
            "\n",
            "Classification Report for Training Set:\n",
            "              precision    recall  f1-score   support\n",
            "\n",
            "         0.0       1.00      1.00      1.00      7023\n",
            "         1.0       1.00      1.00      1.00      7023\n",
            "\n",
            "    accuracy                           1.00     14046\n",
            "   macro avg       1.00      1.00      1.00     14046\n",
            "weighted avg       1.00      1.00      1.00     14046\n",
            "\n",
            "\n",
            "Classification Report for Testing Set:\n",
            "              precision    recall  f1-score   support\n",
            "\n",
            "         0.0       0.96      0.98      0.97      2341\n",
            "         1.0       0.87      0.81      0.84       474\n",
            "\n",
            "    accuracy                           0.95      2815\n",
            "   macro avg       0.92      0.90      0.91      2815\n",
            "weighted avg       0.95      0.95      0.95      2815\n",
            "\n"
          ]
        }
      ],
      "source": [
        "from sklearn.ensemble import BaggingClassifier\n",
        "from sklearn.tree import DecisionTreeClassifier\n",
        "from sklearn.metrics import classification_report\n",
        "\n",
        "# Create the base estimator (Decision Tree Classifier in this case)\n",
        "base_estimator = DecisionTreeClassifier()\n",
        "\n",
        "# Create the BaggingClassifier\n",
        "bagging_model = BaggingClassifier(base_estimator=base_estimator, random_state=42)\n",
        "\n",
        "# Train the model\n",
        "bagging_model.fit(X_train_resampled, y_train_resampled)\n",
        "\n",
        "# Make predictions on the train and test sets\n",
        "y_train_pred = bagging_model.predict(X_train_resampled)\n",
        "y_test_pred = bagging_model.predict(X_test)\n",
        "\n",
        "# Generate the classification reports\n",
        "train_report = classification_report(y_train_resampled, y_train_pred)\n",
        "test_report = classification_report(y_test, y_test_pred)\n",
        "\n",
        "# Printing the reports\n",
        "print(\"\\nClassification Report for Training Set:\")\n",
        "print(train_report)\n",
        "\n",
        "print(\"\\nClassification Report for Testing Set:\")\n",
        "print(test_report)\n"
      ]
    },
    {
      "cell_type": "code",
      "execution_count": 34,
      "metadata": {
        "colab": {
          "base_uri": "https://localhost:8080/"
        },
        "id": "4pHtxuoFzKHM",
        "outputId": "f89b1382-41f2-4a5f-94e8-ca566715233e"
      },
      "outputs": [
        {
          "output_type": "stream",
          "name": "stdout",
          "text": [
            "\n",
            "Classification Report for Training Set:\n",
            "              precision    recall  f1-score   support\n",
            "\n",
            "         0.0       1.00      1.00      1.00      7023\n",
            "         1.0       1.00      1.00      1.00      7023\n",
            "\n",
            "    accuracy                           1.00     14046\n",
            "   macro avg       1.00      1.00      1.00     14046\n",
            "weighted avg       1.00      1.00      1.00     14046\n",
            "\n",
            "\n",
            "Classification Report for Testing Set:\n",
            "              precision    recall  f1-score   support\n",
            "\n",
            "         0.0       0.98      0.97      0.98      2341\n",
            "         1.0       0.88      0.88      0.88       474\n",
            "\n",
            "    accuracy                           0.96      2815\n",
            "   macro avg       0.93      0.93      0.93      2815\n",
            "weighted avg       0.96      0.96      0.96      2815\n",
            "\n"
          ]
        }
      ],
      "source": [
        "from sklearn.ensemble import BaggingClassifier\n",
        "from sklearn.tree import DecisionTreeClassifier\n",
        "from sklearn.metrics import classification_report\n",
        "\n",
        "# Create the base estimator (Decision Tree Classifier in this case)\n",
        "base_estimator = DecisionTreeClassifier()\n",
        "\n",
        "# Create the BaggingClassifier\n",
        "bagging_model = BaggingClassifier(base_estimator=base_estimator, n_estimators=200, random_state=42)\n",
        "\n",
        "# Train the model\n",
        "bagging_model.fit(X_train_resampled, y_train_resampled)\n",
        "\n",
        "# Make predictions on the train and test sets\n",
        "y_train_probs = bagging_model.predict_proba(X_train_resampled)[:, 1]\n",
        "y_test_probs = bagging_model.predict_proba(X_test)[:, 1]\n",
        "\n",
        "# Set a custom threshold (e.g., 0.7)\n",
        "custom_threshold = 0.5\n",
        "\n",
        "# Apply the custom threshold\n",
        "y_train_pred = (y_train_probs >= custom_threshold).astype(int)\n",
        "y_test_pred = (y_test_probs >= custom_threshold).astype(int)\n",
        "\n",
        "# Generate the classification reports\n",
        "train_report = classification_report(y_train_resampled, y_train_pred)\n",
        "test_report = classification_report(y_test, y_test_pred)\n",
        "\n",
        "# Printing the reports\n",
        "print(\"\\nClassification Report for Training Set:\")\n",
        "print(train_report)\n",
        "\n",
        "print(\"\\nClassification Report for Testing Set:\")\n",
        "print(test_report)\n"
      ]
    },
    {
      "cell_type": "code",
      "source": [
        "y_train_pred_proba = bagging_model.predict_proba(X_train_resampled)[:, 1]\n",
        "y_test_pred_proba = bagging_model.predict_proba(X_test)[:, 1]\n",
        "\n",
        "# Calculate the AUC-ROC scores\n",
        "auc_roc_train = roc_auc_score(y_train_resampled, y_train_pred_proba)\n",
        "auc_roc_test = roc_auc_score(y_test, y_test_pred_proba)\n",
        "\n",
        "# Printing the AUC-ROC scores\n",
        "print(\"\\nAUC-ROC Score for Training Set:\", auc_roc_train)\n",
        "print(\"AUC-ROC Score for Testing Set:\", auc_roc_test)"
      ],
      "metadata": {
        "colab": {
          "base_uri": "https://localhost:8080/"
        },
        "id": "RDZO02tfosny",
        "outputId": "cfa2faf3-3d0d-47b0-945d-def4845485d2"
      },
      "execution_count": 35,
      "outputs": [
        {
          "output_type": "stream",
          "name": "stdout",
          "text": [
            "\n",
            "AUC-ROC Score for Training Set: 1.0\n",
            "AUC-ROC Score for Testing Set: 0.9846507947665627\n"
          ]
        }
      ]
    },
    {
      "cell_type": "code",
      "source": [
        "from sklearn.ensemble import BaggingClassifier\n",
        "from sklearn.tree import DecisionTreeClassifier\n",
        "from sklearn.metrics import classification_report\n",
        "from sklearn.model_selection import GridSearchCV\n",
        "\n",
        "# Create the base estimator (Decision Tree Classifier in this case)\n",
        "base_estimator = DecisionTreeClassifier()\n",
        "\n",
        "# Create the BaggingClassifier\n",
        "bagging_model = BaggingClassifier(base_estimator=base_estimator, random_state=42)\n",
        "\n",
        "# Define the hyperparameters you want to tune\n",
        "param_grid = {\n",
        "    'n_estimators': [100, 200, 300],\n",
        "    'max_samples': [0.5, 0.7, 1.0],\n",
        "    'max_features': [0.5, 0.7, 1.0]\n",
        "}\n",
        "\n",
        "# Create the GridSearchCV object\n",
        "grid_search = GridSearchCV(estimator=bagging_model, param_grid=param_grid, scoring='accuracy', cv=5, n_jobs=-1)\n",
        "\n",
        "# Fit the GridSearchCV to the training data\n",
        "grid_search.fit(X_train_resampled, y_train_resampled)\n",
        "\n",
        "# Get the best parameters and the best model\n",
        "best_params = grid_search.best_params_\n",
        "best_model = grid_search.best_estimator_\n",
        "\n",
        "# Make predictions on the train and test sets\n",
        "y_train_pred = best_model.predict(X_train_resampled)\n",
        "y_test_pred = best_model.predict(X_test)\n",
        "\n",
        "# Generate the classification reports\n",
        "train_report = classification_report(y_train_resampled, y_train_pred)\n",
        "test_report = classification_report(y_test, y_test_pred)\n",
        "\n",
        "# Printing the reports and best parameters\n",
        "print(\"Best Hyperparameters:\", best_params)\n",
        "\n",
        "print(\"\\nClassification Report for Training Set:\")\n",
        "print(train_report)\n",
        "\n",
        "print(\"\\nClassification Report for Testing Set:\")\n",
        "print(test_report)\n"
      ],
      "metadata": {
        "colab": {
          "base_uri": "https://localhost:8080/"
        },
        "id": "V-_471qEpHcm",
        "outputId": "639629a2-4a19-4011-e5b6-6d2919910072"
      },
      "execution_count": 36,
      "outputs": [
        {
          "output_type": "stream",
          "name": "stdout",
          "text": [
            "Best Hyperparameters: {'max_features': 0.7, 'max_samples': 1.0, 'n_estimators': 300}\n",
            "\n",
            "Classification Report for Training Set:\n",
            "              precision    recall  f1-score   support\n",
            "\n",
            "         0.0       1.00      1.00      1.00      7023\n",
            "         1.0       1.00      1.00      1.00      7023\n",
            "\n",
            "    accuracy                           1.00     14046\n",
            "   macro avg       1.00      1.00      1.00     14046\n",
            "weighted avg       1.00      1.00      1.00     14046\n",
            "\n",
            "\n",
            "Classification Report for Testing Set:\n",
            "              precision    recall  f1-score   support\n",
            "\n",
            "         0.0       0.97      0.99      0.98      2341\n",
            "         1.0       0.96      0.85      0.90       474\n",
            "\n",
            "    accuracy                           0.97      2815\n",
            "   macro avg       0.97      0.92      0.94      2815\n",
            "weighted avg       0.97      0.97      0.97      2815\n",
            "\n"
          ]
        }
      ]
    },
    {
      "cell_type": "code",
      "source": [
        "from sklearn.metrics import roc_auc_score\n",
        "\n",
        "# Get the predicted probabilities for the positive class\n",
        "y_train_probs = best_model.predict_proba(X_train_resampled)[:, 1]\n",
        "y_test_probs = best_model.predict_proba(X_test)[:, 1]\n",
        "\n",
        "# Calculate the AUC score\n",
        "train_auc = roc_auc_score(y_train_resampled, y_train_probs)\n",
        "test_auc = roc_auc_score(y_test, y_test_probs)\n",
        "\n",
        "# Printing the AUC scores\n",
        "print(\"AUC Score for Training Set:\", train_auc)\n",
        "print(\"AUC Score for Testing Set:\", test_auc)\n"
      ],
      "metadata": {
        "colab": {
          "base_uri": "https://localhost:8080/"
        },
        "id": "seVuPuA0rV4Q",
        "outputId": "750657d1-2514-4ba3-a185-88b73ee5373d"
      },
      "execution_count": 39,
      "outputs": [
        {
          "output_type": "stream",
          "name": "stdout",
          "text": [
            "AUC Score for Training Set: 1.0\n",
            "AUC Score for Testing Set: 0.9941435644545858\n"
          ]
        }
      ]
    },
    {
      "cell_type": "code",
      "source": [],
      "metadata": {
        "id": "OP-vZWVOrVYt"
      },
      "execution_count": null,
      "outputs": []
    },
    {
      "cell_type": "markdown",
      "source": [
        "ADAboost"
      ],
      "metadata": {
        "id": "g3D3jgPDpJgk"
      }
    },
    {
      "cell_type": "code",
      "execution_count": 38,
      "metadata": {
        "colab": {
          "base_uri": "https://localhost:8080/"
        },
        "id": "L7nQ_32740j5",
        "outputId": "912e98f7-c8c4-4fd8-f986-c78d8bb5f674"
      },
      "outputs": [
        {
          "output_type": "stream",
          "name": "stdout",
          "text": [
            "\n",
            "Classification Report for Training Set:\n",
            "              precision    recall  f1-score   support\n",
            "\n",
            "         0.0       1.00      1.00      1.00      7023\n",
            "         1.0       1.00      1.00      1.00      7023\n",
            "\n",
            "    accuracy                           1.00     14046\n",
            "   macro avg       1.00      1.00      1.00     14046\n",
            "weighted avg       1.00      1.00      1.00     14046\n",
            "\n",
            "\n",
            "Classification Report for Testing Set:\n",
            "              precision    recall  f1-score   support\n",
            "\n",
            "         0.0       0.96      0.95      0.96      2341\n",
            "         1.0       0.77      0.83      0.80       474\n",
            "\n",
            "    accuracy                           0.93      2815\n",
            "   macro avg       0.87      0.89      0.88      2815\n",
            "weighted avg       0.93      0.93      0.93      2815\n",
            "\n"
          ]
        }
      ],
      "source": [
        "from sklearn.ensemble import AdaBoostClassifier\n",
        "from sklearn.tree import DecisionTreeClassifier\n",
        "from sklearn.metrics import classification_report\n",
        "\n",
        "# Create the base estimator (Decision Tree Classifier in this case)\n",
        "base_estimator = DecisionTreeClassifier()  # Adjust max_depth as needed\n",
        "\n",
        "# Create the AdaBoostClassifier\n",
        "adaboost_model = AdaBoostClassifier(base_estimator=base_estimator, random_state=42)\n",
        "\n",
        "# Train the model\n",
        "adaboost_model.fit(X_train_resampled, y_train_resampled)\n",
        "\n",
        "# Get the raw decision function scores for the train and test sets\n",
        "train_scores = adaboost_model.decision_function(X_train_resampled)\n",
        "test_scores = adaboost_model.decision_function(X_test)\n",
        "\n",
        "# Set a custom threshold (e.g., 0.25)\n",
        "custom_threshold = 0.5\n",
        "\n",
        "# Apply the custom threshold to get binary predictions\n",
        "y_train_pred = (train_scores >= custom_threshold).astype(int)\n",
        "y_test_pred = (test_scores >= custom_threshold).astype(int)\n",
        "\n",
        "# Generate the classification reports\n",
        "train_report = classification_report(y_train_resampled, y_train_pred)\n",
        "test_report = classification_report(y_test, y_test_pred)\n",
        "\n",
        "# Printing the reports\n",
        "print(\"\\nClassification Report for Training Set:\")\n",
        "print(train_report)\n",
        "\n",
        "print(\"\\nClassification Report for Testing Set:\")\n",
        "print(test_report)\n"
      ]
    },
    {
      "cell_type": "code",
      "execution_count": 40,
      "metadata": {
        "id": "Qbl-5udGcisG",
        "colab": {
          "base_uri": "https://localhost:8080/"
        },
        "outputId": "e383a143-8fcf-43b2-fd71-9b190b60b55b"
      },
      "outputs": [
        {
          "output_type": "stream",
          "name": "stdout",
          "text": [
            "AUC Score for Training Set: 1.0\n",
            "AUC Score for Testing Set: 0.8897812251607287\n"
          ]
        }
      ],
      "source": [
        "from sklearn.metrics import roc_auc_score\n",
        "\n",
        "# Get the raw decision function scores for the train and test sets\n",
        "train_scores = adaboost_model.decision_function(X_train_resampled)\n",
        "test_scores = adaboost_model.decision_function(X_test)\n",
        "\n",
        "# Calculate the AUC score\n",
        "train_auc = roc_auc_score(y_train_resampled, train_scores)\n",
        "test_auc = roc_auc_score(y_test, test_scores)\n",
        "\n",
        "# Printing the AUC scores\n",
        "print(\"AUC Score for Training Set:\", train_auc)\n",
        "print(\"AUC Score for Testing Set:\", test_auc)\n"
      ]
    },
    {
      "cell_type": "code",
      "source": [
        "from sklearn.ensemble import AdaBoostClassifier\n",
        "from sklearn.tree import DecisionTreeClassifier\n",
        "from sklearn.metrics import classification_report\n",
        "from sklearn.model_selection import GridSearchCV\n",
        "\n",
        "# Create the base estimator (Decision Tree Classifier in this case)\n",
        "base_estimator = DecisionTreeClassifier()  # Adjust max_depth as needed\n",
        "\n",
        "# Create the AdaBoostClassifier\n",
        "adaboost_model = AdaBoostClassifier(base_estimator=base_estimator, random_state=42)\n",
        "\n",
        "# Define the hyperparameters you want to tune\n",
        "param_grid = {\n",
        "    'n_estimators': [50, 100, 200],  # Number of weak learners\n",
        "    'learning_rate': [0.01, 0.1, 1.0]  # Contribution of each weak learner\n",
        "}\n",
        "\n",
        "# Create the GridSearchCV object\n",
        "grid_search = GridSearchCV(estimator=adaboost_model, param_grid=param_grid,\n",
        "                           scoring='accuracy', cv=5, n_jobs=-1)\n",
        "\n",
        "# Fit the GridSearchCV to the training data\n",
        "grid_search.fit(X_train_resampled, y_train_resampled)\n",
        "\n",
        "# Get the best parameters and the best model\n",
        "best_params = grid_search.best_params_\n",
        "best_model = grid_search.best_estimator_\n",
        "\n",
        "# Get the raw decision function scores for the train and test sets\n",
        "train_scores = best_model.decision_function(X_train_resampled)\n",
        "test_scores = best_model.decision_function(X_test)\n",
        "\n",
        "# Set a custom threshold (e.g., 0.5)\n",
        "custom_threshold = 0.5\n",
        "\n",
        "# Apply the custom threshold to get binary predictions\n",
        "y_train_pred = (train_scores >= custom_threshold).astype(int)\n",
        "y_test_pred = (test_scores >= custom_threshold).astype(int)\n",
        "\n",
        "# Generate the classification reports\n",
        "train_report = classification_report(y_train_resampled, y_train_pred)\n",
        "test_report = classification_report(y_test, y_test_pred)\n",
        "\n",
        "# Printing the reports and best parameters\n",
        "print(\"Best Hyperparameters:\", best_params)\n",
        "\n",
        "print(\"\\nClassification Report for Training Set:\")\n",
        "print(train_report)\n",
        "\n",
        "print(\"\\nClassification Report for Testing Set:\")\n",
        "print(test_report)\n"
      ],
      "metadata": {
        "colab": {
          "base_uri": "https://localhost:8080/"
        },
        "id": "Wx4RIwW7r2ri",
        "outputId": "7cb98c4f-6c7f-426d-e9d7-4d9e7808f284"
      },
      "execution_count": 41,
      "outputs": [
        {
          "output_type": "stream",
          "name": "stdout",
          "text": [
            "Best Hyperparameters: {'learning_rate': 0.01, 'n_estimators': 50}\n",
            "\n",
            "Classification Report for Training Set:\n",
            "              precision    recall  f1-score   support\n",
            "\n",
            "         0.0       1.00      1.00      1.00      7023\n",
            "         1.0       1.00      1.00      1.00      7023\n",
            "\n",
            "    accuracy                           1.00     14046\n",
            "   macro avg       1.00      1.00      1.00     14046\n",
            "weighted avg       1.00      1.00      1.00     14046\n",
            "\n",
            "\n",
            "Classification Report for Testing Set:\n",
            "              precision    recall  f1-score   support\n",
            "\n",
            "         0.0       0.96      0.95      0.96      2341\n",
            "         1.0       0.77      0.83      0.80       474\n",
            "\n",
            "    accuracy                           0.93      2815\n",
            "   macro avg       0.87      0.89      0.88      2815\n",
            "weighted avg       0.93      0.93      0.93      2815\n",
            "\n"
          ]
        }
      ]
    },
    {
      "cell_type": "code",
      "source": [
        "train_auc_score = roc_auc_score(y_train_resampled, train_scores)\n",
        "\n",
        "# Calculate AUC-ROC score for testing set\n",
        "test_auc_score = roc_auc_score(y_test, test_scores)\n",
        "\n",
        "# Print AUC-ROC scores\n",
        "print(\"\\nAUC-ROC Score for Training Set:\", train_auc_score)\n",
        "print(\"AUC-ROC Score for Testing Set:\", test_auc_score)"
      ],
      "metadata": {
        "colab": {
          "base_uri": "https://localhost:8080/"
        },
        "id": "_BVJXOMZr2mq",
        "outputId": "14012862-d6ca-419e-eb3e-a5f9a5d07568"
      },
      "execution_count": 42,
      "outputs": [
        {
          "output_type": "stream",
          "name": "stdout",
          "text": [
            "\n",
            "AUC-ROC Score for Training Set: 1.0\n",
            "AUC-ROC Score for Testing Set: 0.8897812251607287\n"
          ]
        }
      ]
    },
    {
      "cell_type": "code",
      "source": [],
      "metadata": {
        "id": "aoZ7xMUWr2c6"
      },
      "execution_count": null,
      "outputs": []
    },
    {
      "cell_type": "markdown",
      "source": [
        "XG boost"
      ],
      "metadata": {
        "id": "_nyO0JVqsPq-"
      }
    },
    {
      "cell_type": "code",
      "execution_count": 189,
      "metadata": {
        "colab": {
          "base_uri": "https://localhost:8080/"
        },
        "id": "wbUq29WXcjHL",
        "outputId": "4322e5cf-5d56-4e4f-a8c2-e4cad2b35674"
      },
      "outputs": [
        {
          "output_type": "stream",
          "name": "stdout",
          "text": [
            "\n",
            "Classification Report for Training Set:\n",
            "              precision    recall  f1-score   support\n",
            "\n",
            "         0.0       1.00      0.99      1.00      7023\n",
            "         1.0       0.99      1.00      1.00      7023\n",
            "\n",
            "    accuracy                           1.00     14046\n",
            "   macro avg       1.00      1.00      1.00     14046\n",
            "weighted avg       1.00      1.00      1.00     14046\n",
            "\n",
            "\n",
            "Classification Report for Testing Set:\n",
            "              precision    recall  f1-score   support\n",
            "\n",
            "         0.0       0.98      0.97      0.98      2341\n",
            "         1.0       0.86      0.92      0.89       474\n",
            "\n",
            "    accuracy                           0.96      2815\n",
            "   macro avg       0.92      0.95      0.93      2815\n",
            "weighted avg       0.96      0.96      0.96      2815\n",
            "\n"
          ]
        }
      ],
      "source": [
        "from xgboost import XGBClassifier\n",
        "from sklearn.metrics import classification_report\n",
        "\n",
        "# Create the XGBoost Classifier\n",
        "xgb_model = XGBClassifier(random_state=42)\n",
        "\n",
        "# Train the model\n",
        "xgb_model.fit(X_train_resampled, y_train_resampled)\n",
        "\n",
        "# Make predictions on the train and test sets\n",
        "y_train_probs = xgb_model.predict_proba(X_train_resampled)[:, 1]\n",
        "y_test_probs = xgb_model.predict_proba(X_test)[:, 1]\n",
        "\n",
        "# Set a custom threshold (e.g., 0.25)\n",
        "custom_threshold = 0.25\n",
        "\n",
        "# Apply the custom threshold\n",
        "y_train_pred = (y_train_probs >= custom_threshold).astype(int)\n",
        "y_test_pred = (y_test_probs >= custom_threshold).astype(int)\n",
        "\n",
        "# Generate the classification reports\n",
        "train_report = classification_report(y_train_resampled, y_train_pred)\n",
        "test_report = classification_report(y_test, y_test_pred)\n",
        "\n",
        "# Printing the reports\n",
        "print(\"\\nClassification Report for Training Set:\")\n",
        "print(train_report)\n",
        "\n",
        "print(\"\\nClassification Report for Testing Set:\")\n",
        "print(test_report)\n"
      ]
    },
    {
      "cell_type": "code",
      "source": [
        "train_auc_score = roc_auc_score(y_train_resampled, y_train_probs)\n",
        "\n",
        "# Calculate AUC-ROC score for testing set\n",
        "test_auc_score = roc_auc_score(y_test, y_test_probs)\n",
        "\n",
        "# Print AUC-ROC scores\n",
        "print(\"\\nAUC-ROC Score for Training Set:\", train_auc_score)\n",
        "print(\"AUC-ROC Score for Testing Set:\", test_auc_score)"
      ],
      "metadata": {
        "colab": {
          "base_uri": "https://localhost:8080/"
        },
        "id": "4XDjnS0bsi7-",
        "outputId": "98a04326-180f-4c4e-83d9-c09375984a8f"
      },
      "execution_count": 190,
      "outputs": [
        {
          "output_type": "stream",
          "name": "stdout",
          "text": [
            "\n",
            "AUC-ROC Score for Training Set: 0.9999893355022407\n",
            "AUC-ROC Score for Testing Set: 0.9882186378571672\n"
          ]
        }
      ]
    },
    {
      "cell_type": "code",
      "execution_count": 45,
      "metadata": {
        "colab": {
          "base_uri": "https://localhost:8080/"
        },
        "id": "uRGBfnI_EHQo",
        "outputId": "df05f6c1-aff3-4711-af49-1e325aedda8c"
      },
      "outputs": [
        {
          "output_type": "stream",
          "name": "stdout",
          "text": [
            "Best Hyperparameters: {'learning_rate': 0.1, 'max_depth': 10, 'n_estimators': 300}\n",
            "\n",
            "Classification Report for Training Set:\n",
            "              precision    recall  f1-score   support\n",
            "\n",
            "         0.0       1.00      1.00      1.00      7023\n",
            "         1.0       1.00      1.00      1.00      7023\n",
            "\n",
            "    accuracy                           1.00     14046\n",
            "   macro avg       1.00      1.00      1.00     14046\n",
            "weighted avg       1.00      1.00      1.00     14046\n",
            "\n",
            "\n",
            "Classification Report for Testing Set:\n",
            "              precision    recall  f1-score   support\n",
            "\n",
            "         0.0       0.98      0.99      0.99      2341\n",
            "         1.0       0.97      0.90      0.94       474\n",
            "\n",
            "    accuracy                           0.98      2815\n",
            "   macro avg       0.98      0.95      0.96      2815\n",
            "weighted avg       0.98      0.98      0.98      2815\n",
            "\n"
          ]
        }
      ],
      "source": [
        "from xgboost import XGBClassifier\n",
        "from sklearn.metrics import classification_report\n",
        "from sklearn.model_selection import GridSearchCV\n",
        "\n",
        "# Define the parameter grid\n",
        "param_grid = {\n",
        "    'n_estimators': [300],\n",
        "    'max_depth': [3, 4, 5,6,7,8,9,10],\n",
        "    'learning_rate': [0.01, 0.1, 0.2]\n",
        "}\n",
        "\n",
        "# Create the XGBoost Classifier\n",
        "xgb_model = XGBClassifier(random_state=42)\n",
        "\n",
        "# Create GridSearchCV object\n",
        "grid_search = GridSearchCV(estimator=xgb_model, param_grid=param_grid, scoring='accuracy', cv=5)\n",
        "\n",
        "# Train the model\n",
        "grid_search.fit(X_train_resampled, y_train_resampled)\n",
        "\n",
        "# Get the best parameters and the best model\n",
        "best_params = grid_search.best_params_\n",
        "best_model = grid_search.best_estimator_\n",
        "\n",
        "# Make predictions on the train and test sets\n",
        "y_train_probs = best_model.predict_proba(X_train_resampled)[:, 1]\n",
        "y_test_probs = best_model.predict_proba(X_test)[:, 1]\n",
        "\n",
        "# Set a custom threshold (e.g., 0.25)\n",
        "custom_threshold = 0.5\n",
        "\n",
        "# Apply the custom threshold\n",
        "y_train_pred = (y_train_probs >= custom_threshold).astype(int)\n",
        "y_test_pred = (y_test_probs >= custom_threshold).astype(int)\n",
        "\n",
        "# Generate the classification reports\n",
        "train_report = classification_report(y_train_resampled, y_train_pred)\n",
        "test_report = classification_report(y_test, y_test_pred)\n",
        "\n",
        "# Printing the reports and best parameters\n",
        "print(\"Best Hyperparameters:\", best_params)\n",
        "\n",
        "print(\"\\nClassification Report for Training Set:\")\n",
        "print(train_report)\n",
        "\n",
        "print(\"\\nClassification Report for Testing Set:\")\n",
        "print(test_report)\n"
      ]
    },
    {
      "cell_type": "code",
      "execution_count": 383,
      "metadata": {
        "colab": {
          "base_uri": "https://localhost:8080/"
        },
        "id": "98ureoEM40f5",
        "outputId": "b1c64b2e-3bec-4b5b-a98d-b06661d83514"
      },
      "outputs": [
        {
          "output_type": "stream",
          "name": "stdout",
          "text": [
            "\n",
            "Classification Report for Training Set:\n",
            "              precision    recall  f1-score   support\n",
            "\n",
            "         0.0       1.00      1.00      1.00      7023\n",
            "         1.0       1.00      1.00      1.00      7023\n",
            "\n",
            "    accuracy                           1.00     14046\n",
            "   macro avg       1.00      1.00      1.00     14046\n",
            "weighted avg       1.00      1.00      1.00     14046\n",
            "\n",
            "\n",
            "Classification Report for Testing Set:\n",
            "              precision    recall  f1-score   support\n",
            "\n",
            "         0.0       0.99      0.98      0.98      2341\n",
            "         1.0       0.91      0.95      0.93       474\n",
            "\n",
            "    accuracy                           0.97      2815\n",
            "   macro avg       0.95      0.96      0.96      2815\n",
            "weighted avg       0.98      0.97      0.97      2815\n",
            "\n"
          ]
        }
      ],
      "source": [
        "from xgboost import XGBClassifier\n",
        "from sklearn.metrics import classification_report\n",
        "\n",
        "# Create the XGBoost Classifier\n",
        "xgb_model = XGBClassifier(n_estimators= 300,random_state=42)\n",
        "\n",
        "# Train the model\n",
        "xgb_model.fit(X_train_resampled, y_train_resampled)\n",
        "\n",
        "# Make predictions on the train and test sets\n",
        "y_train_probs = xgb_model.predict_proba(X_train_resampled)[:, 1]\n",
        "y_test_probs = xgb_model.predict_proba(X_test)[:, 1]\n",
        "\n",
        "# Set a custom threshold (e.g., 0.25)\n",
        "custom_threshold = 0.15\n",
        "\n",
        "# Apply the custom threshold\n",
        "y_train_pred = (y_train_probs >= custom_threshold).astype(int)\n",
        "y_test_pred = (y_test_probs >= custom_threshold).astype(int)\n",
        "\n",
        "# Generate the classification reports\n",
        "train_report = classification_report(y_train_resampled, y_train_pred)\n",
        "test_report = classification_report(y_test, y_test_pred)\n",
        "\n",
        "# Printing the reports\n",
        "print(\"\\nClassification Report for Training Set:\")\n",
        "print(train_report)\n",
        "\n",
        "print(\"\\nClassification Report for Testing Set:\")\n",
        "print(test_report)\n"
      ]
    },
    {
      "cell_type": "code",
      "source": [
        "import matplotlib.pyplot as plt"
      ],
      "metadata": {
        "id": "oZSDOL3QVw6x"
      },
      "execution_count": 75,
      "outputs": []
    },
    {
      "cell_type": "code",
      "source": [
        "xgb_model.feature_importances_"
      ],
      "metadata": {
        "colab": {
          "base_uri": "https://localhost:8080/"
        },
        "id": "MW_GA5VfVbOQ",
        "outputId": "8db8232c-fd94-4bfc-e22e-c5b9aeaa56e6"
      },
      "execution_count": 77,
      "outputs": [
        {
          "output_type": "execute_result",
          "data": {
            "text/plain": [
              "array([0.21522914, 0.04349194, 0.02322429, 0.02825629, 0.0192298 ,\n",
              "       0.0261136 , 0.1067938 , 0.06330141, 0.05126729, 0.0566631 ,\n",
              "       0.05206544, 0.13467908, 0.02820427, 0.05905667, 0.03346634,\n",
              "       0.01445717, 0.04450038], dtype=float32)"
            ]
          },
          "metadata": {},
          "execution_count": 77
        }
      ]
    },
    {
      "cell_type": "code",
      "source": [
        "import xgboost as xgb\n",
        "import matplotlib.pyplot as plt\n",
        "\n",
        "# Assuming you have a trained XGBoost model stored in the variable 'xgb_model'\n",
        "# and you have already obtained the feature importances\n",
        "\n",
        "# Get feature importance using built-in XGBoost function\n",
        "importance_type = 'gain'  # 'gain' is used to indicate the average gain of a feature\n",
        "feature_importances = xgb_model.get_booster().get_score(importance_type=importance_type)\n",
        "\n",
        "# Sort the feature importances in descending order\n",
        "sorted_feature_importances = sorted(feature_importances.items(), key=lambda x: x[1], reverse=True)\n",
        "\n",
        "# Extract the top five features and their importance scores\n",
        "top_five_features = sorted_feature_importances[:10]\n",
        "features, importances = zip(*top_five_features)\n",
        "\n",
        "# Create a bar chart\n",
        "plt.figure(figsize=(10, 6))\n",
        "plt.bar(features, importances, color='blue')\n",
        "plt.xlabel('Features')\n",
        "plt.ylabel('Importance')\n",
        "plt.title('Top 10 Feature Importances/ GAIN')\n",
        "plt.xticks(rotation=45)\n",
        "plt.show()\n",
        "\n",
        "\n"
      ],
      "metadata": {
        "colab": {
          "base_uri": "https://localhost:8080/",
          "height": 692
        },
        "id": "9CQrgEfBXTvO",
        "outputId": "c7db9bc3-aa8e-4568-ceb3-c6a1bfbd965c"
      },
      "execution_count": 395,
      "outputs": [
        {
          "output_type": "display_data",
          "data": {
            "text/plain": [
              "<Figure size 1000x600 with 1 Axes>"
            ],
            "image/png": "[encoded data removed]"
          },
          "metadata": {}
        }
      ]
    },
    {
      "cell_type": "code",
      "source": [
        "# Get feature importance using built-in XGBoost function\n",
        "importance_type = 'gain'  # Change to 'total_gain' to indicate the product of frequency and gain\n",
        "feature_importances = xgb_model.get_booster().get_score(importance_type=importance_type)\n",
        "\n",
        "# Sort the feature importances in descending order\n",
        "sorted_feature_importances = sorted(feature_importances.items(), key=lambda x: x[1], reverse=True)\n",
        "\n",
        "# Print the top features\n",
        "for feature, importance in sorted_feature_importances:\n",
        "    print(f\"Feature: {feature}, Importance: {importance}\")\n",
        "\n"
      ],
      "metadata": {
        "colab": {
          "base_uri": "https://localhost:8080/"
        },
        "id": "EIz8NwXnv6Ts",
        "outputId": "ac147bbb-745b-4ef0-d125-d0542115ae7b"
      },
      "execution_count": 397,
      "outputs": [
        {
          "output_type": "stream",
          "name": "stdout",
          "text": [
            "Feature: Tenure, Importance: 16.237136840820312\n",
            "Feature: Complain_ly, Importance: 10.160346031188965\n",
            "Feature: Account_user_count, Importance: 8.056648254394531\n",
            "Feature: account_segment, Importance: 4.775531768798828\n",
            "Feature: coupon_used_for_payment, Importance: 4.455304145812988\n",
            "Feature: Marital_Status, Importance: 4.2747297286987305\n",
            "Feature: rev_per_month, Importance: 3.927877426147461\n",
            "Feature: CC_Agent_Score, Importance: 3.867663860321045\n",
            "Feature: Login_device, Importance: 3.3571605682373047\n",
            "Feature: City_Tier, Importance: 3.2810823917388916\n",
            "Feature: Day_Since_CC_connect, Importance: 2.5247395038604736\n",
            "Feature: Payment, Importance: 2.1316874027252197\n",
            "Feature: rev_growth_yoy, Importance: 2.12776255607605\n",
            "Feature: Service_Score, Importance: 1.9700404405593872\n",
            "Feature: CC_Contacted_LY, Importance: 1.7520675659179688\n",
            "Feature: Gender, Importance: 1.4507184028625488\n",
            "Feature: cashback, Importance: 1.0906658172607422\n"
          ]
        }
      ]
    },
    {
      "cell_type": "code",
      "source": [
        "# Get feature importance using built-in XGBoost function\n",
        "importance_type = 'total_gain'  # Change to 'total_gain' to indicate the product of frequency and gain\n",
        "feature_importances = xgb_model.get_booster().get_score(importance_type=importance_type)\n",
        "\n",
        "# Sort the feature importances in descending order\n",
        "sorted_feature_importances = sorted(feature_importances.items(), key=lambda x: x[1], reverse=True)\n",
        "\n",
        "# Print the top features\n",
        "for feature, importance in sorted_feature_importances:\n",
        "    print(f\"Feature: {feature}, Importance: {importance}\")\n",
        "\n"
      ],
      "metadata": {
        "colab": {
          "base_uri": "https://localhost:8080/"
        },
        "id": "BpXn8omhbkJV",
        "outputId": "fc749bfb-fc83-423d-c82b-296ab67567a6"
      },
      "execution_count": 82,
      "outputs": [
        {
          "output_type": "stream",
          "name": "stdout",
          "text": [
            "Feature: Tenure, Importance: 13411.875\n",
            "Feature: rev_per_month, Importance: 2733.802734375\n",
            "Feature: Account_user_count, Importance: 2634.52392578125\n",
            "Feature: CC_Agent_Score, Importance: 2513.9814453125\n",
            "Feature: Complain_ly, Importance: 2021.9088134765625\n",
            "Feature: Day_Since_CC_connect, Importance: 1901.1287841796875\n",
            "Feature: rev_growth_yoy, Importance: 1804.3426513671875\n",
            "Feature: coupon_used_for_payment, Importance: 1541.5352783203125\n",
            "Feature: CC_Contacted_LY, Importance: 1540.0673828125\n",
            "Feature: account_segment, Importance: 1365.8021240234375\n",
            "Feature: Marital_Status, Importance: 1265.320068359375\n",
            "Feature: cashback, Importance: 1226.9990234375\n",
            "Feature: Payment, Importance: 1087.1605224609375\n",
            "Feature: City_Tier, Importance: 794.0219116210938\n",
            "Feature: Login_device, Importance: 735.2181396484375\n",
            "Feature: Service_Score, Importance: 555.5513916015625\n",
            "Feature: Gender, Importance: 393.1446838378906\n"
          ]
        }
      ]
    },
    {
      "cell_type": "code",
      "source": [
        "# Get feature importance using built-in XGBoost function\n",
        "importance_type = 'cover'  # Change to 'total_gain' to indicate the product of frequency and gain\n",
        "feature_importances = xgb_model.get_booster().get_score(importance_type=importance_type)\n",
        "\n",
        "# Sort the feature importances in descending order\n",
        "sorted_feature_importances = sorted(feature_importances.items(), key=lambda x: x[1], reverse=True)\n",
        "\n",
        "# Print the top features\n",
        "for feature, importance in sorted_feature_importances:\n",
        "    print(f\"Feature: {feature}, Importance: {importance}\")\n",
        "\n"
      ],
      "metadata": {
        "colab": {
          "base_uri": "https://localhost:8080/"
        },
        "id": "URMx9V9Ed5Xx",
        "outputId": "909e8635-7dc0-4b94-bfd7-923055dcd58f"
      },
      "execution_count": 85,
      "outputs": [
        {
          "output_type": "stream",
          "name": "stdout",
          "text": [
            "Feature: Complain_ly, Importance: 175.4073486328125\n",
            "Feature: Account_user_count, Importance: 124.99107360839844\n",
            "Feature: Tenure, Importance: 102.43067169189453\n",
            "Feature: rev_per_month, Importance: 86.81654357910156\n",
            "Feature: coupon_used_for_payment, Importance: 75.60319519042969\n",
            "Feature: account_segment, Importance: 65.74039459228516\n",
            "Feature: Marital_Status, Importance: 61.65998458862305\n",
            "Feature: Login_device, Importance: 52.21696090698242\n",
            "Feature: Service_Score, Importance: 51.29804611206055\n",
            "Feature: Day_Since_CC_connect, Importance: 46.32386016845703\n",
            "Feature: Payment, Importance: 44.41229248046875\n",
            "Feature: rev_growth_yoy, Importance: 43.144004821777344\n",
            "Feature: City_Tier, Importance: 41.6357421875\n",
            "Feature: cashback, Importance: 39.364192962646484\n",
            "Feature: CC_Agent_Score, Importance: 38.59601974487305\n",
            "Feature: CC_Contacted_LY, Importance: 35.25288772583008\n",
            "Feature: Gender, Importance: 20.865253448486328\n"
          ]
        }
      ]
    },
    {
      "cell_type": "code",
      "source": [
        "from sklearn.metrics import roc_auc_score\n",
        "from sklearn.inspection import permutation_importance\n",
        "\n",
        "# Assuming you have a trained xgb_model and X_test data\n",
        "\n",
        "# Define a custom scoring function based on AUC-ROC\n",
        "def custom_scorer(model, X, y):\n",
        "    y_probs = model.predict_proba(X)[:, 1]\n",
        "    return roc_auc_score(y, y_probs)\n",
        "\n",
        "# Calculate permutation feature importance\n",
        "perm_importance = permutation_importance(xgb_model, X_test, y_test, n_repeats=30, random_state=0, scoring=custom_scorer)\n",
        "\n",
        "# Get the feature importances\n",
        "sorted_indices = perm_importance.importances_mean.argsort()[::-1]\n",
        "\n",
        "# Print the top features\n",
        "for idx in sorted_indices:\n",
        "    print(f\"Feature: {X_test.columns[idx]}, Importance: {perm_importance.importances_mean[idx]:.4f}\")\n"
      ],
      "metadata": {
        "colab": {
          "base_uri": "https://localhost:8080/"
        },
        "id": "OONf3ILTgfO1",
        "outputId": "b81d6237-2b29-4ac7-a336-5fea477af32c"
      },
      "execution_count": 86,
      "outputs": [
        {
          "output_type": "stream",
          "name": "stdout",
          "text": [
            "Feature: Tenure, Importance: 0.1545\n",
            "Feature: Complain_ly, Importance: 0.0439\n",
            "Feature: CC_Agent_Score, Importance: 0.0185\n",
            "Feature: Day_Since_CC_connect, Importance: 0.0169\n",
            "Feature: rev_per_month, Importance: 0.0130\n",
            "Feature: account_segment, Importance: 0.0123\n",
            "Feature: Payment, Importance: 0.0111\n",
            "Feature: cashback, Importance: 0.0110\n",
            "Feature: Marital_Status, Importance: 0.0106\n",
            "Feature: rev_growth_yoy, Importance: 0.0100\n",
            "Feature: City_Tier, Importance: 0.0082\n",
            "Feature: CC_Contacted_LY, Importance: 0.0082\n",
            "Feature: Account_user_count, Importance: 0.0066\n",
            "Feature: Login_device, Importance: 0.0043\n",
            "Feature: coupon_used_for_payment, Importance: 0.0037\n",
            "Feature: Gender, Importance: 0.0036\n",
            "Feature: Service_Score, Importance: 0.0018\n"
          ]
        }
      ]
    },
    {
      "cell_type": "code",
      "source": [
        "pip install shap\n"
      ],
      "metadata": {
        "colab": {
          "base_uri": "https://localhost:8080/"
        },
        "id": "l0dG8y6Ij-iD",
        "outputId": "7ad8c9f1-c34a-443d-86bd-f9b88aaa3fb5"
      },
      "execution_count": 88,
      "outputs": [
        {
          "output_type": "stream",
          "name": "stdout",
          "text": [
            "Collecting shap\n",
            "  Downloading shap-0.42.1-cp310-cp310-manylinux_2_12_x86_64.manylinux2010_x86_64.manylinux_2_17_x86_64.manylinux2014_x86_64.whl (547 kB)\n",
            "\u001b[2K     \u001b[90m━━━━━━━━━━━━━━━━━━━━━━━━━━━━━━━━━━━━━━━\u001b[0m \u001b[32m547.9/547.9 kB\u001b[0m \u001b[31m5.0 MB/s\u001b[0m eta \u001b[36m0:00:00\u001b[0m\n",
            "\u001b[?25hRequirement already satisfied: numpy in /usr/local/lib/python3.10/dist-packages (from shap) (1.23.5)\n",
            "Requirement already satisfied: scipy in /usr/local/lib/python3.10/dist-packages (from shap) (1.10.1)\n",
            "Requirement already satisfied: scikit-learn in /usr/local/lib/python3.10/dist-packages (from shap) (1.2.2)\n",
            "Requirement already satisfied: pandas in /usr/local/lib/python3.10/dist-packages (from shap) (1.5.3)\n",
            "Requirement already satisfied: tqdm>=4.27.0 in /usr/local/lib/python3.10/dist-packages (from shap) (4.66.1)\n",
            "Requirement already satisfied: packaging>20.9 in /usr/local/lib/python3.10/dist-packages (from shap) (23.1)\n",
            "Collecting slicer==0.0.7 (from shap)\n",
            "  Downloading slicer-0.0.7-py3-none-any.whl (14 kB)\n",
            "Requirement already satisfied: numba in /usr/local/lib/python3.10/dist-packages (from shap) (0.56.4)\n",
            "Requirement already satisfied: cloudpickle in /usr/local/lib/python3.10/dist-packages (from shap) (2.2.1)\n",
            "Requirement already satisfied: llvmlite<0.40,>=0.39.0dev0 in /usr/local/lib/python3.10/dist-packages (from numba->shap) (0.39.1)\n",
            "Requirement already satisfied: setuptools in /usr/local/lib/python3.10/dist-packages (from numba->shap) (67.7.2)\n",
            "Requirement already satisfied: python-dateutil>=2.8.1 in /usr/local/lib/python3.10/dist-packages (from pandas->shap) (2.8.2)\n",
            "Requirement already satisfied: pytz>=2020.1 in /usr/local/lib/python3.10/dist-packages (from pandas->shap) (2023.3.post1)\n",
            "Requirement already satisfied: joblib>=1.1.1 in /usr/local/lib/python3.10/dist-packages (from scikit-learn->shap) (1.3.2)\n",
            "Requirement already satisfied: threadpoolctl>=2.0.0 in /usr/local/lib/python3.10/dist-packages (from scikit-learn->shap) (3.2.0)\n",
            "Requirement already satisfied: six>=1.5 in /usr/local/lib/python3.10/dist-packages (from python-dateutil>=2.8.1->pandas->shap) (1.16.0)\n",
            "Installing collected packages: slicer, shap\n",
            "Successfully installed shap-0.42.1 slicer-0.0.7\n"
          ]
        }
      ]
    },
    {
      "cell_type": "code",
      "source": [
        "import shap\n",
        "\n",
        "# Assuming xgb_model is already trained\n",
        "explainer = shap.Explainer(xgb_model)\n",
        "shap_values = explainer(X)\n",
        "\n",
        "# Summary plot\n",
        "shap.summary_plot(shap_values, X)\n",
        "\n"
      ],
      "metadata": {
        "colab": {
          "base_uri": "https://localhost:8080/",
          "height": 837
        },
        "id": "h6mqNB_Ij1fW",
        "outputId": "c9172490-df94-4d65-dff2-3568320873ac"
      },
      "execution_count": 89,
      "outputs": [
        {
          "output_type": "display_data",
          "data": {
            "text/plain": [
              "<Figure size 800x830 with 2 Axes>"
            ],
            "image/png": "[encoded data removed]"
          },
          "metadata": {}
        }
      ]
    },
    {
      "cell_type": "code",
      "source": [
        "train_auc_score = roc_auc_score(y_train_resampled, y_train_probs)\n",
        "\n",
        "# Calculate AUC-ROC score for testing set\n",
        "test_auc_score = roc_auc_score(y_test, y_test_probs)\n",
        "\n",
        "# Print AUC-ROC scores\n",
        "print(\"\\nAUC-ROC Score for Training Set:\", train_auc_score)\n",
        "print(\"AUC-ROC Score for Testing Set:\", test_auc_score)"
      ],
      "metadata": {
        "colab": {
          "base_uri": "https://localhost:8080/"
        },
        "id": "96RlLZa-xSUo",
        "outputId": "9f8c8f82-44fe-404d-a8bd-c2aa28cc95d5"
      },
      "execution_count": 72,
      "outputs": [
        {
          "output_type": "stream",
          "name": "stdout",
          "text": [
            "\n",
            "AUC-ROC Score for Training Set: 1.0\n",
            "AUC-ROC Score for Testing Set: 0.9941629402127189\n"
          ]
        }
      ]
    },
    {
      "cell_type": "code",
      "execution_count": 381,
      "metadata": {
        "colab": {
          "base_uri": "https://localhost:8080/",
          "height": 803
        },
        "id": "IUEkXLtfU_h1",
        "outputId": "7f3df3f3-6668-4161-a235-cd6401575ed4"
      },
      "outputs": [
        {
          "output_type": "display_data",
          "data": {
            "text/plain": [
              "<Figure size 600x400 with 2 Axes>"
            ],
            "image/png": "[encoded data removed]"
          },
          "metadata": {}
        },
        {
          "output_type": "display_data",
          "data": {
            "text/plain": [
              "<Figure size 600x400 with 2 Axes>"
            ],
            "image/png": "[encoded data removed]"
          },
          "metadata": {}
        }
      ],
      "source": [
        "import seaborn as sns\n",
        "import matplotlib.pyplot as plt\n",
        "from sklearn.metrics import confusion_matrix\n",
        "\n",
        "# Confusion Matrix for Training Set\n",
        "confusion_train = confusion_matrix(y_train_resampled, y_train_pred)\n",
        "plt.figure(figsize=(6, 4))\n",
        "sns.heatmap(confusion_train, annot=True, fmt='d', cmap='Blues',\n",
        "            xticklabels=['Predicted 0', 'Predicted 1'],\n",
        "            yticklabels=['Actual 0', 'Actual 1'])\n",
        "plt.xlabel('Predicted')\n",
        "plt.ylabel('Actual')\n",
        "plt.title('Confusion Matrix - Training Set')\n",
        "plt.show()\n",
        "\n",
        "# Confusion Matrix for Testing Set\n",
        "confusion_test = confusion_matrix(y_test, y_test_pred)\n",
        "plt.figure(figsize=(6, 4))\n",
        "sns.heatmap(confusion_test, annot=True, fmt='d', cmap='Blues',\n",
        "            xticklabels=['Predicted 0', 'Predicted 1'],\n",
        "            yticklabels=['Actual 0', 'Actual 1'])\n",
        "plt.xlabel('Predicted')\n",
        "plt.ylabel('Actual')\n",
        "plt.title('Confusion Matrix - Testing Set')\n",
        "plt.show()\n"
      ]
    },
    {
      "cell_type": "code",
      "source": [
        "confusion_test"
      ],
      "metadata": {
        "colab": {
          "base_uri": "https://localhost:8080/"
        },
        "id": "djG2cp4Jmb5R",
        "outputId": "13376ba3-044d-4eb9-b754-9112ea7e9dae"
      },
      "execution_count": 382,
      "outputs": [
        {
          "output_type": "execute_result",
          "data": {
            "text/plain": [
              "array([[2296,   45],\n",
              "       [  26,  448]])"
            ]
          },
          "metadata": {},
          "execution_count": 382
        }
      ]
    },
    {
      "cell_type": "code",
      "execution_count": 67,
      "metadata": {
        "colab": {
          "base_uri": "https://localhost:8080/",
          "height": 410
        },
        "id": "nnnwBAlaVVoE",
        "outputId": "f6d3d50d-7503-419b-9f56-ca0d65f9e430"
      },
      "outputs": [
        {
          "output_type": "display_data",
          "data": {
            "text/plain": [
              "<Figure size 600x400 with 1 Axes>"
            ],
            "image/png": "[encoded data removed]"
          },
          "metadata": {}
        }
      ],
      "source": [
        "from sklearn.metrics import roc_curve, roc_auc_score\n",
        "import matplotlib.pyplot as plt\n",
        "\n",
        "# Calculate AUC-ROC for Training Set\n",
        "fpr_train, tpr_train, thresholds_train = roc_curve(y_train_resampled, y_train_probs)\n",
        "roc_auc_train = roc_auc_score(y_train_resampled, y_train_probs)\n",
        "\n",
        "# Calculate AUC-ROC for Testing Set\n",
        "fpr_test, tpr_test, thresholds_test = roc_curve(y_test, y_test_probs)\n",
        "roc_auc_test = roc_auc_score(y_test, y_test_probs)\n",
        "\n",
        "# Plotting AUC-ROC Curve\n",
        "plt.figure(figsize=(6, 4))\n",
        "plt.plot(fpr_train, tpr_train, color='blue', lw=2, label='Train ROC curve (area = %0.2f)' % roc_auc_train)\n",
        "plt.plot(fpr_test, tpr_test, color='darkorange', lw=2, label='Test ROC curve (area = %0.2f)' % roc_auc_test)\n",
        "plt.plot([0, 1], [0, 1], color='navy', lw=2, linestyle='--')\n",
        "plt.xlabel('False Positive Rate')\n",
        "plt.ylabel('True Positive Rate')\n",
        "plt.title('Receiver Operating Characteristic (ROC) Curve')\n",
        "plt.legend(loc='lower right')\n",
        "plt.show()\n"
      ]
    },
    {
      "cell_type": "markdown",
      "source": [
        "Light GBM"
      ],
      "metadata": {
        "id": "tMIr9T6Sxgmf"
      }
    },
    {
      "cell_type": "code",
      "execution_count": 74,
      "metadata": {
        "colab": {
          "base_uri": "https://localhost:8080/"
        },
        "id": "BRwf75Sc40dZ",
        "outputId": "fc1fa43a-0607-4968-a471-e1fa79a913ca"
      },
      "outputs": [
        {
          "output_type": "stream",
          "name": "stdout",
          "text": [
            "[LightGBM] [Info] Number of positive: 7023, number of negative: 7023\n",
            "[LightGBM] [Warning] Auto-choosing row-wise multi-threading, the overhead of testing was 0.001489 seconds.\n",
            "You can set `force_row_wise=true` to remove the overhead.\n",
            "And if memory is not enough, you can set `force_col_wise=true`.\n",
            "[LightGBM] [Info] Total Bins 3590\n",
            "[LightGBM] [Info] Number of data points in the train set: 14046, number of used features: 17\n",
            "[LightGBM] [Info] [binary:BoostFromScore]: pavg=0.500000 -> initscore=0.000000\n",
            "\n",
            "Classification Report for Training Set:\n",
            "              precision    recall  f1-score   support\n",
            "\n",
            "         0.0       0.98      0.99      0.99      7023\n",
            "         1.0       0.99      0.98      0.99      7023\n",
            "\n",
            "    accuracy                           0.99     14046\n",
            "   macro avg       0.99      0.99      0.99     14046\n",
            "weighted avg       0.99      0.99      0.99     14046\n",
            "\n",
            "\n",
            "Classification Report for Testing Set:\n",
            "              precision    recall  f1-score   support\n",
            "\n",
            "         0.0       0.96      0.98      0.97      2341\n",
            "         1.0       0.87      0.81      0.84       474\n",
            "\n",
            "    accuracy                           0.95      2815\n",
            "   macro avg       0.92      0.89      0.90      2815\n",
            "weighted avg       0.95      0.95      0.95      2815\n",
            "\n"
          ]
        }
      ],
      "source": [
        "import lightgbm as lgb\n",
        "from sklearn.metrics import classification_report\n",
        "\n",
        "# Create the LightGBM Classifier\n",
        "lgb_model = lgb.LGBMClassifier( random_state=42)\n",
        "\n",
        "# Train the model\n",
        "lgb_model.fit(X_train_resampled, y_train_resampled)\n",
        "\n",
        "# Make predictions on the train and test sets\n",
        "y_train_probs = lgb_model.predict_proba(X_train_resampled)[:, 1]\n",
        "y_test_probs = lgb_model.predict_proba(X_test)[:, 1]\n",
        "\n",
        "# Set a custom threshold (e.g., 0.25)\n",
        "custom_threshold = 0.5\n",
        "\n",
        "# Apply the custom threshold\n",
        "y_train_pred = (y_train_probs >= custom_threshold).astype(int)\n",
        "y_test_pred = (y_test_probs >= custom_threshold).astype(int)\n",
        "\n",
        "# Generate the classification reports\n",
        "train_report = classification_report(y_train_resampled, y_train_pred)\n",
        "test_report = classification_report(y_test, y_test_pred)\n",
        "\n",
        "# Printing the reports\n",
        "print(\"\\nClassification Report for Training Set:\")\n",
        "print(train_report)\n",
        "\n",
        "print(\"\\nClassification Report for Testing Set:\")\n",
        "print(test_report)\n"
      ]
    },
    {
      "cell_type": "code",
      "source": [
        "train_auc_score = roc_auc_score(y_train_resampled, y_train_probs)\n",
        "\n",
        "# Calculate AUC-ROC score for testing set\n",
        "test_auc_score = roc_auc_score(y_test, y_test_probs)\n",
        "\n",
        "# Print AUC-ROC scores\n",
        "print(\"\\nAUC-ROC Score for Training Set:\", train_auc_score)\n",
        "print(\"AUC-ROC Score for Testing Set:\", test_auc_score)"
      ],
      "metadata": {
        "colab": {
          "base_uri": "https://localhost:8080/"
        },
        "id": "ZIibzxo6xv6y",
        "outputId": "784b8941-97e3-48bb-d056-a7e68b407e19"
      },
      "execution_count": 75,
      "outputs": [
        {
          "output_type": "stream",
          "name": "stdout",
          "text": [
            "\n",
            "AUC-ROC Score for Training Set: 0.9990709924870236\n",
            "AUC-ROC Score for Testing Set: 0.9784956120666815\n"
          ]
        }
      ]
    },
    {
      "cell_type": "code",
      "source": [
        "import lightgbm as lgb\n",
        "from sklearn.metrics import classification_report\n",
        "from sklearn.model_selection import GridSearchCV\n",
        "\n",
        "# Define the hyperparameters you want to tune\n",
        "param_grid = {\n",
        "    'n_estimators': [100, 200, 300],\n",
        "    'learning_rate': [0.01, 0.1, 0.2],\n",
        "    'max_depth': [3, 4, 5]\n",
        "}\n",
        "\n",
        "# Create the base model\n",
        "base_model = lgb.LGBMClassifier(random_state=42)\n",
        "\n",
        "# Create the GridSearchCV object\n",
        "grid_search = GridSearchCV(estimator=base_model, param_grid=param_grid,\n",
        "                           scoring='accuracy', cv=5, n_jobs=-1)\n",
        "\n",
        "# Fit the GridSearchCV to the training data\n",
        "grid_search.fit(X_train_resampled, y_train_resampled)\n",
        "\n",
        "# Get the best parameters and the best model\n",
        "best_params = grid_search.best_params_\n",
        "best_model = grid_search.best_estimator_\n",
        "\n",
        "# Make predictions on the train and test sets\n",
        "y_train_probs = best_model.predict_proba(X_train_resampled)[:, 1]\n",
        "y_test_probs = best_model.predict_proba(X_test)[:, 1]\n",
        "\n",
        "# Set a custom threshold (e.g., 0.5)\n",
        "custom_threshold = 0.2\n",
        "\n",
        "# Apply the custom threshold\n",
        "y_train_pred = (y_train_probs >= custom_threshold).astype(int)\n",
        "y_test_pred = (y_test_probs >= custom_threshold).astype(int)\n",
        "\n",
        "# Generate the classification reports\n",
        "train_report = classification_report(y_train_resampled, y_train_pred)\n",
        "test_report = classification_report(y_test, y_test_pred)\n",
        "\n",
        "# Printing the reports and best parameters\n",
        "print(\"Best Hyperparameters:\", best_params)\n",
        "\n",
        "print(\"\\nClassification Report for Training Set:\")\n",
        "print(train_report)\n",
        "\n",
        "print(\"\\nClassification Report for Testing Set:\")\n",
        "print(test_report)\n"
      ],
      "metadata": {
        "colab": {
          "base_uri": "https://localhost:8080/"
        },
        "id": "LI7XaKiBx_Lb",
        "outputId": "2844108a-8e6d-4915-faea-41e7f1f065fc"
      },
      "execution_count": 78,
      "outputs": [
        {
          "output_type": "stream",
          "name": "stdout",
          "text": [
            "[LightGBM] [Warning] Accuracy may be bad since you didn't explicitly set num_leaves OR 2^max_depth > num_leaves. (num_leaves=31).\n",
            "[LightGBM] [Warning] Accuracy may be bad since you didn't explicitly set num_leaves OR 2^max_depth > num_leaves. (num_leaves=31).\n",
            "[LightGBM] [Info] Number of positive: 7023, number of negative: 7023\n",
            "[LightGBM] [Warning] Auto-choosing row-wise multi-threading, the overhead of testing was 0.002437 seconds.\n",
            "You can set `force_row_wise=true` to remove the overhead.\n",
            "And if memory is not enough, you can set `force_col_wise=true`.\n",
            "[LightGBM] [Info] Total Bins 3590\n",
            "[LightGBM] [Info] Number of data points in the train set: 14046, number of used features: 17\n",
            "[LightGBM] [Info] [binary:BoostFromScore]: pavg=0.500000 -> initscore=0.000000\n",
            "[LightGBM] [Warning] No further splits with positive gain, best gain: -inf\n",
            "[LightGBM] [Warning] No further splits with positive gain, best gain: -inf\n",
            "[LightGBM] [Warning] No further splits with positive gain, best gain: -inf\n",
            "[LightGBM] [Warning] No further splits with positive gain, best gain: -inf\n",
            "[LightGBM] [Warning] No further splits with positive gain, best gain: -inf\n",
            "[LightGBM] [Warning] No further splits with positive gain, best gain: -inf\n",
            "[LightGBM] [Warning] No further splits with positive gain, best gain: -inf\n",
            "[LightGBM] [Warning] No further splits with positive gain, best gain: -inf\n",
            "[LightGBM] [Warning] No further splits with positive gain, best gain: -inf\n",
            "[LightGBM] [Warning] No further splits with positive gain, best gain: -inf\n",
            "[LightGBM] [Warning] No further splits with positive gain, best gain: -inf\n",
            "[LightGBM] [Warning] No further splits with positive gain, best gain: -inf\n",
            "[LightGBM] [Warning] No further splits with positive gain, best gain: -inf\n",
            "[LightGBM] [Warning] No further splits with positive gain, best gain: -inf\n",
            "[LightGBM] [Warning] No further splits with positive gain, best gain: -inf\n",
            "[LightGBM] [Warning] No further splits with positive gain, best gain: -inf\n",
            "[LightGBM] [Warning] No further splits with positive gain, best gain: -inf\n",
            "[LightGBM] [Warning] No further splits with positive gain, best gain: -inf\n",
            "[LightGBM] [Warning] No further splits with positive gain, best gain: -inf\n",
            "[LightGBM] [Warning] No further splits with positive gain, best gain: -inf\n",
            "[LightGBM] [Warning] No further splits with positive gain, best gain: -inf\n",
            "[LightGBM] [Warning] No further splits with positive gain, best gain: -inf\n",
            "[LightGBM] [Warning] No further splits with positive gain, best gain: -inf\n",
            "[LightGBM] [Warning] No further splits with positive gain, best gain: -inf\n",
            "[LightGBM] [Warning] No further splits with positive gain, best gain: -inf\n",
            "[LightGBM] [Warning] No further splits with positive gain, best gain: -inf\n",
            "[LightGBM] [Warning] No further splits with positive gain, best gain: -inf\n",
            "[LightGBM] [Warning] No further splits with positive gain, best gain: -inf\n",
            "[LightGBM] [Warning] No further splits with positive gain, best gain: -inf\n",
            "[LightGBM] [Warning] No further splits with positive gain, best gain: -inf\n",
            "[LightGBM] [Warning] No further splits with positive gain, best gain: -inf\n",
            "[LightGBM] [Warning] No further splits with positive gain, best gain: -inf\n",
            "[LightGBM] [Warning] No further splits with positive gain, best gain: -inf\n",
            "[LightGBM] [Warning] No further splits with positive gain, best gain: -inf\n",
            "[LightGBM] [Warning] No further splits with positive gain, best gain: -inf\n",
            "[LightGBM] [Warning] No further splits with positive gain, best gain: -inf\n",
            "[LightGBM] [Warning] No further splits with positive gain, best gain: -inf\n",
            "[LightGBM] [Warning] No further splits with positive gain, best gain: -inf\n",
            "[LightGBM] [Warning] No further splits with positive gain, best gain: -inf\n",
            "[LightGBM] [Warning] No further splits with positive gain, best gain: -inf\n",
            "[LightGBM] [Warning] No further splits with positive gain, best gain: -inf\n",
            "[LightGBM] [Warning] No further splits with positive gain, best gain: -inf\n",
            "[LightGBM] [Warning] No further splits with positive gain, best gain: -inf\n",
            "[LightGBM] [Warning] No further splits with positive gain, best gain: -inf\n",
            "[LightGBM] [Warning] No further splits with positive gain, best gain: -inf\n",
            "[LightGBM] [Warning] No further splits with positive gain, best gain: -inf\n",
            "[LightGBM] [Warning] No further splits with positive gain, best gain: -inf\n",
            "[LightGBM] [Warning] No further splits with positive gain, best gain: -inf\n",
            "[LightGBM] [Warning] No further splits with positive gain, best gain: -inf\n",
            "[LightGBM] [Warning] No further splits with positive gain, best gain: -inf\n",
            "[LightGBM] [Warning] No further splits with positive gain, best gain: -inf\n",
            "[LightGBM] [Warning] No further splits with positive gain, best gain: -inf\n",
            "[LightGBM] [Warning] No further splits with positive gain, best gain: -inf\n",
            "[LightGBM] [Warning] No further splits with positive gain, best gain: -inf\n",
            "[LightGBM] [Warning] No further splits with positive gain, best gain: -inf\n",
            "[LightGBM] [Warning] No further splits with positive gain, best gain: -inf\n",
            "[LightGBM] [Warning] No further splits with positive gain, best gain: -inf\n",
            "[LightGBM] [Warning] No further splits with positive gain, best gain: -inf\n",
            "[LightGBM] [Warning] No further splits with positive gain, best gain: -inf\n",
            "[LightGBM] [Warning] No further splits with positive gain, best gain: -inf\n",
            "[LightGBM] [Warning] No further splits with positive gain, best gain: -inf\n",
            "[LightGBM] [Warning] No further splits with positive gain, best gain: -inf\n",
            "[LightGBM] [Warning] No further splits with positive gain, best gain: -inf\n",
            "[LightGBM] [Warning] No further splits with positive gain, best gain: -inf\n",
            "[LightGBM] [Warning] No further splits with positive gain, best gain: -inf\n",
            "[LightGBM] [Warning] No further splits with positive gain, best gain: -inf\n",
            "[LightGBM] [Warning] No further splits with positive gain, best gain: -inf\n",
            "[LightGBM] [Warning] No further splits with positive gain, best gain: -inf\n",
            "[LightGBM] [Warning] No further splits with positive gain, best gain: -inf\n",
            "[LightGBM] [Warning] No further splits with positive gain, best gain: -inf\n",
            "[LightGBM] [Warning] No further splits with positive gain, best gain: -inf\n",
            "[LightGBM] [Warning] No further splits with positive gain, best gain: -inf\n",
            "[LightGBM] [Warning] No further splits with positive gain, best gain: -inf\n",
            "[LightGBM] [Warning] No further splits with positive gain, best gain: -inf\n",
            "[LightGBM] [Warning] No further splits with positive gain, best gain: -inf\n",
            "[LightGBM] [Warning] No further splits with positive gain, best gain: -inf\n",
            "[LightGBM] [Warning] No further splits with positive gain, best gain: -inf\n",
            "[LightGBM] [Warning] No further splits with positive gain, best gain: -inf\n",
            "[LightGBM] [Warning] No further splits with positive gain, best gain: -inf\n",
            "[LightGBM] [Warning] No further splits with positive gain, best gain: -inf\n",
            "[LightGBM] [Warning] No further splits with positive gain, best gain: -inf\n",
            "[LightGBM] [Warning] No further splits with positive gain, best gain: -inf\n",
            "[LightGBM] [Warning] No further splits with positive gain, best gain: -inf\n",
            "[LightGBM] [Warning] No further splits with positive gain, best gain: -inf\n",
            "[LightGBM] [Warning] No further splits with positive gain, best gain: -inf\n",
            "[LightGBM] [Warning] No further splits with positive gain, best gain: -inf\n",
            "[LightGBM] [Warning] No further splits with positive gain, best gain: -inf\n",
            "[LightGBM] [Warning] No further splits with positive gain, best gain: -inf\n",
            "[LightGBM] [Warning] No further splits with positive gain, best gain: -inf\n",
            "[LightGBM] [Warning] No further splits with positive gain, best gain: -inf\n",
            "[LightGBM] [Warning] No further splits with positive gain, best gain: -inf\n",
            "[LightGBM] [Warning] No further splits with positive gain, best gain: -inf\n",
            "[LightGBM] [Warning] No further splits with positive gain, best gain: -inf\n",
            "[LightGBM] [Warning] No further splits with positive gain, best gain: -inf\n",
            "[LightGBM] [Warning] No further splits with positive gain, best gain: -inf\n",
            "[LightGBM] [Warning] No further splits with positive gain, best gain: -inf\n",
            "[LightGBM] [Warning] No further splits with positive gain, best gain: -inf\n",
            "[LightGBM] [Warning] No further splits with positive gain, best gain: -inf\n",
            "[LightGBM] [Warning] No further splits with positive gain, best gain: -inf\n",
            "[LightGBM] [Warning] No further splits with positive gain, best gain: -inf\n",
            "[LightGBM] [Warning] No further splits with positive gain, best gain: -inf\n",
            "[LightGBM] [Warning] No further splits with positive gain, best gain: -inf\n",
            "[LightGBM] [Warning] No further splits with positive gain, best gain: -inf\n",
            "[LightGBM] [Warning] No further splits with positive gain, best gain: -inf\n",
            "[LightGBM] [Warning] No further splits with positive gain, best gain: -inf\n",
            "[LightGBM] [Warning] No further splits with positive gain, best gain: -inf\n",
            "[LightGBM] [Warning] No further splits with positive gain, best gain: -inf\n",
            "[LightGBM] [Warning] No further splits with positive gain, best gain: -inf\n",
            "[LightGBM] [Warning] No further splits with positive gain, best gain: -inf\n",
            "[LightGBM] [Warning] No further splits with positive gain, best gain: -inf\n",
            "[LightGBM] [Warning] No further splits with positive gain, best gain: -inf\n",
            "[LightGBM] [Warning] No further splits with positive gain, best gain: -inf\n",
            "[LightGBM] [Warning] No further splits with positive gain, best gain: -inf\n",
            "[LightGBM] [Warning] No further splits with positive gain, best gain: -inf\n",
            "[LightGBM] [Warning] No further splits with positive gain, best gain: -inf\n",
            "[LightGBM] [Warning] No further splits with positive gain, best gain: -inf\n",
            "[LightGBM] [Warning] No further splits with positive gain, best gain: -inf\n",
            "[LightGBM] [Warning] No further splits with positive gain, best gain: -inf\n",
            "[LightGBM] [Warning] No further splits with positive gain, best gain: -inf\n",
            "[LightGBM] [Warning] No further splits with positive gain, best gain: -inf\n",
            "[LightGBM] [Warning] No further splits with positive gain, best gain: -inf\n",
            "[LightGBM] [Warning] No further splits with positive gain, best gain: -inf\n",
            "[LightGBM] [Warning] No further splits with positive gain, best gain: -inf\n",
            "[LightGBM] [Warning] No further splits with positive gain, best gain: -inf\n",
            "[LightGBM] [Warning] No further splits with positive gain, best gain: -inf\n",
            "[LightGBM] [Warning] No further splits with positive gain, best gain: -inf\n",
            "[LightGBM] [Warning] No further splits with positive gain, best gain: -inf\n",
            "[LightGBM] [Warning] No further splits with positive gain, best gain: -inf\n",
            "[LightGBM] [Warning] No further splits with positive gain, best gain: -inf\n",
            "[LightGBM] [Warning] No further splits with positive gain, best gain: -inf\n",
            "[LightGBM] [Warning] No further splits with positive gain, best gain: -inf\n",
            "[LightGBM] [Warning] No further splits with positive gain, best gain: -inf\n",
            "[LightGBM] [Warning] No further splits with positive gain, best gain: -inf\n",
            "[LightGBM] [Warning] No further splits with positive gain, best gain: -inf\n",
            "[LightGBM] [Warning] No further splits with positive gain, best gain: -inf\n",
            "[LightGBM] [Warning] No further splits with positive gain, best gain: -inf\n",
            "[LightGBM] [Warning] No further splits with positive gain, best gain: -inf\n",
            "[LightGBM] [Warning] No further splits with positive gain, best gain: -inf\n",
            "[LightGBM] [Warning] No further splits with positive gain, best gain: -inf\n",
            "[LightGBM] [Warning] No further splits with positive gain, best gain: -inf\n",
            "[LightGBM] [Warning] No further splits with positive gain, best gain: -inf\n",
            "[LightGBM] [Warning] No further splits with positive gain, best gain: -inf\n",
            "[LightGBM] [Warning] No further splits with positive gain, best gain: -inf\n",
            "[LightGBM] [Warning] No further splits with positive gain, best gain: -inf\n",
            "[LightGBM] [Warning] No further splits with positive gain, best gain: -inf\n",
            "[LightGBM] [Warning] No further splits with positive gain, best gain: -inf\n",
            "[LightGBM] [Warning] No further splits with positive gain, best gain: -inf\n",
            "[LightGBM] [Warning] No further splits with positive gain, best gain: -inf\n",
            "[LightGBM] [Warning] No further splits with positive gain, best gain: -inf\n",
            "[LightGBM] [Warning] No further splits with positive gain, best gain: -inf\n",
            "[LightGBM] [Warning] No further splits with positive gain, best gain: -inf\n",
            "[LightGBM] [Warning] No further splits with positive gain, best gain: -inf\n",
            "[LightGBM] [Warning] No further splits with positive gain, best gain: -inf\n",
            "[LightGBM] [Warning] No further splits with positive gain, best gain: -inf\n",
            "[LightGBM] [Warning] No further splits with positive gain, best gain: -inf\n",
            "[LightGBM] [Warning] No further splits with positive gain, best gain: -inf\n",
            "[LightGBM] [Warning] No further splits with positive gain, best gain: -inf\n",
            "[LightGBM] [Warning] No further splits with positive gain, best gain: -inf\n",
            "[LightGBM] [Warning] No further splits with positive gain, best gain: -inf\n",
            "[LightGBM] [Warning] No further splits with positive gain, best gain: -inf\n",
            "[LightGBM] [Warning] No further splits with positive gain, best gain: -inf\n",
            "[LightGBM] [Warning] No further splits with positive gain, best gain: -inf\n",
            "[LightGBM] [Warning] No further splits with positive gain, best gain: -inf\n",
            "[LightGBM] [Warning] No further splits with positive gain, best gain: -inf\n",
            "[LightGBM] [Warning] No further splits with positive gain, best gain: -inf\n",
            "[LightGBM] [Warning] No further splits with positive gain, best gain: -inf\n",
            "[LightGBM] [Warning] No further splits with positive gain, best gain: -inf\n",
            "[LightGBM] [Warning] No further splits with positive gain, best gain: -inf\n",
            "[LightGBM] [Warning] No further splits with positive gain, best gain: -inf\n",
            "[LightGBM] [Warning] No further splits with positive gain, best gain: -inf\n",
            "[LightGBM] [Warning] No further splits with positive gain, best gain: -inf\n",
            "[LightGBM] [Warning] No further splits with positive gain, best gain: -inf\n",
            "[LightGBM] [Warning] No further splits with positive gain, best gain: -inf\n",
            "[LightGBM] [Warning] No further splits with positive gain, best gain: -inf\n",
            "[LightGBM] [Warning] No further splits with positive gain, best gain: -inf\n",
            "[LightGBM] [Warning] No further splits with positive gain, best gain: -inf\n",
            "[LightGBM] [Warning] No further splits with positive gain, best gain: -inf\n",
            "[LightGBM] [Warning] No further splits with positive gain, best gain: -inf\n",
            "[LightGBM] [Warning] No further splits with positive gain, best gain: -inf\n",
            "[LightGBM] [Warning] No further splits with positive gain, best gain: -inf\n",
            "[LightGBM] [Warning] No further splits with positive gain, best gain: -inf\n",
            "[LightGBM] [Warning] No further splits with positive gain, best gain: -inf\n",
            "[LightGBM] [Warning] No further splits with positive gain, best gain: -inf\n",
            "[LightGBM] [Warning] No further splits with positive gain, best gain: -inf\n",
            "[LightGBM] [Warning] No further splits with positive gain, best gain: -inf\n",
            "[LightGBM] [Warning] No further splits with positive gain, best gain: -inf\n",
            "[LightGBM] [Warning] No further splits with positive gain, best gain: -inf\n",
            "[LightGBM] [Warning] No further splits with positive gain, best gain: -inf\n",
            "[LightGBM] [Warning] No further splits with positive gain, best gain: -inf\n",
            "[LightGBM] [Warning] No further splits with positive gain, best gain: -inf\n",
            "[LightGBM] [Warning] No further splits with positive gain, best gain: -inf\n",
            "[LightGBM] [Warning] No further splits with positive gain, best gain: -inf\n",
            "[LightGBM] [Warning] No further splits with positive gain, best gain: -inf\n",
            "[LightGBM] [Warning] No further splits with positive gain, best gain: -inf\n",
            "[LightGBM] [Warning] No further splits with positive gain, best gain: -inf\n",
            "[LightGBM] [Warning] No further splits with positive gain, best gain: -inf\n",
            "[LightGBM] [Warning] No further splits with positive gain, best gain: -inf\n",
            "[LightGBM] [Warning] No further splits with positive gain, best gain: -inf\n",
            "[LightGBM] [Warning] No further splits with positive gain, best gain: -inf\n",
            "[LightGBM] [Warning] No further splits with positive gain, best gain: -inf\n",
            "[LightGBM] [Warning] No further splits with positive gain, best gain: -inf\n",
            "[LightGBM] [Warning] No further splits with positive gain, best gain: -inf\n",
            "[LightGBM] [Warning] No further splits with positive gain, best gain: -inf\n",
            "[LightGBM] [Warning] No further splits with positive gain, best gain: -inf\n",
            "[LightGBM] [Warning] No further splits with positive gain, best gain: -inf\n",
            "[LightGBM] [Warning] No further splits with positive gain, best gain: -inf\n",
            "[LightGBM] [Warning] Accuracy may be bad since you didn't explicitly set num_leaves OR 2^max_depth > num_leaves. (num_leaves=31).\n",
            "[LightGBM] [Warning] Accuracy may be bad since you didn't explicitly set num_leaves OR 2^max_depth > num_leaves. (num_leaves=31).\n",
            "Best Hyperparameters: {'learning_rate': 0.2, 'max_depth': 5, 'n_estimators': 300}\n",
            "\n",
            "Classification Report for Training Set:\n",
            "              precision    recall  f1-score   support\n",
            "\n",
            "         0.0       1.00      1.00      1.00      7023\n",
            "         1.0       1.00      1.00      1.00      7023\n",
            "\n",
            "    accuracy                           1.00     14046\n",
            "   macro avg       1.00      1.00      1.00     14046\n",
            "weighted avg       1.00      1.00      1.00     14046\n",
            "\n",
            "\n",
            "Classification Report for Testing Set:\n",
            "              precision    recall  f1-score   support\n",
            "\n",
            "         0.0       0.99      0.97      0.98      2341\n",
            "         1.0       0.88      0.94      0.91       474\n",
            "\n",
            "    accuracy                           0.97      2815\n",
            "   macro avg       0.93      0.96      0.94      2815\n",
            "weighted avg       0.97      0.97      0.97      2815\n",
            "\n"
          ]
        }
      ]
    },
    {
      "cell_type": "code",
      "source": [
        "train_auc = roc_auc_score(y_train_resampled, y_train_probs)\n",
        "\n",
        "# Calculate AUC score for testing set\n",
        "test_auc = roc_auc_score(y_test, y_test_probs)\n",
        "\n",
        "# Printing the AUC scores\n",
        "print(\"AUC Score for Training Set:\", train_auc)\n",
        "print(\"AUC Score for Testing Set:\", test_auc)"
      ],
      "metadata": {
        "colab": {
          "base_uri": "https://localhost:8080/"
        },
        "id": "lLNUgkFeyMbZ",
        "outputId": "1f0051e6-846f-4e16-9049-ea2943f04a86"
      },
      "execution_count": 77,
      "outputs": [
        {
          "output_type": "stream",
          "name": "stdout",
          "text": [
            "AUC Score for Training Set: 1.0\n",
            "AUC Score for Testing Set: 0.9922316727858014\n"
          ]
        }
      ]
    },
    {
      "cell_type": "code",
      "execution_count": 36,
      "metadata": {
        "colab": {
          "base_uri": "https://localhost:8080/"
        },
        "id": "5-D04GyZ7gof",
        "outputId": "ac8a7a62-934b-4f5b-9b50-6a6a8c7f8003"
      },
      "outputs": [
        {
          "output_type": "stream",
          "name": "stdout",
          "text": [
            "Collecting catboost\n",
            "  Downloading catboost-1.2.1-cp310-cp310-manylinux2014_x86_64.whl (98.7 MB)\n",
            "\u001b[2K     \u001b[90m━━━━━━━━━━━━━━━━━━━━━━━━━━━━━━━━━━━━━━━━\u001b[0m \u001b[32m98.7/98.7 MB\u001b[0m \u001b[31m6.8 MB/s\u001b[0m eta \u001b[36m0:00:00\u001b[0m\n",
            "\u001b[?25hRequirement already satisfied: graphviz in /usr/local/lib/python3.10/dist-packages (from catboost) (0.20.1)\n",
            "Requirement already satisfied: matplotlib in /usr/local/lib/python3.10/dist-packages (from catboost) (3.7.1)\n",
            "Requirement already satisfied: numpy>=1.16.0 in /usr/local/lib/python3.10/dist-packages (from catboost) (1.23.5)\n",
            "Requirement already satisfied: pandas>=0.24 in /usr/local/lib/python3.10/dist-packages (from catboost) (1.5.3)\n",
            "Requirement already satisfied: scipy in /usr/local/lib/python3.10/dist-packages (from catboost) (1.10.1)\n",
            "Requirement already satisfied: plotly in /usr/local/lib/python3.10/dist-packages (from catboost) (5.15.0)\n",
            "Requirement already satisfied: six in /usr/local/lib/python3.10/dist-packages (from catboost) (1.16.0)\n",
            "Requirement already satisfied: python-dateutil>=2.8.1 in /usr/local/lib/python3.10/dist-packages (from pandas>=0.24->catboost) (2.8.2)\n",
            "Requirement already satisfied: pytz>=2020.1 in /usr/local/lib/python3.10/dist-packages (from pandas>=0.24->catboost) (2023.3.post1)\n",
            "Requirement already satisfied: contourpy>=1.0.1 in /usr/local/lib/python3.10/dist-packages (from matplotlib->catboost) (1.1.0)\n",
            "Requirement already satisfied: cycler>=0.10 in /usr/local/lib/python3.10/dist-packages (from matplotlib->catboost) (0.11.0)\n",
            "Requirement already satisfied: fonttools>=4.22.0 in /usr/local/lib/python3.10/dist-packages (from matplotlib->catboost) (4.42.1)\n",
            "Requirement already satisfied: kiwisolver>=1.0.1 in /usr/local/lib/python3.10/dist-packages (from matplotlib->catboost) (1.4.5)\n",
            "Requirement already satisfied: packaging>=20.0 in /usr/local/lib/python3.10/dist-packages (from matplotlib->catboost) (23.1)\n",
            "Requirement already satisfied: pillow>=6.2.0 in /usr/local/lib/python3.10/dist-packages (from matplotlib->catboost) (9.4.0)\n",
            "Requirement already satisfied: pyparsing>=2.3.1 in /usr/local/lib/python3.10/dist-packages (from matplotlib->catboost) (3.1.1)\n",
            "Requirement already satisfied: tenacity>=6.2.0 in /usr/local/lib/python3.10/dist-packages (from plotly->catboost) (8.2.3)\n",
            "Installing collected packages: catboost\n",
            "Successfully installed catboost-1.2.1\n"
          ]
        }
      ],
      "source": [
        "pip install catboost\n"
      ]
    },
    {
      "cell_type": "code",
      "execution_count": 82,
      "metadata": {
        "colab": {
          "base_uri": "https://localhost:8080/"
        },
        "id": "eCNC7aTK40bI",
        "outputId": "1154c9c8-afb8-4b5c-978b-7c9dc6561253"
      },
      "outputs": [
        {
          "output_type": "stream",
          "name": "stdout",
          "text": [
            "\n",
            "Classification Report for Training Set:\n",
            "              precision    recall  f1-score   support\n",
            "\n",
            "         0.0       0.99      1.00      1.00      7023\n",
            "         1.0       1.00      0.99      1.00      7023\n",
            "\n",
            "    accuracy                           1.00     14046\n",
            "   macro avg       1.00      1.00      1.00     14046\n",
            "weighted avg       1.00      1.00      1.00     14046\n",
            "\n",
            "\n",
            "Classification Report for Testing Set:\n",
            "              precision    recall  f1-score   support\n",
            "\n",
            "         0.0       0.97      0.99      0.98      2341\n",
            "         1.0       0.93      0.86      0.89       474\n",
            "\n",
            "    accuracy                           0.96      2815\n",
            "   macro avg       0.95      0.92      0.94      2815\n",
            "weighted avg       0.96      0.96      0.96      2815\n",
            "\n"
          ]
        }
      ],
      "source": [
        "from catboost import CatBoostClassifier\n",
        "from sklearn.metrics import classification_report\n",
        "\n",
        "# Create the CatBoost Classifier\n",
        "catboost_model = CatBoostClassifier( random_state=42, verbose=0)\n",
        "\n",
        "# Train the model\n",
        "catboost_model.fit(X_train_resampled, y_train_resampled)\n",
        "\n",
        "# Make predictions on the train and test sets\n",
        "y_train_probs = catboost_model.predict_proba(X_train_resampled)[:, 1]\n",
        "y_test_probs = catboost_model.predict_proba(X_test)[:, 1]\n",
        "\n",
        "# Set a custom threshold (e.g., 0.25)\n",
        "custom_threshold = 0.5\n",
        "\n",
        "# Apply the custom threshold\n",
        "y_train_pred = (y_train_probs >= custom_threshold).astype(int)\n",
        "y_test_pred = (y_test_probs >= custom_threshold).astype(int)\n",
        "\n",
        "# Generate the classification reports\n",
        "train_report = classification_report(y_train_resampled, y_train_pred)\n",
        "test_report = classification_report(y_test, y_test_pred)\n",
        "\n",
        "# Printing the reports\n",
        "print(\"\\nClassification Report for Training Set:\")\n",
        "print(train_report)\n",
        "\n",
        "print(\"\\nClassification Report for Testing Set:\")\n",
        "print(test_report)\n"
      ]
    },
    {
      "cell_type": "code",
      "source": [
        "from sklearn.metrics import roc_auc_score\n",
        "\n",
        "# Calculate AUC score for training set\n",
        "train_auc = roc_auc_score(y_train_resampled, y_train_probs)\n",
        "\n",
        "# Calculate AUC score for testing set\n",
        "test_auc = roc_auc_score(y_test, y_test_probs)\n",
        "\n",
        "# Printing the AUC scores\n",
        "print(\"AUC Score for Training Set:\", train_auc)\n",
        "print(\"AUC Score for Testing Set:\", test_auc)\n"
      ],
      "metadata": {
        "colab": {
          "base_uri": "https://localhost:8080/"
        },
        "id": "Ao8Y7Yufyoie",
        "outputId": "dabc94aa-a18a-4bad-8da1-c34086917fd4"
      },
      "execution_count": 81,
      "outputs": [
        {
          "output_type": "stream",
          "name": "stdout",
          "text": [
            "AUC Score for Training Set: 0.9998585027949397\n",
            "AUC Score for Testing Set: 0.9883502127728603\n"
          ]
        }
      ]
    },
    {
      "cell_type": "code",
      "source": [
        "from catboost import CatBoostClassifier\n",
        "from sklearn.metrics import classification_report, roc_auc_score\n",
        "from sklearn.model_selection import GridSearchCV\n",
        "\n",
        "# Define the hyperparameters you want to tune\n",
        "param_grid = {\n",
        "    'depth': [4, 6, 8],\n",
        "    'learning_rate': [0.01, 0.1, 0.2],\n",
        "    'iterations': [100, 200, 300]\n",
        "}\n",
        "\n",
        "# Create the base model\n",
        "base_model = CatBoostClassifier(random_state=42, verbose=0)\n",
        "\n",
        "# Create the GridSearchCV object\n",
        "grid_search = GridSearchCV(estimator=base_model, param_grid=param_grid,\n",
        "                           scoring='accuracy', cv=5, n_jobs=-1)\n",
        "\n",
        "# Fit the GridSearchCV to the training data\n",
        "grid_search.fit(X_train_resampled, y_train_resampled)\n",
        "\n",
        "# Get the best parameters and the best model\n",
        "best_params = grid_search.best_params_\n",
        "best_model = grid_search.best_estimator_\n",
        "\n",
        "# Make predictions on the train and test sets\n",
        "y_train_probs = best_model.predict_proba(X_train_resampled)[:, 1]\n",
        "y_test_probs = best_model.predict_proba(X_test)[:, 1]\n",
        "\n",
        "# Calculate AUC score for training set\n",
        "train_auc = roc_auc_score(y_train_resampled, y_train_probs)\n",
        "\n",
        "# Calculate AUC score for testing set\n",
        "test_auc = roc_auc_score(y_test, y_test_probs)\n",
        "\n",
        "# Set a custom threshold (e.g., 0.5)\n",
        "custom_threshold = 0.5\n",
        "\n",
        "# Apply the custom threshold\n",
        "y_train_pred = (y_train_probs >= custom_threshold).astype(int)\n",
        "y_test_pred = (y_test_probs >= custom_threshold).astype(int)\n",
        "\n",
        "# Generate the classification reports\n",
        "train_report = classification_report(y_train_resampled, y_train_pred)\n",
        "test_report = classification_report(y_test, y_test_pred)\n",
        "\n",
        "# Printing the reports and best parameters\n",
        "print(\"Best Hyperparameters:\", best_params)\n",
        "\n",
        "print(\"\\nClassification Report for Training Set:\")\n",
        "print(train_report)\n",
        "\n",
        "print(\"\\nClassification Report for Testing Set:\")\n",
        "print(test_report)\n",
        "\n",
        "# Printing the AUC scores\n",
        "print(\"\\nAUC Score for Training Set:\", train_auc)\n",
        "print(\"AUC Score for Testing Set:\", test_auc)\n"
      ],
      "metadata": {
        "colab": {
          "base_uri": "https://localhost:8080/"
        },
        "id": "CjYF_oljywaA",
        "outputId": "8597b477-41c5-4f6b-aac1-ed7a8979e6f8"
      },
      "execution_count": 83,
      "outputs": [
        {
          "output_type": "stream",
          "name": "stdout",
          "text": [
            "Best Hyperparameters: {'depth': 8, 'iterations': 300, 'learning_rate': 0.2}\n",
            "\n",
            "Classification Report for Training Set:\n",
            "              precision    recall  f1-score   support\n",
            "\n",
            "         0.0       1.00      1.00      1.00      7023\n",
            "         1.0       1.00      1.00      1.00      7023\n",
            "\n",
            "    accuracy                           1.00     14046\n",
            "   macro avg       1.00      1.00      1.00     14046\n",
            "weighted avg       1.00      1.00      1.00     14046\n",
            "\n",
            "\n",
            "Classification Report for Testing Set:\n",
            "              precision    recall  f1-score   support\n",
            "\n",
            "         0.0       0.98      1.00      0.99      2341\n",
            "         1.0       0.98      0.91      0.94       474\n",
            "\n",
            "    accuracy                           0.98      2815\n",
            "   macro avg       0.98      0.95      0.97      2815\n",
            "weighted avg       0.98      0.98      0.98      2815\n",
            "\n",
            "\n",
            "AUC Score for Training Set: 1.0\n",
            "AUC Score for Testing Set: 0.9960572585194758\n"
          ]
        }
      ]
    },
    {
      "cell_type": "code",
      "execution_count": 273,
      "metadata": {
        "id": "HVWe5snBfzlk",
        "colab": {
          "base_uri": "https://localhost:8080/"
        },
        "outputId": "b7400843-f765-4760-c5cf-681945739a52"
      },
      "outputs": [
        {
          "output_type": "stream",
          "name": "stdout",
          "text": [
            "\n",
            "Classification Report for Training Set:\n",
            "              precision    recall  f1-score   support\n",
            "\n",
            "         0.0       1.00      1.00      1.00      7023\n",
            "         1.0       1.00      1.00      1.00      7023\n",
            "\n",
            "    accuracy                           1.00     14046\n",
            "   macro avg       1.00      1.00      1.00     14046\n",
            "weighted avg       1.00      1.00      1.00     14046\n",
            "\n",
            "\n",
            "Classification Report for Testing Set:\n",
            "              precision    recall  f1-score   support\n",
            "\n",
            "         0.0       0.99      0.98      0.99      2341\n",
            "         1.0       0.92      0.96      0.94       474\n",
            "\n",
            "    accuracy                           0.98      2815\n",
            "   macro avg       0.96      0.97      0.97      2815\n",
            "weighted avg       0.98      0.98      0.98      2815\n",
            "\n",
            "\n",
            "AUC Score for Training Set: 1.0\n",
            "AUC Score for Testing Set: 0.9960572585194758\n"
          ]
        }
      ],
      "source": [
        "from catboost import CatBoostClassifier\n",
        "from sklearn.metrics import classification_report, roc_auc_score\n",
        "\n",
        "# Create the CatBoost Classifier with specified hyperparameters\n",
        "catboost_model = CatBoostClassifier(\n",
        "    depth=8,\n",
        "    iterations=300,\n",
        "    learning_rate=0.2,\n",
        "    random_state=42,\n",
        "    verbose=0\n",
        ")\n",
        "\n",
        "# Train the model\n",
        "catboost_model.fit(X_train_resampled, y_train_resampled)\n",
        "\n",
        "# Make predictions on the train and test sets\n",
        "y_train_probs = catboost_model.predict_proba(X_train_resampled)[:, 1]\n",
        "y_test_probs = catboost_model.predict_proba(X_test)[:, 1]\n",
        "\n",
        "# Set a custom threshold (e.g., 0.5)\n",
        "custom_threshold = 0.22\n",
        "\n",
        "# Apply the custom threshold\n",
        "y_train_pred = (y_train_probs >= custom_threshold).astype(int)\n",
        "y_test_pred = (y_test_probs >= custom_threshold).astype(int)\n",
        "\n",
        "# Generate the classification reports\n",
        "train_report = classification_report(y_train_resampled, y_train_pred)\n",
        "test_report = classification_report(y_test, y_test_pred)\n",
        "\n",
        "# Printing the reports\n",
        "print(\"\\nClassification Report for Training Set:\")\n",
        "print(train_report)\n",
        "\n",
        "print(\"\\nClassification Report for Testing Set:\")\n",
        "print(test_report)\n",
        "\n",
        "# Calculate AUC score for training set\n",
        "train_auc = roc_auc_score(y_train_resampled, y_train_probs)\n",
        "\n",
        "# Calculate AUC score for testing set\n",
        "test_auc = roc_auc_score(y_test, y_test_probs)\n",
        "\n",
        "# Printing the AUC scores\n",
        "print(\"\\nAUC Score for Training Set:\", train_auc)\n",
        "print(\"AUC Score for Testing Set:\", test_auc)\n"
      ]
    },
    {
      "cell_type": "code",
      "source": [
        "import seaborn as sns\n",
        "import matplotlib.pyplot as plt\n",
        "\n",
        "# Define a function to plot confusion matrix\n",
        "def plot_confusion_matrix(matrix, title):\n",
        "    plt.figure(figsize=(6, 4))\n",
        "    sns.heatmap(matrix, annot=True, fmt='d', cmap='Blues', cbar=False,\n",
        "                xticklabels=['Predicted 0', 'Predicted 1'],\n",
        "                yticklabels=['Actual 0', 'Actual 1'])\n",
        "    plt.title(title)\n",
        "    plt.xlabel('Predicted')\n",
        "    plt.ylabel('Actual')\n",
        "    plt.show()\n",
        "\n",
        "# Calculate the confusion matrix for the training set\n",
        "train_confusion_matrix = confusion_matrix(y_train_resampled, y_train_pred)\n",
        "\n",
        "# Calculate the confusion matrix for the test set\n",
        "test_confusion_matrix = confusion_matrix(y_test, y_test_pred)\n",
        "\n",
        "# Print the confusion matrices with color\n",
        "plot_confusion_matrix(train_confusion_matrix, \"Confusion Matrix for Training Set\")\n",
        "plot_confusion_matrix(test_confusion_matrix, \"Confusion Matrix for Testing Set\")\n"
      ],
      "metadata": {
        "colab": {
          "base_uri": "https://localhost:8080/",
          "height": 803
        },
        "id": "F-2oRumr1OVd",
        "outputId": "c64c32cb-f1be-4dc4-da59-d432f53414d5"
      },
      "execution_count": 97,
      "outputs": [
        {
          "output_type": "display_data",
          "data": {
            "text/plain": [
              "<Figure size 600x400 with 1 Axes>"
            ],
            "image/png": "[encoded data removed]"
          },
          "metadata": {}
        },
        {
          "output_type": "display_data",
          "data": {
            "text/plain": [
              "<Figure size 600x400 with 1 Axes>"
            ],
            "image/png": "[encoded data removed]"
          },
          "metadata": {}
        }
      ]
    },
    {
      "cell_type": "code",
      "source": [
        "from sklearn.metrics import roc_curve, auc\n",
        "import matplotlib.pyplot as plt\n",
        "\n",
        "# Get the ROC curve values for training set\n",
        "fpr_train, tpr_train, thresholds_train = roc_curve(y_train_resampled, y_train_probs)\n",
        "\n",
        "# Get the ROC curve values for test set\n",
        "fpr_test, tpr_test, thresholds_test = roc_curve(y_test, y_test_probs)\n",
        "\n",
        "# Calculate the area under the ROC curve (AUC) for training set\n",
        "roc_auc_train = auc(fpr_train, tpr_train)\n",
        "\n",
        "# Calculate the area under the ROC curve (AUC) for test set\n",
        "roc_auc_test = auc(fpr_test, tpr_test)\n",
        "\n",
        "# Plot the ROC curves\n",
        "plt.figure(figsize=(6, 4))\n",
        "plt.plot(fpr_train, tpr_train, color='darkorange', lw=2, label='ROC curve (area = {:.2f})'.format(roc_auc_train))\n",
        "plt.plot(fpr_test, tpr_test, color='blue', lw=2, label='ROC curve (area = {:.2f})'.format(roc_auc_test))\n",
        "plt.plot([0, 1], [0, 1], color='gray', lw=1, linestyle='--')\n",
        "plt.xlabel('False Positive Rate')\n",
        "plt.ylabel('True Positive Rate')\n",
        "plt.title('Receiver Operating Characteristic (ROC) Curve')\n",
        "plt.legend(loc='lower right')\n",
        "plt.show()\n"
      ],
      "metadata": {
        "colab": {
          "base_uri": "https://localhost:8080/",
          "height": 410
        },
        "id": "idjrIJyO1cD9",
        "outputId": "4d0cbfe8-6347-4d25-bd79-cfe533184a17"
      },
      "execution_count": 99,
      "outputs": [
        {
          "output_type": "display_data",
          "data": {
            "text/plain": [
              "<Figure size 600x400 with 1 Axes>"
            ],
            "image/png": "[encoded data removed]"
          },
          "metadata": {}
        }
      ]
    },
    {
      "cell_type": "code",
      "source": [
        "from catboost import CatBoostClassifier, Pool, EFstrType\n",
        "\n",
        "# Assuming you have already trained the CatBoostClassifier and have your data in X_train_resampled and y_train_resampled\n",
        "\n",
        "# Create a Pool for the training data\n",
        "train_pool = Pool(X_train_resampled, y_train_resampled)\n",
        "\n",
        "# Get feature importances\n",
        "feature_importance = catboost_model.get_feature_importance(\n",
        "    data=train_pool,\n",
        "    type=EFstrType.LossFunctionChange,\n",
        "    prettified=False,\n",
        "    thread_count=-1,\n",
        "    verbose=False\n",
        ")\n",
        "\n",
        "# Get the feature names\n",
        "feature_names = catboost_model.feature_names_\n",
        "\n",
        "# Combine feature names with their corresponding importance scores\n",
        "feature_importance_dict = dict(zip(feature_names, feature_importance))\n",
        "\n",
        "# Sort the features by importance (descending order)\n",
        "sorted_features = sorted(feature_importance_dict.items(), key=lambda x: x[1], reverse=True)\n",
        "\n",
        "# Print the feature importance\n",
        "for feature, importance in sorted_features:\n",
        "    print(f\"{feature}: {importance}\")\n"
      ],
      "metadata": {
        "colab": {
          "base_uri": "https://localhost:8080/"
        },
        "id": "fJHW6iC0RN8-",
        "outputId": "ca6de5a2-0df0-42d3-93c3-a689f51932cc"
      },
      "execution_count": 73,
      "outputs": [
        {
          "output_type": "stream",
          "name": "stdout",
          "text": [
            "Tenure: 0.04592581731878642\n",
            "Complain_ly: 0.01018758128828869\n",
            "CC_Agent_Score: 0.00478788449369676\n",
            "Marital_Status: 0.0036865312511265035\n",
            "rev_per_month: 0.003188273093556963\n",
            "Day_Since_CC_connect: 0.0028758438877982124\n",
            "account_segment: 0.00273464281935963\n",
            "City_Tier: 0.0022543811552959646\n",
            "Payment: 0.0021433011319899674\n",
            "Account_user_count: 0.002068464980454394\n",
            "rev_growth_yoy: 0.00202444948526439\n",
            "CC_Contacted_LY: 0.0019893660883205703\n",
            "coupon_used_for_payment: 0.0015224015076932243\n",
            "cashback: 0.0012475507689941995\n",
            "Login_device: 0.0011683145949811058\n",
            "Gender: 0.00108648358679338\n",
            "Service_Score: 0.0006960357708964177\n"
          ]
        }
      ]
    },
    {
      "cell_type": "code",
      "source": [
        "import shap\n",
        "\n",
        "# Assuming xgb_model is already trained\n",
        "explainer = shap.Explainer(catboost_model)\n",
        "shap_values = explainer(X)\n",
        "\n",
        "# Summary plot\n",
        "shap.summary_plot(shap_values, X)\n"
      ],
      "metadata": {
        "colab": {
          "base_uri": "https://localhost:8080/",
          "height": 837
        },
        "id": "PIlIQ0deReDk",
        "outputId": "de0f8f12-37d9-4113-ee1a-4255eaa45801"
      },
      "execution_count": 274,
      "outputs": [
        {
          "output_type": "display_data",
          "data": {
            "text/plain": [
              "<Figure size 800x830 with 2 Axes>"
            ],
            "image/png": "[encoded data removed]"
          },
          "metadata": {}
        }
      ]
    },
    {
      "cell_type": "code",
      "source": [],
      "metadata": {
        "id": "EdhQ3Vzsw_fh"
      },
      "execution_count": null,
      "outputs": []
    }
  ],
  "metadata": {
    "colab": {
      "provenance": []
    },
    "kernelspec": {
      "display_name": "Python 3",
      "name": "python3"
    },
    "language_info": {
      "name": "python"
    }
  },
  "nbformat": 4,
  "nbformat_minor": 0
}